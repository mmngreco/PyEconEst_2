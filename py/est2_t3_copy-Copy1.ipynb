{
 "cells": [
  {
   "cell_type": "code",
   "execution_count": 1,
   "metadata": {
    "collapsed": false
   },
   "outputs": [],
   "source": [
    "#!/usr/bin/env python\n",
    "# -*- coding: utf-8 -*-\n",
    "\n",
    "from __future__ import division\n",
    "import numpy as np\n",
    "import scipy.stats as st\n",
    "import matplotlib as mpl\n",
    "import matplotlib.pyplot as plt\n",
    "import prettyplotlib as ppl\n",
    "import seaborn as sns\n",
    "from pylab import *\n",
    "sns.set(style=\"ticks\", palette=\"Set2\")\n",
    "sns.despine()\n",
    "%matplotlib inline\n"
   ]
  },
  {
   "cell_type": "markdown",
   "metadata": {},
   "source": [
    "$${x_1, x_2, ..., x_n} \\rightarrow \\mu = Media\\ muestral = 1/n\\sum{x_i}$$  \n",
    "\n",
    "- P(x > 7) ? {x_1, ..., x_n} independientes\n",
    "- x_i misma distribución que la población\n",
    "- $E(x) = \\mu $\n",
    "- $V(x) = \\sigma^2 < \\infty$\n",
    "- n ≥ 30\n",
    "$$ \\bar{x} \\sim \\ N(\\mu,\\frac{\\sigma}{\\sqrt{n}}) \\sum{x_i} \\sim \\ N(n\\mu, \\frac{\\sigma}{\\sqrt{n}}) $$\n",
    "\n",
    "12.- Se disena un ascensor **cuyo limite de carga es de 3150** kilogramos. Se indica que su capacidad **maxima es de 40 personas**. Si los pesos de todas las personas que utilizan el ascensor se suponen que estan **distribuidos alrededor de 75 kilogramos** con una **desviacion tipica de 22 kilogramos. **\n",
    "\n",
    "¿Cual es la **probabilidad** de que un **grupo de 38 personas** exceda el limite de carga del ascensor? (Suponer que se puede aplicar el TCL)\n",
    "\n",
    "### DATOS:\n",
    "---\n",
    "\n",
    "- 3150 = kg, Límite de carga\n",
    "- 40 = personas, carga máxima\n",
    "- 75 = kg, media por persona\n",
    "- 22 = kg, desviación típica\n",
    "\n",
    "### PROBLEMA:\n",
    "---\n",
    "\n",
    "- P(un grupo de 38 personas exceda el límite)\n",
    "\n",
    "##### X: nº de personas que exceden el límite ~ ¿Distrubución?\n",
    "- P(38 > 3150) >> P(38·75 > 3150) >> P(2850 > 3150)\n",
    "Hay que tener en cuenta que: $38·75 = n · E(x),\\ x \\sim VA$"
   ]
  },
  {
   "cell_type": "markdown",
   "metadata": {},
   "source": [
    "\n",
    "\n",
    "7.- Una empresa petrolera informa que **el precio medio** por galón de gasolina normal es** 3,26€ por litro** con una **desviación típica de 0,18€**. Seleccionamos al azar una muestra de **40 estaciones de gasolina **y calculamos el **coste medio de gasolina normal**. Si la distribución de dicho coste es normal, calcular\n",
    "a. Probabilidad de que la media de la muestra oscile entre 3,24€ y 3,28€\n",
    "b. Probabilidad de que la diferencia entre la media de la muestra y la media poblacional\n",
    "sea inferior a 0,01€\n",
    "c. Probabilidad de que la media de la muestra sea superior a 3,34€"
   ]
  },
  {
   "cell_type": "markdown",
   "metadata": {},
   "source": [
    "X: Precio gasolina ~ N(3.36, 0.18)\n",
    "\n",
    "D: {$x_1, ..., x_n$}\n",
    "\n",
    "**Precio medio muestral gasolineras:** $$\\bar{x} = \\frac{1}{n}\\sum_{i=1}^{40}{x_i}$$\n",
    "\n",
    "#### P(3.24 ≤ $\\bar{x}$ ≤ 3.28) = P(Z ≤ 3.28) - P(Z ≤ 3.24)"
   ]
  },
  {
   "cell_type": "code",
   "execution_count": 10,
   "metadata": {
    "collapsed": false
   },
   "outputs": [
    {
     "name": "stdout",
     "output_type": "stream",
     "text": [
      "Por tanto:\n",
      "–––––––––––––––––––––––––––––––––––––––\n",
      "P(3.24 ≤ x̄ ≤ 3.28) = 0.517774955244\n",
      "–––––––––––––––––––––––––––––––––––––––\n"
     ]
    }
   ],
   "source": [
    "k_inf = 3.24\n",
    "k_sup = 3.28\n",
    "n = 40\n",
    "mu = 3.26\n",
    "sigma = 0.18 / np.sqrt(n)\n",
    "\n",
    "p_inf = st.norm.cdf(k_inf, mu, sigma)\n",
    "p_sup = st.norm.cdf(k_sup, mu, sigma)\n",
    "\n",
    "print \"Por tanto:\"\n",
    "print \"–––––––––––––––––––––––––––––––––––––––\"\n",
    "print \"P(3.24 ≤ x̄ ≤ 3.28) =\", p_sup - p_inf\n",
    "print \"–––––––––––––––––––––––––––––––––––––––\""
   ]
  },
  {
   "cell_type": "markdown",
   "metadata": {},
   "source": [
    "17.- Una tienda se interesa en estimar su volumen de ventas diarias. Supóngase que el valor de la desviación típica es de 50 euros. Si el volumen de ventas se puede modelizar por una distribución normal, ¿cuál debe ser el tamaño de la muestra para que con una confianza del 95% la media muestral se encuentre a no más de 20 euros del verdadero volumen medio de ventas?\n",
    "\n",
    "### X: ventas diarias \n",
    "$$E(x) = \\mu$$\n",
    "\n",
    "ventas de cada día: {$x_1, x_2, x_3, ..., x_n$} \n",
    "\n",
    "$$\\sum\\frac{x_i}{n} = \\bar{x} \\rightarrow aproximación a\\ \\mu$$\n",
    "\n",
    "### ¿Cuantos días (n) cogemos?\n",
    "\n",
    "Planteamos:\n",
    "$\\bar{x} - \\mu \\rightarrow min \\left |{\\bar{x} - \\mu} \\right |$\n",
    "\n",
    "- $P \\{\\ \\left | \\bar{x} - \\mu \\right |\\ \\} < e  = P( \\left |\\bar{x} - \\mu \\right | < \\frac{e}{\\frac{\\sigma}{\\sqrt{n}}} ) $\n",
    "\n",
    "\n",
    "- $ P( \\left |z \\right | < \\frac{e}{\\frac{\\sigma}{\\sqrt{n}}} ) = \\frac{1 - \\alpha}{90\\%}$\n",
    "\n",
    "\n",
    "- $ n = \\frac{Z^2_{\\frac{\\alpha}{2}}\\sigma^2}{e^2}$\n",
    "\n",
    "$\\sigma = 50$\n",
    "\n",
    "$nivel\\ de\\ confianza\\ (1 - \\alpha) = 0.95$"
   ]
  },
  {
   "cell_type": "code",
   "execution_count": 13,
   "metadata": {
    "collapsed": false
   },
   "outputs": [
    {
     "name": "stdout",
     "output_type": "stream",
     "text": [
      "-0.0627067779432\n"
     ]
    }
   ],
   "source": [
    "sigma = 50\n",
    "alpha = 0.05\n",
    "error = 20\n",
    "k_e = st.norm.ppf(1-alpha)\n",
    "print k_e"
   ]
  },
  {
   "cell_type": "code",
   "execution_count": 13,
   "metadata": {
    "collapsed": false
   },
   "outputs": [],
   "source": []
  },
  {
   "cell_type": "markdown",
   "metadata": {},
   "source": [
    "1. Si $\\sigma$ es desconocida, ESTIMARLA ($S^2_1$)\n",
    "2. X $\\sim Be (p)\\ \\rightarrow V(x) = P(1-p)$ $$\\rightarrow n = \\frac{Z^2_{\\frac{\\alpha}{2}}\\sigma^2}{e^2} \\rightarrow $$ ESTIMAR P: $$n = \\frac{Z^2_{\\frac{\\alpha}{2}}\\hat{p}(1-\\hat{p})}{e^2}$$\n",
    "3. X $\\sim Be (p)$ NO HAY APROX. DE \"P\" $\\rightarrow$ TOMAR EL PEOR VALOR DE \"P\" (LA MAYOR VARIANZA)\n",
    "\n",
    "$n = \\frac{Z^2_{\\frac{\\alpha}{2}}1/4}{e^2}$\n",
    "\n",
    "sea g(p) = p(1-p) = $p - p^2$\n",
    "\n",
    "g'(p) = 1-2p = 0 $\\rightarrow$ p=1/2"
   ]
  },
  {
   "cell_type": "code",
   "execution_count": 13,
   "metadata": {
    "collapsed": false
   },
   "outputs": [],
   "source": []
  },
  {
   "cell_type": "code",
   "execution_count": 13,
   "metadata": {
    "collapsed": false
   },
   "outputs": [],
   "source": []
  },
  {
   "cell_type": "markdown",
   "metadata": {},
   "source": [
    "14.- Suponga que se desea precisar el tamaño que ha de tener una muestra tomada **sin reemplazamiento** para **determinar el porcentaje de piezas defectuosas** de una población (en total **10.000 unidades**), supuesta esta proporción **no superior al 5%** y operando con una confianza del 95%. Calcular el **tamaño muestral** necesario si queremos que la proporción no difiera en más del 2% del porcentaje real.\n",
    "\n",
    "\n",
    "### DATOS:\n",
    "---\n",
    "\n",
    "- n = 10000 (!)\n",
    "- X: numero de piezas defectuosas\n",
    "- Nivel de confianza: 95%\n",
    "\n",
    "### INCÓGNICAS\n",
    "---\n",
    "D = {$x_1,...,x_n$}\n",
    "\n",
    "$x_i:$ Piezas defectuosas $\\sim Be(p)$\n",
    "\n",
    "p{ | $\\hat{p}$-$p$} | < 0.02} = 0.95\n",
    "\n",
    "p{ |z| < $\\frac{0.02}{\\sqrt{\\frac{p(1-p)}{n}}}$ } = 0.95\n",
    "\n",
    "**Suponemos la peor varianza**\n",
    "\n"
   ]
  },
  {
   "cell_type": "code",
   "execution_count": null,
   "metadata": {
    "collapsed": false
   },
   "outputs": [],
   "source": []
  }
 ],
 "metadata": {
  "kernelspec": {
   "display_name": "Python 2",
   "language": "python",
   "name": "python2"
  },
  "language_info": {
   "codemirror_mode": {
    "name": "ipython",
    "version": 2
   },
   "file_extension": ".py",
   "mimetype": "text/x-python",
   "name": "python",
   "nbconvert_exporter": "python",
   "pygments_lexer": "ipython2",
   "version": "2.7.9"
  }
 },
 "nbformat": 4,
 "nbformat_minor": 0
}
