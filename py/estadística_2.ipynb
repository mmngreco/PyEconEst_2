{
 "metadata": {
  "name": "",
  "signature": "sha256:edc8fe2146ec3fa34f7c202507014d181ae686eb2ed29cc85f400b72f1fbff44"
 },
 "nbformat": 3,
 "nbformat_minor": 0,
 "worksheets": [
  {
   "cells": [
    {
     "cell_type": "markdown",
     "metadata": {},
     "source": [
      "# ESTAD\u00cdSTICA 2:\n",
      "PROGRAMA:\n"
     ]
    },
    {
     "cell_type": "markdown",
     "metadata": {},
     "source": [
      "# Tema 1: 24. \n",
      "De una empresa el nu\u0301mero de accidentes laborales ocurridos en un di\u0301a se distribuye segu\u0301n una Poisson de media 0,1 y el porcentaje de absentismo laboral es de un 25%.\n",
      "\n",
      "- \u00bfCua\u0301l es la probabilidad de que ocurran 3 o ma\u0301s accidentes en dos meses (tomar los meses de 20 di\u0301as laborales)?\n",
      "\n",
      "- Si se extrae una muestra de 100 trabajadores de dicha empresa. \u00bfCua\u0301l es la probabilidad de que aparezcan a lo ma\u0301s 30 trabajadores en los que se haya producido absentismo laboral?"
     ]
    },
    {
     "cell_type": "markdown",
     "metadata": {},
     "source": [
      "x = n\u00famero de accidentes laborales por d\u00eda ~ $P(\\lambda=0.1)$\n",
      "- Poisson $\\lambda = 0.1$\n",
      "- P(absentismo) = 0.25\n"
     ]
    },
    {
     "cell_type": "markdown",
     "metadata": {},
     "source": [
      "## Preguntas:\n",
      "\n",
      "Probabilidad de que ocurran 3 o mas accidentes en dos meses\n",
      "transformar x de d\u00edas a meses:\n",
      "\n",
      "Poisson (0.1 * 20 * 2) = Poisson (4)\n",
      "\n",
      "$P(X \\geq 3) \\Rightarrow 1 - P(X \\leq 2),  x \\sim Poisson(4) $ "
     ]
    },
    {
     "cell_type": "code",
     "collapsed": false,
     "input": [],
     "language": "python",
     "metadata": {},
     "outputs": [],
     "prompt_number": 0
    },
    {
     "cell_type": "code",
     "collapsed": false,
     "input": [],
     "language": "python",
     "metadata": {},
     "outputs": [],
     "prompt_number": 0
    },
    {
     "cell_type": "code",
     "collapsed": false,
     "input": [],
     "language": "python",
     "metadata": {},
     "outputs": []
    }
   ],
   "metadata": {}
  }
 ]
}