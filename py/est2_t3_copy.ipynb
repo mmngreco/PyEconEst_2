{
 "cells": [
  {
   "cell_type": "code",
   "execution_count": 5,
   "metadata": {
    "collapsed": false
   },
   "outputs": [
    {
     "data": {
      "text/plain": [
       "<matplotlib.figure.Figure at 0x1035f3c10>"
      ]
     },
     "metadata": {},
     "output_type": "display_data"
    }
   ],
   "source": [
    "#!/usr/bin/env python\n",
    "# -*- coding: utf-8 -*-\n",
    "\n",
    "%matplotlib inline\n",
    "\n",
    "from __future__ import division\n",
    "from IPython.display import Latex\n",
    "\n",
    "import numpy as np\n",
    "import scipy.stats as st\n",
    "import matplotlib as mpl\n",
    "import matplotlib.pyplot as plt\n",
    "import prettyplotlib as ppl\n",
    "import seaborn as sns\n",
    "\n",
    "from pylab import *\n",
    "\n",
    "sns.set(style=\"ticks\", palette=\"Set2\")\n",
    "sns.despine()"
   ]
  },
  {
   "cell_type": "markdown",
   "metadata": {},
   "source": [
    "## PROBLEMA 12\n",
    "---\n",
    "\n",
    "12.- Se disena un ascensor **cuyo limite de carga es de 3150** kilogramos. Se indica que su capacidad **maxima es de 40 personas**. Si los pesos de todas las personas que utilizan el ascensor se suponen que estan **distribuidos alrededor de 75 kilogramos** con una **desviacion tipica de 22 kilogramos. **\n",
    "\n",
    "¿Cual es la **probabilidad** de que un **grupo de 38 personas** exceda el limite de carga del ascensor? (Suponer que se puede aplicar el TCL)\n",
    "\n",
    "---\n",
    "\n",
    "### DATOS:\n",
    "---\n",
    "\n",
    "- 3150 = kg, Límite de carga\n",
    "- 40 = personas, carga máxima\n",
    "- 75 = kg, **media** por persona\n",
    "- 22 = kg, **desviación típica**\n",
    "\n",
    "- **Muestra:**\n",
    "    - 38 = Muestra\n",
    "\n",
    "\n",
    "### PROBLEMA:\n",
    "---\n",
    "\n",
    "#### Prob ( un grupo de 38 personas exceda el límite kg )\n",
    "\n",
    "##### X: Peso de personas,  X={$x_1, x_2, ..., x_n$}  ~ Desconocido\n",
    "\n",
    "---\n",
    "\n",
    "- ES **IMPORTANTE** que se desconozca la distribución, para usar el TCL. \n",
    "\n",
    "### CONDICIONES DEL TCL:\n",
    "\n",
    "##$x \\sim N(\\mu, \\sigma)$\n",
    "\n",
    "##$D: \\{x_1, x_2, ..., x_n\\} \\\\ Media_{Muestral}= \\bar{x} = \\frac{1}{n}\\sum{x_i}$\n",
    "\n",
    "**Para poder aplicar el TCL se debe cumplir:**\n",
    "\n",
    "- D, mas, {$x_1, ..., x_n$} son **independientes**.\n",
    "- $x_i$ Sigue **la misma distribución que la población**.\n",
    "    - $E(x) = \\mu $.\n",
    "    - $V(x) = \\sigma^2 < \\infty$.\n",
    "- n ≥ 30, **muestra grande.**\n",
    "\n",
    "---\n",
    "<font size=4 face=\"sans-serif\">Teniendo en cuenta: <br>\n",
    "$E(\\sum{x_i}) = \\sum{E(x_i)} = \\sum{\\bar{x}} = N\\bar{x}$<br>\n",
    "$V(\\sum{x_i}) = \\sum{V(x_i)} = \\sum{\\sigma^2} = N\\sigma^2$ </font>\n",
    "# $$ \\bar{x} \\sim \\ N(\\mu,\\frac{\\sigma}{\\sqrt{n}}), \\sum{x_i} = \\ N(n\\mu, {\\sigma}{\\sqrt{n}}) $$\n",
    "---\n",
    "\n",
    "   - **EN NUESTRO CASO SE CUMPLE TODAS LAS CONDICIONES:**\n",
    "        - n > 30 (Grande)\n",
    "        - Variables independientes (mas).\n",
    "        - Variables siguen una misma distribución (E(x), V(x)).\n",
    "\n",
    "---\n",
    "##### Prob ( un grupo de 38 personas exceda el límite kg )\n",
    "- **P( Peso Total > Límite ) **\n",
    "    - $\\rightarrow$ P(38 · 75 > 3150)\n",
    "    - $\\rightarrow$ P(2850 > 3150)\n",
    "\n",
    "NOTA: Tener en cuenta que: $\\rightarrow n · E(x) = 38·75 ,\\ x:\\ V.A.$\n",
    "\n",
    "---\n",
    "\n"
   ]
  },
  {
   "cell_type": "code",
   "execution_count": 2,
   "metadata": {
    "collapsed": false
   },
   "outputs": [
    {
     "name": "stdout",
     "output_type": "stream",
     "text": [
      "Datos: \n",
      "––––––––\n",
      "n = 38\n",
      "k = 3150\n",
      "mu = 2850\n",
      "sigma = 22.2953152272\n",
      "P(x > k) = 0.0\n",
      "0.0\n"
     ]
    }
   ],
   "source": [
    "# datos:\n",
    "\n",
    "lim_kg = 3150\n",
    "lim_p = 40\n",
    "media_p = 75\n",
    "dt_p = 22\n",
    "muestra = 38\n",
    "\n",
    "# tcl: aprox. normal:\n",
    "# traducimos al lenguaje estradístico:\n",
    "\n",
    "n = muestra         # n >30\n",
    "k = lim_kg          # limite\n",
    "mu = n * media_p    # peso total\n",
    "sigma = dt_p * np.sqrt(n/(n-1))\n",
    "p_k = 1 - st.norm.cdf(k, mu, sigma)\n",
    "\n",
    "# para mostrar datos:\n",
    "nn = [\"n =\", \"k =\", \"mu =\", \"sigma =\", \"P(x > k) =\"]\n",
    "v = [n, k, mu, sigma, p_k]\n",
    "nv = zip(nn,v)\n",
    "\n",
    "print \"Datos: \\n––––––––\"\n",
    "\n",
    "for n,v in nv:\n",
    "    print n,v\n",
    "print p_k"
   ]
  },
  {
   "cell_type": "markdown",
   "metadata": {},
   "source": [
    "# EJERCICIO 7\n",
    "\n",
    "7.- Una empresa petrolera informa que **el precio medio** por galón de gasolina normal es** 3,26€ por litro** con una **desviación típica de 0,18€**. Seleccionamos al azar una muestra de **40 estaciones de gasolina **y calculamos el **coste medio de gasolina normal**. Si la distribución de dicho coste es normal, calcular\n",
    "\n",
    "- a. Probabilidad de que la media de la muestra oscile entre 3,24€ y 3,28€\n",
    "\n",
    "- b. Probabilidad de que la diferencia entre la media de la muestra y la media poblacional sea inferior a 0,01€\n",
    "\n",
    "- c. Probabilidad de que la media de la muestra sea superior a 3,34€"
   ]
  },
  {
   "cell_type": "markdown",
   "metadata": {},
   "source": [
    "### DATOS:\n",
    "---\n",
    "\n",
    "X: Precio gasolina ~ N(3.36, 0.18)\n",
    "\n",
    "D: {$x_1, ..., x_n$}\n",
    "\n",
    "#### **Precio medio muestral gasolineras:** \n",
    "\n",
    "\n",
    "$\\bar{x} = \\frac{1}{n} \\sum_{i=1}^{40}{x_i} \\\\ P(3.24 ≤ \\bar{x} ≤ 3.28) = P(Z ≤ 3.28) - P(Z ≤ 3.24)$"
   ]
  },
  {
   "cell_type": "code",
   "execution_count": 20,
   "metadata": {
    "collapsed": false
   },
   "outputs": [
    {
     "data": {
      "text/latex": [
       "\n",
       "$Por\\ tanto: \\\\\n",
       "P(3.24 \\leq \\bar{x} \\leq 3.28) = 0.517774955244 $ \n"
      ],
      "text/plain": [
       "<IPython.core.display.Latex object>"
      ]
     },
     "execution_count": 20,
     "metadata": {},
     "output_type": "execute_result"
    }
   ],
   "source": [
    "k_inf = 3.24\n",
    "k_sup = 3.28\n",
    "n = 40\n",
    "mu = 3.26\n",
    "sigma = 0.18 / np.sqrt(n)\n",
    "\n",
    "p_inf = st.norm.cdf(k_inf, mu, sigma)\n",
    "p_sup = st.norm.cdf(k_sup, mu, sigma)\n",
    "\n",
    "Latex(r'''\n",
    "$Por\\ tanto: \\\\\n",
    "P(3.24 \\leq \\bar{x} \\leq 3.28) = %s $ \n",
    "''' % (p_sup - p_inf))"
   ]
  },
  {
   "cell_type": "markdown",
   "metadata": {},
   "source": [
    "# EJERCICIO 17\n",
    "\n",
    "17.- Una tienda se interesa en estimar su volumen de ventas diarias. Supóngase que el valor de la desviación típica es de 50 euros. Si el volumen de ventas se puede modelizar por una distribución normal, ¿cuál debe ser el tamaño de la muestra para que con una confianza del 95% la media muestral se encuentre a no más de 20 euros del verdadero volumen medio de ventas?\n",
    "\n",
    "---\n",
    "\n",
    "X: ventas diarias \n",
    "$E(x) = \\mu$\n",
    "\n",
    "Ventas de cada día: {$x_1, x_2, x_3, ..., x_n$} \n",
    "\n",
    "$\\sum\\frac{x_i}{n} = \\bar{x} \\rightarrow aproximación\\ a\\ \\mu$\n",
    "\n",
    "    ¿Cuantos días (n) cogemos?\n",
    "\n",
    "### Planteamos:\n",
    "---\n",
    "\n",
    "$\\bar{x} - \\mu \\rightarrow min \\left |{\\bar{x} - \\mu} \\right |$\n",
    "\n",
    "- $P \\{\\ \\left | \\bar{x} - \\mu \\right |\\ \\} < e  = P( \\left |\\bar{x} - \\mu \\right | < \\frac{e}{\\frac{\\sigma}{\\sqrt{n}}} ) $\n",
    "\n",
    "\n",
    "- $ P( \\left |z \\right | < \\frac{e}{\\frac{\\sigma}{\\sqrt{n}}} ) = \\frac{1 - \\alpha}{90\\%}$\n",
    "\n",
    "\n",
    "- $ n = \\frac{Z^2_{\\frac{\\alpha}{2}}\\sigma^2}{e^2}$\n",
    "\n",
    "$\\sigma = 50$\n",
    "\n",
    "$nivel\\ de\\ confianza\\ (1 - \\alpha) = 0.95$"
   ]
  },
  {
   "cell_type": "code",
   "execution_count": 13,
   "metadata": {
    "collapsed": false
   },
   "outputs": [
    {
     "name": "stdout",
     "output_type": "stream",
     "text": [
      "Por tanto tenemos que:\n"
     ]
    },
    {
     "data": {
      "text/latex": [
       "$x_i = 1.64485362695$"
      ],
      "text/plain": [
       "<IPython.core.display.Latex object>"
      ]
     },
     "execution_count": 13,
     "metadata": {},
     "output_type": "execute_result"
    }
   ],
   "source": [
    "sigma = 50\n",
    "alpha = 0.05 # nivel de significación\n",
    "error = 20\n",
    "\n",
    "k_e = st.norm.ppf(1-alpha)\n",
    "print \"Por tanto tenemos que:\"\n",
    "Latex(r\"\"\"$x_i = %s$\"\"\" % k_e)"
   ]
  },
  {
   "cell_type": "code",
   "execution_count": 13,
   "metadata": {
    "collapsed": false
   },
   "outputs": [],
   "source": []
  },
  {
   "cell_type": "markdown",
   "metadata": {},
   "source": [
    "\n",
    "Si $\\sigma$ es desconocida, por tanto tendemos que estimarla, $(S^2_1)$\n",
    "\n",
    "### $X \\sim Be (p)$ \n",
    "$V(x) = P(1-p)$ \n",
    "$n = \\frac{Z^2_{\\frac{\\alpha}{2}}\\sigma^2}{e^2}$ \n",
    "\n",
    "### ESTIMAR P: \n",
    "\n",
    "$n = \\frac{Z^2_{\\frac{\\alpha}{2}}\\hat{p}(1-\\hat{p})}{e^2}$\n",
    "\n",
    "En X $\\sim Be (p)$ no tenemos una aproximación de 'p', por tanto tomamos el peor valor de 'p' (el que tiene mayor varianza).\n",
    "\n",
    "$n = \\frac{Z^2_{\\frac{\\alpha}{2}}1/4}{e^2}$\n",
    "### Sea:\n",
    "$g(p) = p(1-p) = p - p^2 \\\\ g'(p) = 1-2p = 0 \\rightarrow p = \\frac{1}{2}$"
   ]
  },
  {
   "cell_type": "code",
   "execution_count": 13,
   "metadata": {
    "collapsed": false
   },
   "outputs": [],
   "source": []
  },
  {
   "cell_type": "code",
   "execution_count": 13,
   "metadata": {
    "collapsed": false
   },
   "outputs": [],
   "source": []
  },
  {
   "cell_type": "markdown",
   "metadata": {},
   "source": [
    "# EJERCICIO 14\n",
    "\n",
    "14.- Suponga que se desea precisar el tamaño que ha de tener una muestra tomada **sin reemplazamiento** para **determinar el porcentaje de piezas defectuosas** de una población (en total **10.000 unidades**), supuesta esta proporción **no superior al 5%** y operando con una confianza del 95%. Calcular el **tamaño muestral** necesario si queremos que la proporción no difiera en más del 2% del porcentaje real.\n",
    "\n",
    "\n",
    "### DATOS:\n",
    "---\n",
    "\n",
    "- n = 10000 (!)\n",
    "- X: numero de piezas defectuosas\n",
    "- Nivel de confianza: 95%\n",
    "\n",
    "### INCÓGNICAS\n",
    "---\n",
    "D = {$x_1,...,x_n$}\n",
    "\n",
    "$x_i:$ Piezas defectuosas $\\sim Be(p)$\n",
    "\n",
    "p{ | $\\hat{p}$-$p$} | < 0.02} = 0.95\n",
    "\n",
    "p{ |z| < $\\frac{0.02}{\\sqrt{\\frac{p(1-p)}{n}}}$ } = 0.95\n",
    "\n",
    "**Suponemos la peor varianza**\n",
    "\n"
   ]
  },
  {
   "cell_type": "code",
   "execution_count": null,
   "metadata": {
    "collapsed": false
   },
   "outputs": [],
   "source": []
  }
 ],
 "metadata": {
  "kernelspec": {
   "display_name": "Python 2",
   "language": "python",
   "name": "python2"
  },
  "language_info": {
   "codemirror_mode": {
    "name": "ipython",
    "version": 2
   },
   "file_extension": ".py",
   "mimetype": "text/x-python",
   "name": "python",
   "nbconvert_exporter": "python",
   "pygments_lexer": "ipython2",
   "version": "2.7.9"
  }
 },
 "nbformat": 4,
 "nbformat_minor": 0
}
