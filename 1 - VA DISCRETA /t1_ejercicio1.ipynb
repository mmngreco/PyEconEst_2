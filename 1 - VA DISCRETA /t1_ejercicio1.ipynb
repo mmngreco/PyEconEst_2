{
 "cells": [
  {
   "cell_type": "markdown",
   "metadata": {},
   "source": [
    "#TEMA 1\n",
    "\n",
    "##PROBLEMAS DE DISTRIBUCIONES DISCRETAS\n",
    "\n",
    "##Variable aleatoria general y esperanza matemática\n",
    "\n",
    "## EJERCICIO 1\n",
    "\n",
    "1. Una empresa tiene que presentar una __oferta para una obra pública__. Estima que los materiales necesarios __costarán 25000€__, cada día de trabajo supone un __coste laboral de 800€__ y el __plazo de ejecución tiene que ser 10 días__ porque cada __día de retraso__ supondrá una __penalización de 1000€.__ Analizando obras similares ha calculado que la variable aleatoria que mide el número de días de ejecución tiene la __siguiente distribución__:\n",
    "\n",
    "    1. ¿Cuál es la __probabilidad__ de que __el número de días de ejecución__ esté __entre 9 y 11 días__?\n",
    "    2. Si una obra ya lleva __9 días de ejecución__ ¿cuál es la __probabilidad__ de que dure __al menos 1 día más__?\n",
    "    3. ¿Cuál es el __coste medio__ de la obra?\n",
    "    4. ¿Cuál es la __desviación típica del coste__ de la obra?\n",
    "\n",
    "|dias | probabilidad |\n",
    "|-----|--------------|\n",
    "|0.1|8|\n",
    "|0.2|9|\n",
    "|0.4|10|\n",
    "|0.2|11|\n",
    "|0.1|12|\n"
   ]
  },
  {
   "cell_type": "markdown",
   "metadata": {},
   "source": [
    "__DATOS:__\n",
    "- materiales = 25000\n",
    "- coste laboral = 800\n",
    "- plazo de ejecución = 10\n",
    "- penalización por día adicional = 1000\n"
   ]
  },
  {
   "cell_type": "markdown",
   "metadata": {},
   "source": [
    "### ––––––––––––––––––– A.\n",
    "\n",
    "Nos preguntan por la probabilidad de que el número de días esté entre 9 y 11:\n",
    "\n",
    "$P(9 ≤ k ≤ 11) = \\sum{p_i}$\n"
   ]
  },
  {
   "cell_type": "code",
   "execution_count": 14,
   "metadata": {
    "collapsed": true
   },
   "outputs": [],
   "source": [
    "#!/usr/bin/env\n",
    "# -*- coding:utf-8 -*-\n",
    "\n",
    "from __future__ import division\n",
    "\n",
    "from IPython.display import Latex\n",
    "import numpy as np\n",
    "import pandas as pd\n",
    "import matplotlib as mpl\n",
    "import matplotlib.pyplot as plt\n",
    "import scipy as sc\n",
    "import prettyplotlib as ppl\n",
    "import seaborn as sns\n",
    "from pylab import *\n",
    "\n",
    "sns.set(style=\"ticks\", palette=\"Set2\")\n",
    "sns.despine()\n",
    "\n",
    "%matplotlib inline"
   ]
  },
  {
   "cell_type": "code",
   "execution_count": 15,
   "metadata": {
    "collapsed": false
   },
   "outputs": [
    {
     "name": "stdout",
     "output_type": "stream",
     "text": [
      "\n",
      "Por tanto:\n"
     ]
    },
    {
     "data": {
      "text/latex": [
       "$\\sum^{11}_9{p_i} = 0.8$"
      ],
      "text/plain": [
       "<IPython.core.display.Latex object>"
      ]
     },
     "execution_count": 15,
     "metadata": {},
     "output_type": "execute_result"
    }
   ],
   "source": [
    "# datos:\n",
    "\n",
    "dias = [8, 9, 10, 11, 12]\n",
    "prob = [0.1, 0.2, 0.4, 0.2, 0.1]\n",
    "\n",
    "# calulamos la probabilidad según lo hemos planteado:\n",
    "\n",
    "\n",
    "p_a = sum(prob[1:-1])\n",
    "print '\\nPor tanto:'\n",
    "\n",
    "Latex(u'$\\sum^{11}_9{p_i} = %s$' % p_a)\n"
   ]
  },
  {
   "cell_type": "markdown",
   "metadata": {},
   "source": [
    "### ––––––––––––––––––– B.\n",
    "\n",
    "Nos preguntan por la probabilidad de que una obra que lleva 9 días dure un día más como poco, aplicando __Teorema de Bayes__:\n",
    "\n",
    "$P(X\\ ≥\\ 10\\ |\\ X\\ ≥\\ 9)\\ =\\ \\frac{P(X\\ ≥\\ 9\\ |\\ X\\ ≥\\ 10)\\ ·\\ P(X\\ ≥\\ 10)}{P(X\\ ≥\\ 9)}$\n",
    "\n",
    "Si nos damos cuenta:\n",
    "\n",
    "$P(X\\ ≥\\ 9\\ |\\ X\\ ≥\\ 10) = 1$\n",
    "\n",
    "Lo que nos dice es, la probabilidad de que X ≥ 9 sabiendo que X ≥ 10. Si X ≥ 10, __siempre__ se cumple que X ≥ 9.\n",
    "\n",
    "Por tanto nos queda:\n",
    "\n",
    "$P(X\\ ≥\\ 10\\ |\\ X\\ ≥\\ 9)\\ =\\ \\frac{1\\ ·\\ P(X\\ ≥\\ 10)}{P(X\\ ≥\\ 9)}$\n",
    "\n",
    "Tenemos que calcular por tanto: \n",
    "\n",
    "$ P(X\\ ≥\\ 10) = \\sum^{∞}_{10}{p_i} $\n",
    "\n",
    "$ P(X\\ ≥\\ 9) = \\sum^{∞}_{9}{p_i} $"
   ]
  },
  {
   "cell_type": "code",
   "execution_count": 16,
   "metadata": {
    "collapsed": false
   },
   "outputs": [
    {
     "name": "stdout",
     "output_type": "stream",
     "text": [
      "\n",
      "Por tanto:\n"
     ]
    },
    {
     "data": {
      "text/latex": [
       "$P(X\\ ≥\\ 10)\\ =\\ \\sum^{∞}_{10}{p_i} = 0.7$"
      ],
      "text/plain": [
       "<IPython.core.display.Latex object>"
      ]
     },
     "execution_count": 16,
     "metadata": {},
     "output_type": "execute_result"
    }
   ],
   "source": [
    "# p(x ≥ 10)\n",
    "\n",
    "p_b = sum(prob[dias.index(10):])\n",
    "\n",
    "print '\\nPor tanto:'\n",
    "\n",
    "Latex(u'$P(X\\ ≥\\ 10)\\ =\\ \\sum^{∞}_{10}{p_i} = %s$' % p_b)\n"
   ]
  },
  {
   "cell_type": "code",
   "execution_count": 17,
   "metadata": {
    "collapsed": false
   },
   "outputs": [
    {
     "name": "stdout",
     "output_type": "stream",
     "text": [
      "\n",
      "Por tanto:\n"
     ]
    },
    {
     "data": {
      "text/latex": [
       "$P(X\\ ≥\\ 9)\\ =\\ \\sum^{∞}_9{p_i}\\ =\\ 0.9$"
      ],
      "text/plain": [
       "<IPython.core.display.Latex object>"
      ]
     },
     "execution_count": 17,
     "metadata": {},
     "output_type": "execute_result"
    }
   ],
   "source": [
    "# p(x ≥ 9)\n",
    "\n",
    "p_bb = sum(prob[dias.index(9):])\n",
    "print '\\nPor tanto:'\n",
    "\n",
    "Latex(u'$P(X\\ ≥\\ 9)\\ =\\ \\sum^{∞}_9{p_i}\\ =\\ %s$' % p_bb)\n"
   ]
  },
  {
   "cell_type": "code",
   "execution_count": 18,
   "metadata": {
    "collapsed": false
   },
   "outputs": [
    {
     "name": "stdout",
     "output_type": "stream",
     "text": [
      "\n",
      "Por tanto:\n"
     ]
    },
    {
     "data": {
      "text/latex": [
       "$P(X\\ ≥\\ 10\\ |\\ X\\ ≥\\ 9)\\ =\\ \\frac{1\\ ·\\ P(X\\ ≥\\ 10)}{P(X\\ ≥\\ 9)}\\ =\\ 0.777777777778$"
      ],
      "text/plain": [
       "<IPython.core.display.Latex object>"
      ]
     },
     "execution_count": 18,
     "metadata": {},
     "output_type": "execute_result"
    }
   ],
   "source": [
    "# p(x ≥ 10 ) / p(x ≥ 9)\n",
    "\n",
    "print '\\nPor tanto:'\n",
    "\n",
    "Latex(r'$P(X\\ ≥\\ 10\\ |\\ X\\ ≥\\ 9)\\ =\\ \\frac{1\\ ·\\ P(X\\ ≥\\ 10)}{P(X\\ ≥\\ 9)}\\ =\\ %s$'.decode('utf-8') % (p_b / p_bb))"
   ]
  },
  {
   "cell_type": "markdown",
   "metadata": {},
   "source": [
    "### ––––––––––––––––––– C.\n",
    "Para __hallar el coste medio de la obra__, necesitamos modelar primero el problema:\n",
    "\n",
    "DATOS:\n",
    "- materiales = 25000\n",
    "- coste laboral = 800\n",
    "- plazo de ejecución = 10\n",
    "- penalización por día adicional = 1000\n",
    "\n",
    "coste-obra __=__ materiales __+__ coste-laboral __·__ dias\n",
    "\n",
    "coste-obra-penalizacion __=__ materiales __+__ coste-laboral __·__ dia __+__ (dias __-__ 10) __·__ penalización\n",
    "\n",
    "__Sea:__\n",
    "- __y =__ Coste de la obra\n",
    "- __y' =__ coste de la obra con penalización (si x > 10)\n",
    "- __m =__ materiales\n",
    "- __cl =__ coste laboral\n",
    "- __x =__ dias\n",
    "- __p =__ penalizacion\n",
    "\n",
    "$y = 25000 + 800 · x$\n",
    "\n",
    "$y' = 25000 + 800 · x + (x - 10)·1000$"
   ]
  },
  {
   "cell_type": "code",
   "execution_count": 19,
   "metadata": {
    "collapsed": false
   },
   "outputs": [
    {
     "name": "stdout",
     "output_type": "stream",
     "text": [
      "DÍAS \tCOSTE \tPROB\n",
      "––––––––––––––––––––\n",
      "8 \t31400 \t0.1\n",
      "9 \t32200 \t0.2\n",
      "10 \t33000 \t0.4\n",
      "11 \t34800 \t0.2\n",
      "12 \t36600 \t0.1\n"
     ]
    }
   ],
   "source": [
    "y = [] # Creamos la variable COSTE DE LA OBRA\n",
    "\n",
    "for x in dias:\n",
    "    if x <= 10:\n",
    "        y += [25000 + 800*x]\n",
    "    else:\n",
    "        y += [25000 + 800*x + (x - 10) * 1000]\n",
    "\n",
    "print u'Días'.upper(), '\\t', 'Coste'.upper(), '\\t', 'Prob'.upper()\n",
    "print '––––––––––––––––––––'\n",
    "for i, ii, iii in zip(dias, y, prob):\n",
    "    print i, '\\t', ii, '\\t', iii"
   ]
  },
  {
   "cell_type": "markdown",
   "metadata": {},
   "source": [
    "El coste medio de la obra por tanto será:\n",
    "\n",
    "$E(Y) = E(25000 + 800·x) = 25000 + 800 · E(X)$\n",
    "\n",
    "ó\n",
    "\n",
    "$E(Y) = \\sum^{∞}_{0}{Y_i·P_i} = CMO$\n"
   ]
  },
  {
   "cell_type": "code",
   "execution_count": 20,
   "metadata": {
    "collapsed": false
   },
   "outputs": [
    {
     "data": {
      "text/latex": [
       "$E(Y) = \\sum^{∞}_{0}{Y_i·P_i} = CMO = 33400.0$"
      ],
      "text/plain": [
       "<IPython.core.display.Latex object>"
      ]
     },
     "execution_count": 20,
     "metadata": {},
     "output_type": "execute_result"
    }
   ],
   "source": [
    "cmo = 0 # Creamos la variable COSTE MEDIO DE LA OBRA\n",
    "\n",
    "for c, p in zip(y, prob): \n",
    "    cmo += c * p\n",
    "\n",
    "Latex(r'$E(Y) = \\sum^{∞}_{0}{Y_i·P_i} = CMO = %s$'.decode('utf-8') % cmo)\n"
   ]
  },
  {
   "cell_type": "markdown",
   "metadata": {},
   "source": [
    "### ––––––––––––––––––– D.\n",
    "\n",
    "Para hallar la desviación típica del coste de la obra, acudimos a la fórmula:\n",
    "\n",
    "$\\sqrt{V(Y)} = \\sqrt{E((Y - E(Y))^2)} = \\sqrt{\\sum{P_i · (y_i - \\bar{y})^2}}$"
   ]
  },
  {
   "cell_type": "code",
   "execution_count": 21,
   "metadata": {
    "collapsed": false
   },
   "outputs": [
    {
     "name": "stdout",
     "output_type": "stream",
     "text": [
      "DÍAS \tCOSTE \tPROB\n",
      "X \tY \tPROB\n",
      "––––––––––––––––––––\n",
      "8 \t31400 \t0.1\n",
      "9 \t32200 \t0.2\n",
      "10 \t33000 \t0.4\n",
      "11 \t34800 \t0.2\n",
      "12 \t36600 \t0.1\n"
     ]
    }
   ],
   "source": [
    "# RECORDEMOS LAS VARIABLES: \n",
    "\n",
    "print u'Días'.upper(), '\\t', 'Coste'.upper(), '\\t', 'Prob'.upper()\n",
    "print u'X'.upper(), '\\t', 'Y'.upper(), '\\t', 'Prob'.upper()\n",
    "print '––––––––––––––––––––'\n",
    "for i, ii, iii in zip(dias, y, prob):\n",
    "    print i, '\\t', ii, '\\t', iii"
   ]
  },
  {
   "cell_type": "code",
   "execution_count": 22,
   "metadata": {
    "collapsed": false
   },
   "outputs": [
    {
     "data": {
      "text/latex": [
       "$D(Y) = \\sqrt{V(Y)} = 1472.41298554$"
      ],
      "text/plain": [
       "<IPython.core.display.Latex object>"
      ]
     },
     "execution_count": 22,
     "metadata": {},
     "output_type": "execute_result"
    }
   ],
   "source": [
    "# V(Y) = E( (Y − E(Y) )^2) = ∑ pi · (yi − cmo)^2\n",
    "var = 0\n",
    "\n",
    "for coste, pr in zip(y, prob):\n",
    "    var += pr * (coste - cmo) ** 2\n",
    "\n",
    "Latex(r'$V(Y) = E((Y - E(Y))^2) = \\sum{(y_i · p_i - \\bar{y})^2} = %s$'.decode('utf-8') % var)\n",
    "\n",
    "Latex(r'$D(Y) = \\sqrt{V(Y)} = %s$'.decode('utf-8') % var ** 0.5)"
   ]
  },
  {
   "cell_type": "markdown",
   "metadata": {},
   "source": [
    "## EJERCICIO 2:\n",
    "\n",
    "2. Un individuo dispone de __6000€__ para invertir en un negocio. Su analista le propone una inversión cuya __rentabilidad es del 15%__ pero con el __riesgo de perder el 50% del capital__. Según su conocimiento, la inversión será __rentable con una probabilidad de 0,70__. Si decide invertir, __¿cuál es el beneficio esperado?__\n",
    "\n"
   ]
  },
  {
   "cell_type": "markdown",
   "metadata": {},
   "source": [
    "__DATOS:__\n",
    "- __renta (Y) =__ 6000\n",
    "- __rentabilidad (r) =__ 0.15\n",
    "- __riesgo =__ Perder 50% de y\n",
    "- __P(rentable) =__ 0.7\n",
    "\n",
    "__AVERIGUAR:__\n",
    "- BENEFICIO ESPERADO (b)\n",
    "\n",
    "__PLANTEAMIENTO MATEMÁTICO:__\n",
    "\n",
    "$Beneficio\\ esperado\\ =\\ E(b) = \\sum{b_i·P_i}$\n",
    "\n",
    "$b = ING - PER = Y · r - Y · riesgo$\n",
    "\n",
    "$E(b) = Y · r · P(rentable) - Y · riesgo · P(no\\ rentable)$\n",
    "\n",
    "$E(b) = 6000 · 0.15 · 0.7 - 6000 · 0.5 · (1 - 0.7)$"
   ]
  },
  {
   "cell_type": "code",
   "execution_count": 23,
   "metadata": {
    "collapsed": false
   },
   "outputs": [
    {
     "data": {
      "text/latex": [
       "$E(b) = 6000 \\times 0.15 \\times 0.7 - 6000 \\times 0.5 \\times (1 - 0.7) = -270.0$"
      ],
      "text/plain": [
       "<IPython.core.display.Latex object>"
      ]
     },
     "execution_count": 23,
     "metadata": {},
     "output_type": "execute_result"
    }
   ],
   "source": [
    "b = 6000 * 0.15 * 0.7 - 6000 * 0.5 * (1 - 0.7)\n",
    "\n",
    "Latex(r'$E(b) = 6000 \\times 0.15 \\times 0.7 - 6000 \\times 0.5 \\times (1 - 0.7) = %s$'.decode('utf-8') % b)"
   ]
  },
  {
   "cell_type": "code",
   "execution_count": 24,
   "metadata": {
    "collapsed": false
   },
   "outputs": [],
   "source": [
    "del y, prob, x, dias, cmo, b"
   ]
  },
  {
   "cell_type": "markdown",
   "metadata": {},
   "source": [
    "## EJERCICIO 3:\n",
    "\n",
    "3. Se lanzan dos dados de 6 caras numeradas de 1 a 6. Sea __X = la suma de las puntuaciones.__ __Calcula:__\n",
    "    1. La función de probabilidad de la variable\n",
    "    2. La media y varianza de la variable\n",
    "\n",
    "__DATOS:__\n",
    "\n",
    "- Dado 1 (Y): 1-6\n",
    "- Dado 2 (Z): 1-6\n",
    "\n",
    "### ––––––––––––––––––– A.\n",
    "\n",
    "__FUNCIÓN DE PROBABILIDAD:__\n",
    "\n",
    "- P(X) = P(Y + Z) = P(Y) · P(Z) (INDEPENDIENTES)"
   ]
  },
  {
   "cell_type": "code",
   "execution_count": 34,
   "metadata": {
    "collapsed": true
   },
   "outputs": [
    {
     "name": "stdout",
     "output_type": "stream",
     "text": [
      "(y,z) \tx\n",
      "–––––––––––\n",
      "(1,1) \t2\n",
      "(1,2) \t3\n",
      "(1,3) \t4\n",
      "(1,4) \t5\n",
      "(1,5) \t6\n",
      "(1,6) \t7\n",
      "(2,1) \t3\n",
      "(2,2) \t4\n",
      "(2,3) \t5\n",
      "(2,4) \t6\n",
      "(2,5) \t7\n",
      "(2,6) \t8\n",
      "(3,1) \t4\n",
      "(3,2) \t5\n",
      "(3,3) \t6\n",
      "(3,4) \t7\n",
      "(3,5) \t8\n",
      "(3,6) \t9\n",
      "(4,1) \t5\n",
      "(4,2) \t6\n",
      "(4,3) \t7\n",
      "(4,4) \t8\n",
      "(4,5) \t9\n",
      "(4,6) \t10\n",
      "(5,1) \t6\n",
      "(5,2) \t7\n",
      "(5,3) \t8\n",
      "(5,4) \t9\n",
      "(5,5) \t10\n",
      "(5,6) \t11\n",
      "(6,1) \t7\n",
      "(6,2) \t8\n",
      "(6,3) \t9\n",
      "(6,4) \t10\n",
      "(6,5) \t11\n",
      "(6,6) \t12\n"
     ]
    }
   ],
   "source": [
    "# X = Y + Z\n",
    "\n",
    "x = []\n",
    "pares = []\n",
    "\n",
    "for y in range(1, 7):\n",
    "    for z in range(1, 7):\n",
    "        x += [y + z]\n",
    "        pares += [[y, z]]\n",
    "\n",
    "print '(y,z)', '\\t', 'x'\n",
    "print '–––––––––––'\n",
    "del y, z\n",
    "\n",
    "for y, z in pares:\n",
    "    print '(%s,%s)' % (y, z), '\\t', y + z\n"
   ]
  },
  {
   "cell_type": "code",
   "execution_count": 26,
   "metadata": {
    "collapsed": false
   },
   "outputs": [],
   "source": [
    "frec = []\n",
    "for xi in np.unique(x):\n",
    "    frec += [list(x).count(xi)]"
   ]
  },
  {
   "cell_type": "code",
   "execution_count": 38,
   "metadata": {
    "collapsed": false
   },
   "outputs": [
    {
     "name": "stdout",
     "output_type": "stream",
     "text": [
      "Función de Probabilidad X: \n",
      "i \tx \tf \tprob\n",
      "––––––––––––––––––––––––––––––––\n",
      "0 \t2 \t1 \t0.0277777777778\n",
      "1 \t3 \t2 \t0.0555555555556\n",
      "2 \t4 \t3 \t0.0833333333333\n",
      "3 \t5 \t4 \t0.111111111111\n",
      "4 \t6 \t5 \t0.138888888889\n",
      "5 \t7 \t6 \t0.166666666667\n",
      "6 \t8 \t5 \t0.138888888889\n",
      "7 \t9 \t4 \t0.111111111111\n",
      "8 \t10 \t3 \t0.0833333333333\n",
      "9 \t11 \t2 \t0.0555555555556\n",
      "10 \t12 \t1 \t0.0277777777778\n"
     ]
    }
   ],
   "source": [
    "prob = []\n",
    "ind = 0\n",
    "print 'Función de Probabilidad X: '\n",
    "print 'i', '\\t', 'x', '\\t', 'f', '\\t', 'prob'\n",
    "print '––––––––––––––––––––––––––––––––'\n",
    "for xi, fi in zip(np.unique(x), frec):\n",
    "    print ind, '\\t', xi, '\\t', fi, '\\t', fi / sum(frec)\n",
    "    prob += [fi / sum(frec)]\n",
    "    ind += 1"
   ]
  },
  {
   "cell_type": "code",
   "execution_count": 29,
   "metadata": {
    "collapsed": false
   },
   "outputs": [
    {
     "name": "stdout",
     "output_type": "stream",
     "text": [
      "GRAFICAMENTE: \n"
     ]
    },
    {
     "data": {
      "text/plain": [
       "<matplotlib.text.Text at 0x10cec5050>"
      ]
     },
     "execution_count": 29,
     "metadata": {},
     "output_type": "execute_result"
    },
    {
     "data": {
      "image/png": "[encoded data removed]",
      "text/plain": [
       "<matplotlib.figure.Figure at 0x10ad8bb10>"
      ]
     },
     "metadata": {},
     "output_type": "display_data"
    }
   ],
   "source": [
    "print 'GRAFICAMENTE: '\n",
    "ppl.bar(np.unique(x) - 0.5, prob)\n",
    "plt.xticks(np.unique(x))\n",
    "plt.title(u'Función de Probabilidad de X')"
   ]
  },
  {
   "cell_type": "markdown",
   "metadata": {
    "collapsed": true
   },
   "source": [
    "### ––––––––––––––––––– B.\n",
    "\n",
    "Media y Varianza:\n",
    "\n",
    "$Media = E(X) = \\sum^{10}_0{(X_i · P_i)}$\n",
    "\n",
    "$Varianza = E((X - E(X))^2) = \\sum^{10}_0{P_i·(X_i - \\bar{X})^2}$"
   ]
  },
  {
   "cell_type": "code",
   "execution_count": 56,
   "metadata": {
    "collapsed": false
   },
   "outputs": [
    {
     "data": {
      "text/latex": [
       "$Media = E(X) = \\sum^{10}_0{(X_i · P_i)} = 7.0$"
      ],
      "text/plain": [
       "<IPython.core.display.Latex object>"
      ]
     },
     "execution_count": 56,
     "metadata": {},
     "output_type": "execute_result"
    }
   ],
   "source": [
    "media = sum(np.multiply(np.unique(x),prob)) # CUIDADO! No dividir por N, multiplicamos por P_i\n",
    "\n",
    "Latex(r'$Media = E(X) = \\sum^{10}_0{(X_i · P_i)} = %s$'.decode('utf-8') % media)"
   ]
  },
  {
   "cell_type": "code",
   "execution_count": 57,
   "metadata": {
    "collapsed": false
   },
   "outputs": [
    {
     "data": {
      "text/latex": [
       "$Varianza = E((X - E(X))^2) = \\sum^{10}_0{P_i·(X_i - \\bar{X})^2} = 5.83333333333$"
      ],
      "text/plain": [
       "<IPython.core.display.Latex object>"
      ]
     },
     "execution_count": 57,
     "metadata": {},
     "output_type": "execute_result"
    }
   ],
   "source": [
    "var = sum(np.multiply(prob,((np.unique(x) - media) ** 2)))\n",
    "\n",
    "Latex(r'$Varianza = E((X - E(X))^2) = \\sum^{10}_0{P_i·(X_i - \\bar{X})^2} = %s$'.decode('utf-8') % var)\n"
   ]
  },
  {
   "cell_type": "markdown",
   "metadata": {},
   "source": [
    "\n",
    "## EJERCICIO 4.\n",
    "\n",
    "4. Una Comunidad Autónoma decide gravar con una tasa a todos los turistas que acceden con vehículo propio a un parque natural. Se ha estudiado que __la variable aleatoria X, número de personas por coche que entran en el parque__, tiene la siguiente probabilidad: X = [1, 2, 3, 4, 5] , P(X=x) = [0.05, 0.20, 0.35, 0.25, 0.15].\n",
    "    1. Hállese el número medio de visitantes por vehículo\n",
    "    2. ¿Cuánto debe pagar cada persona para que la ganancia esperada por coche sea de 13 euros?\n",
    "    3. Si cada visitante paga 5 euros, ¿cuál es la ganancia esperada de un día en el que se registre una entrada de 1000 vehículos?\n",
    "    \n",
    "|X     |1|2|3|4|5|\n",
    "|-|-|-|-|-|-|\n",
    "|P(X=x)|0.05|0.20|0.35|0.25|0.15|"
   ]
  },
  {
   "cell_type": "code",
   "execution_count": 58,
   "metadata": {
    "collapsed": true
   },
   "outputs": [],
   "source": [
    "X = [1, 2, 3, 4, 5] \n",
    "Prob = [0.05, 0.20, 0.35, 0.25, 0.15]"
   ]
  },
  {
   "cell_type": "markdown",
   "metadata": {},
   "source": [
    "### ––––––––––––––––––– A.\n"
   ]
  },
  {
   "cell_type": "code",
   "execution_count": 60,
   "metadata": {
    "collapsed": false
   },
   "outputs": [
    {
     "data": {
      "text/plain": [
       "3.25"
      ]
     },
     "execution_count": 60,
     "metadata": {},
     "output_type": "execute_result"
    }
   ],
   "source": [
    "media = sum(np.multiply(X,Prob))\n",
    "\n",
    "media"
   ]
  },
  {
   "cell_type": "markdown",
   "metadata": {},
   "source": [
    "### ––––––––––––––––––– B.\n",
    "\n",
    "Tasa:\n",
    "\n",
    "$Recaudacion = x_i · tasa$\n",
    "\n",
    "$E(Recaudacion) = E(x_i) · tasa$\n",
    "\n",
    "$tasa = E(Recaudacion) / E(x_i)$"
   ]
  },
  {
   "cell_type": "code",
   "execution_count": 61,
   "metadata": {
    "collapsed": false
   },
   "outputs": [
    {
     "data": {
      "text/plain": [
       "4.0"
      ]
     },
     "execution_count": 61,
     "metadata": {},
     "output_type": "execute_result"
    }
   ],
   "source": [
    "tasa = 13 / media\n",
    "\n",
    "tasa"
   ]
  },
  {
   "cell_type": "markdown",
   "metadata": {},
   "source": [
    "\n",
    "### ––––––––––––––––––– C.\n",
    "\n",
    "- Cada visitante paga 5 €\n",
    "- Entrada de 1000 vehículos.\n",
    "\n",
    "$E(Recaudacion) = E(X_i) · vehiculos · tasa$\n",
    "\n",
    "$E(R) = E(x_i) · 1000 · 5$\n"
   ]
  },
  {
   "cell_type": "code",
   "execution_count": 63,
   "metadata": {
    "collapsed": false
   },
   "outputs": [
    {
     "data": {
      "text/plain": [
       "16250.0"
      ]
     },
     "execution_count": 63,
     "metadata": {},
     "output_type": "execute_result"
    }
   ],
   "source": [
    "recaudacion = 1000 * 5 * media\n",
    "\n",
    "recaudacion"
   ]
  },
  {
   "cell_type": "markdown",
   "metadata": {},
   "source": [
    "## EJERCICIO 5.\n",
    "\n",
    "5. Un __parking público__ obtuvo los siguientes datos de una muestra de 250 clientes acerca de __la cantidad de horas__ que se estacionan los automóviles y __las cantidades que pagan__ [TABLA].\n",
    "    1. Se quiere predecir la cantidad de horas que va a estacionar su automóvil un nuevo cliente ¿cuál es la __probabilidad de esté entre 2 y 5 horas?__\n",
    "    1. Si un coche lleva estacionado dos o más horas ¿cuál es la __probabilidad de que el pago sea superior a 14 €?__\n",
    "    1. Calcular el __pago esperado__ así como su __desviación típica__.\n",
    "    1. ¿Qué __pago se espera__ si el coche lleva estacionado __dos o más horas?__\n",
    "\n",
    "|Horas|1|2|3|4|5|6|7|8|Total|\n",
    "|--|\n",
    "|Frecuencia|20|38|53|45|40|13|5|36|250\n",
    "|Pago (en €)|3|6|9|12|14|16|18|20||\n",
    "\n",
    "\n"
   ]
  },
  {
   "cell_type": "code",
   "execution_count": null,
   "metadata": {
    "collapsed": true
   },
   "outputs": [],
   "source": []
  }
 ],
 "metadata": {
  "kernelspec": {
   "display_name": "Python 2",
   "language": "python",
   "name": "python2"
  },
  "language_info": {
   "codemirror_mode": {
    "name": "ipython",
    "version": 2
   },
   "file_extension": ".py",
   "mimetype": "text/x-python",
   "name": "python",
   "nbconvert_exporter": "python",
   "pygments_lexer": "ipython2",
   "version": "2.7.9"
  }
 },
 "nbformat": 4,
 "nbformat_minor": 0
}
