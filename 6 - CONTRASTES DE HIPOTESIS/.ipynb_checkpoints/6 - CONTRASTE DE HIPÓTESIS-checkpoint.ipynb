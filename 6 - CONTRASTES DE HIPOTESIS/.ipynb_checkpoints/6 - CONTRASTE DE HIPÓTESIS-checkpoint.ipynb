{
 "cells": [
  {
   "cell_type": "markdown",
   "metadata": {},
   "source": [
    "# PROBLEMAS DE CONTRASTE DE HIPÓTESIS PARA ECONOMISTAS:\n",
    "\n",
    "# INDICE\n",
    "\n",
    "- [DOCUMENTOS COMPLEMENTARIOS](#DOCUMENTOS-COMPLEMENTARIOS)\n",
    "    - [CARPETA CON TODOS LOS PDFS (enlace externo)](https://drive.google.com/folderview?id=0B_kK0s_MMsRrZV96NVFzdDR0WmM&usp=sharing)<svg viewBox=\"0 0 8 8\">\n",
    "        - [TABLAS (enlace externo)](https://drive.google.com/folderview?id=0B_kK0s_MMsRrbko0TURKc2JOR1U&usp=sharing&tid=0B_kK0s_MMsRrZV96NVFzdDR0WmM)\n",
    "        - [APUNTES](#APUNTES)"
   ]
  },
  {
   "cell_type": "markdown",
   "metadata": {},
   "source": [
    "# [CONCEPTOS BÁSICOS:](#CONCEPTOS-BÁSICOS)\n",
    "\n",
    "- [PROBLEMA 1](#PROBLEMA-1)\n",
    "- [PROBLEMA 2](#PROBLEMA-2)\n",
    "- [PROBLEMA 3](#PROBLEMA-3)\n",
    "- [PROBLEMA 4](#PROBLEMA-4)\n",
    "- [PROBLEMA 5](#PROBLEMA-5)"
   ]
  },
  {
   "cell_type": "markdown",
   "metadata": {},
   "source": [
    "# [LEMA DE NEYMAN PEARSON:](#LEMA-DE-NEYMAN-PEARSON)\n",
    "\n",
    "- [PROBLEMA 6](#PROBLEMA-6)\n",
    "- [PROBLEMA 7](#PROBLEMA-7)\n",
    "- [PROBLEMA 8](#PROBLEMA-8)"
   ]
  },
  {
   "cell_type": "markdown",
   "metadata": {},
   "source": [
    "# [CONTRASTES NOTABLES:](#CONTRASTES-NOTABLES)\n",
    "\n",
    "- [PROBLEMA 9](#PROBLEMA-9)\n",
    "- [PROBLEMA 10](#PROBLEMA-10)\n",
    "- [PROBLEMA 11](#PROBLEMA-11)\n",
    "- [PROBLEMA 12](#PROBLEMA-12)\n",
    "- [PROBLEMA 13](#PROBLEMA-13)\n",
    "- [PROBLEMA 14](#PROBLEMA-14)\n",
    "- [PROBLEMA 15](#PROBLEMA-15)\n",
    "- [PROBLEMA 16](#PROBLEMA-16)"
   ]
  },
  {
   "cell_type": "markdown",
   "metadata": {},
   "source": [
    "# [PROBLEMAS VARIOS:](#PROBLEMAS-VARIOS)\n",
    "\n",
    "- [PROBLEMA 17](#PROBLEMA-17)\n",
    "- [PROBLEMA 18](#PROBLEMA-18)\n",
    "- [PROBLEMA 19](#PROBLEMA-19)\n",
    "- [PROBLEMA 20](#PROBLEMA-20)\n",
    "- [PROBLEMA 21](#PROBLEMA-21)\n",
    "- [PROBLEMA 22](#PROBLEMA-22)\n",
    "- [PROBLEMA 23](#PROBLEMA-23)\n",
    "- [PROBLEMA 24](#PROBLEMA-24)\n",
    "- [PROBLEMA 25](#PROBLEMA-25)\n",
    "- [PROBLEMA 26](#PROBLEMA-26)"
   ]
  },
  {
   "cell_type": "markdown",
   "metadata": {},
   "source": [
    "# [ANEXO:](#ANEXO)\n",
    "\n",
    "- [TEORÍA COMPLEMENTARIA](#TEORÍA-COMPLEMENTARIA)\n",
    "- [FÓRMULAS ESTADÍSTICAS](#FÓRMULAS-ESTADÍSTICAS)\n",
    "- [RESÚMEN DE FÓRMULAS PYTHON](#RESÚMEN-DE-FÓRMULAS-PYTHON)"
   ]
  },
  {
   "cell_type": "markdown",
   "metadata": {},
   "source": [
    "## IMPORTAMOS ALGUNAS LIBRERÍAS QUE USAREMOS:"
   ]
  },
  {
   "cell_type": "code",
   "execution_count": 5,
   "metadata": {
    "collapsed": false
   },
   "outputs": [
    {
     "name": "stderr",
     "output_type": "stream",
     "text": [
      ":0: FutureWarning: IPython widgets are experimental and may change in the future.\n"
     ]
    }
   ],
   "source": [
    "#!/usr/bin/env\n",
    "# -*- coding:utf-8 -*-\n",
    "\n",
    "from __future__ import division\n",
    "from numpy import *\n",
    "import scipy.stats as st\n",
    "from pylab import *\n",
    "\n",
    "import matplotlib as mpl\n",
    "import matplotlib.pyplot as plt\n",
    "\n",
    "import prettyplotlib as ppl\n",
    "import seaborn as sns\n",
    "\n",
    "sns.set(style=\"ticks\", palette=\"Set2\")\n",
    "sns.despine()\n",
    "\n",
    "%matplotlib inline\n",
    "\n",
    "from IPython.display import Latex, Markdown, IFrame, HTML, display\n",
    "from IPython.html.widgets import interactive"
   ]
  },
  {
   "cell_type": "markdown",
   "metadata": {},
   "source": [
    "## CREAMO UN WIDGET PARA VISUALIZAR PDF's (APUNTES)"
   ]
  },
  {
   "cell_type": "code",
   "execution_count": 6,
   "metadata": {
    "collapsed": true
   },
   "outputs": [],
   "source": [
    "contrastes = \"https://docs.google.com/file/d/0B_kK0s_MMsRrT3pqT3gyR2kyTDA/preview\"\n",
    "tablas = \"https://docs.google.com/file/d/0B_kK0s_MMsRrUzhOQldjVHk5MDA/preview\"\n",
    "problemas = \"https://docs.google.com/file/d/0B_kK0s_MMsRreERYWTZ1aEp6VVU/preview\" \n",
    "presentacion = \"https://docs.google.com/file/d/0B_kK0s_MMsRrVlkzWFNVSy1oaTA/preview\"\n",
    "teoria = \"https://docs.google.com/file/d/0B_kK0s_MMsRrVEY5djFiNlVMYzg/preview\"\n",
    "\n",
    "\n",
    "def pdf_show(url):\n",
    "    pdf = HTML('<iframe src=%r width=\\\"600\\\" height=\\\"600\\\"></iframe>' % url)\n",
    "    display(pdf)\n",
    "\n",
    "pdf = interactive(pdf_show, url={'problemas': problemas,\n",
    "                                 'teoria': teoria, \n",
    "                                 'presentacion': presentacion,\n",
    "                                 'contrastes': contrastes,\n",
    "                                 'tablas': tablas})"
   ]
  },
  {
   "cell_type": "markdown",
   "metadata": {},
   "source": [
    "# APUNTES"
   ]
  },
  {
   "cell_type": "code",
   "execution_count": 7,
   "metadata": {
    "collapsed": false
   },
   "outputs": [
    {
     "data": {
      "text/html": [
       "<iframe src='https://docs.google.com/file/d/0B_kK0s_MMsRreERYWTZ1aEp6VVU/preview' width=\"600\" height=\"600\"></iframe>"
      ],
      "text/plain": [
       "<IPython.core.display.HTML object>"
      ]
     },
     "metadata": {},
     "output_type": "display_data"
    }
   ],
   "source": [
    "display(pdf)"
   ]
  },
  {
   "cell_type": "markdown",
   "metadata": {},
   "source": [
    "[INDICE](#INDICE) - - - - - -  [APUNTES](#APUNTES) - - - - - - [ANEXO](#ANEXO)\n",
    "\n"
   ]
  },
  {
   "cell_type": "markdown",
   "metadata": {},
   "source": [
    "# CONTRASTE DE HIPOTESIS\n",
    "\n",
    "# CONCEPTOS BÁSICOS\n",
    "\n",
    "# PROBLEMA 1\n",
    "\n",
    "\n",
    "La duración de un corte de luz (medido en minutos) en una determinada ciudad puede explicarse mediante una distribución normal con desviación típica 5. Efectuadas dos hipótesis sobre la duración media del corte : \n",
    "\n",
    "> $H_0: μ = 12 \\\\ H_1: μ = 15 $\n",
    "\n",
    "Se toma una muestra aleatoria simple de tamaño 25 para contrastar H0 frente a H1, estableciéndose que si la media muestral es menor de 14 se aceptará H0. \n",
    "\n",
    "\n",
    "1. CALCULE:\n",
    "\t1. [La probabilidad de cometer el error de tipo I. ](#1.A.)\n",
    "\t1. [La probabilidad de cometer el error de tipo II. ](#1.B.)\n",
    "\t1. [La potencia del test. ](#1.C.)\n"
   ]
  },
  {
   "cell_type": "markdown",
   "metadata": {},
   "source": [
    "[INDICE](#INDICE) - - - - - -  [APUNTES](#APUNTES) - - - - - - [ANEXO](#ANEXO)"
   ]
  },
  {
   "cell_type": "markdown",
   "metadata": {},
   "source": [
    "[<– ENUNCIADO](#PROBLEMA-1)"
   ]
  },
  {
   "cell_type": "markdown",
   "metadata": {},
   "source": [
    "### Datos :"
   ]
  },
  {
   "cell_type": "code",
   "execution_count": 8,
   "metadata": {
    "collapsed": true
   },
   "outputs": [],
   "source": [
    "dt = 5  # desviacion tipica POBLACIONAL (varianza conocida)\n",
    "n = 25  # tamaño de la muestra\n",
    "h0 = 12\n",
    "h1 = 15\n",
    "c = 14  # si media < c entonces aceptamos H0"
   ]
  },
  {
   "cell_type": "markdown",
   "metadata": {},
   "source": [
    "[<– ENUNCIADO](#PROBLEMA-1)"
   ]
  },
  {
   "cell_type": "markdown",
   "metadata": {},
   "source": [
    "## 1.A."
   ]
  },
  {
   "cell_type": "markdown",
   "metadata": {},
   "source": [
    "### Probabilidad de error de tipo i:\n",
    "\n",
    "#### $P( \\bar{x} > C\\ |\\ H_0) =$\n",
    "#### $ = P( \\frac{(H_0 - c) · \\sqrt{n}}{\\sigma}\\ >\\ 0 ) $\n",
    "\n",
    "> Nota: La normal es simétrica, P(-X < 0) = P(X > 0)"
   ]
  },
  {
   "cell_type": "markdown",
   "metadata": {},
   "source": [
    "[<– ENUNCIADO](#PROBLEMA-1)"
   ]
  },
  {
   "cell_type": "code",
   "execution_count": 9,
   "metadata": {
    "collapsed": false
   },
   "outputs": [
    {
     "data": {
      "text/plain": [
       "0.022750131948179195"
      ]
     },
     "execution_count": 9,
     "metadata": {},
     "output_type": "execute_result"
    }
   ],
   "source": [
    "pei = (h0 - c) * sqrt(n) / dt\n",
    "zi = st.norm.cdf(pei)\n",
    "zi"
   ]
  },
  {
   "cell_type": "markdown",
   "metadata": {},
   "source": [
    "## 1.B."
   ]
  },
  {
   "cell_type": "markdown",
   "metadata": {},
   "source": [
    "### Probabilidad de error de tipo ii:\n",
    "#### $P( \\bar{x} < c\\ |\\ H_1 ) =$\n",
    "#### $= P( \\frac{(H_1 - c) · \\sqrt{n}}{\\sigma} < 0 )$ ???\n"
   ]
  },
  {
   "cell_type": "markdown",
   "metadata": {},
   "source": [
    "[<– ENUNCIADO](#PROBLEMA-1)"
   ]
  },
  {
   "cell_type": "code",
   "execution_count": 10,
   "metadata": {
    "collapsed": false
   },
   "outputs": [
    {
     "data": {
      "text/plain": [
       "0.15865525393145707"
      ]
     },
     "execution_count": 10,
     "metadata": {},
     "output_type": "execute_result"
    }
   ],
   "source": [
    "peii = (h1 - c) * sqrt(n) / dt\n",
    "zii = 1 - st.norm.cdf(peii)\n",
    "zii"
   ]
  },
  {
   "cell_type": "markdown",
   "metadata": {},
   "source": [
    "## 1.C."
   ]
  },
  {
   "cell_type": "markdown",
   "metadata": {},
   "source": [
    "### Potencia:"
   ]
  },
  {
   "cell_type": "markdown",
   "metadata": {},
   "source": [
    "[<– ENUNCIADO](#PROBLEMA-1)"
   ]
  },
  {
   "cell_type": "code",
   "execution_count": 11,
   "metadata": {
    "collapsed": false
   },
   "outputs": [
    {
     "data": {
      "text/plain": [
       "0.84134474606854293"
      ]
     },
     "execution_count": 11,
     "metadata": {},
     "output_type": "execute_result"
    }
   ],
   "source": [
    "pot = 1 - zii\n",
    "pot"
   ]
  },
  {
   "cell_type": "markdown",
   "metadata": {},
   "source": [
    "### RESUMEN"
   ]
  },
  {
   "cell_type": "markdown",
   "metadata": {},
   "source": [
    "1. RESULTADOS:\n",
    "    1. PROBABILIDAD DE ERROR DE TIPO I:\n",
    "    Punto a partir del cual Cometemos Error de Tipo I = -2.0\n",
    "    P(Error de Tipo I) = 0.02275\n",
    "    2. PROBABILIDAD DE ERROR DE TIPO II:\n",
    "    Punto a partir del cual Cometemos Error de Tipo II = 1.0\n",
    "    P(Error de Tipo II) = 0.1587\n",
    "    3. POTENCIA:\n",
    "    Potencia = 0.841344746069"
   ]
  },
  {
   "cell_type": "markdown",
   "metadata": {},
   "source": [
    "## RECORDAR:\n",
    "\n",
    "- Error tipo I: Rechazar la hipótesis nula cuando es cierta.\n",
    "- Error tipo II: No rechazar la hipótesis nula cuando es falsa. \n",
    "\n",
    "Por tanto:\n",
    "\n",
    "P(Error TI) = P(Rechazar $H_0$ | $H_0$)\n",
    "\n",
    "P(Error TII) = P(No Rechazar $H_0$ | $H_1$)\n",
    "\n",
    "### EJEMPLO:\n",
    "Sea X ~ N(μ,σ) con σ conocida y planteamos el siguiente contraste:\n",
    "\n",
    "- $H_0:\\ μ = μ_0$\n",
    "- $H_1:\\ μ = μ_1$ con μ > μ1\n",
    "\n",
    "Se extrae una m.a.s. de tamaño n y la regla de decisión del contraste viene dada por:\n",
    "\n",
    "- Aceptar $H_0$: si $\\bar{x} ≤ C$\n",
    "- Aceptar $H_1$: si $\\bar{x} > C$\n"
   ]
  },
  {
   "cell_type": "markdown",
   "metadata": {},
   "source": [
    "[<– ENUNCIADO](#PROBLEMA-1)"
   ]
  },
  {
   "cell_type": "markdown",
   "metadata": {},
   "source": [
    "[INDICE](#INDICE) - - - - - -  [APUNTES](#APUNTES) - - - - - - [ANEXO](#ANEXO)\n",
    "\n"
   ]
  },
  {
   "cell_type": "markdown",
   "metadata": {},
   "source": [
    " "
   ]
  },
  {
   "cell_type": "markdown",
   "metadata": {},
   "source": [
    " "
   ]
  },
  {
   "cell_type": "markdown",
   "metadata": {},
   "source": [
    " "
   ]
  },
  {
   "cell_type": "markdown",
   "metadata": {},
   "source": [
    " "
   ]
  },
  {
   "cell_type": "markdown",
   "metadata": {},
   "source": [
    " "
   ]
  },
  {
   "cell_type": "markdown",
   "metadata": {},
   "source": [
    "# PROBLEMA 2\n",
    "\n",
    "Se sabe que la proporción de artículos defectuosos en un proceso de manufactura es de 0,05. El proceso se vigila de forma periódica tomando muestras aleatorias de tamaño 20 e inspeccionando las unidades. Si se encuentran dos o más unidades defectuosas en la muestra, el proceso se detiene y se considera \"fuera de control\". \n",
    "\n",
    "1. CALCULE:\n",
    "\t1. [Enuncia las hipótesis nula y alternativa apropiadas.](#2.A.)\n",
    "\t1. [Obtener la probabilidad del error de tipo 1.](#2.B.)\n",
    "\t1. [Calcular la potencia del test para los siguientes valores alternativos de la proporción de artículos defectuosos: 0.06, 0.08, 0.1, 0.15, 0.2, 0.25](#2.C.)\n",
    "\t1. [Comparar las respuestas de los apartados b) y c) con las obtenidas en los mismos si el proceso se considerara \"fuera de control\" cuando se encuentran tres o más unidades defectuosas.](#2.D.)"
   ]
  },
  {
   "cell_type": "markdown",
   "metadata": {},
   "source": [
    "[INDICE](#INDICE) - - - - - -  [APUNTES](#APUNTES) - - - - - - [ANEXO](#ANEXO)\n",
    "\n"
   ]
  },
  {
   "cell_type": "markdown",
   "metadata": {},
   "source": [
    "## DATOS:"
   ]
  },
  {
   "cell_type": "code",
   "execution_count": 12,
   "metadata": {
    "collapsed": true
   },
   "outputs": [],
   "source": [
    "n = 20\n",
    "T = 2 \n",
    "p = T / n\n",
    "\n",
    "h0 = 0.05  # ≤ 2 = No Rechazamos h0\n",
    "h1 = 0.05  # > 2 = Rechazamos h0"
   ]
  },
  {
   "cell_type": "markdown",
   "metadata": {},
   "source": [
    "[<– ENUNCIADO](#PROBLEMA-2)"
   ]
  },
  {
   "cell_type": "markdown",
   "metadata": {},
   "source": [
    "## 2.A."
   ]
  },
  {
   "cell_type": "markdown",
   "metadata": {},
   "source": [
    "- $H_0: p ≤ 0.05 $ : –––> (menos de 2 son defectuosas)\n",
    "\n",
    "\n",
    "- $H_1: p > 0.05 $ : –––> (2 o más son defectuosas)"
   ]
  },
  {
   "cell_type": "markdown",
   "metadata": {},
   "source": [
    "[<– ENUNCIADO](#PROBLEMA-2)"
   ]
  },
  {
   "cell_type": "markdown",
   "metadata": {},
   "source": [
    "## 2.B. "
   ]
  },
  {
   "cell_type": "markdown",
   "metadata": {},
   "source": [
    "**Recordemos los Errores de Tipo I y II:**\n",
    "\n",
    ">P(Error de tipo I) = P( Decido $H_1$ | Es cierto $H_0$)\n",
    "\n",
    ">P(Error de tipo II) = P( Decido $H_0$ | Es cierto $H_1$)"
   ]
  },
  {
   "cell_type": "markdown",
   "metadata": {},
   "source": [
    "**Si bien para la proporción se cumple:**\n",
    "\n",
    "$$Z_{muestral\\ ,\\frac{\\alpha}{2}} = \\frac{\\hat{p} - p}{\\sqrt{\\hat{p} · (1-\\hat{p}) } }· \\sqrt{n}$$\n",
    "\n",
    "< ! > NOTAR que **no hará falta usar esta ecuación.**"
   ]
  },
  {
   "cell_type": "markdown",
   "metadata": {},
   "source": [
    "#### [ ! ] Basta con plantear bien el problema:\n",
    "\n",
    "#### $$ \\hat{p} = \\frac{T}{n} $$\n",
    "\n",
    "**$x_i:$ Pieza sea defectuosa **\n",
    "\n",
    "$\\{0:\\ SIN\\ DEFECTO\\ ,\\ 1:\\ DEFECTUOSA \\}$\n",
    "\n",
    "$x \\sim Be(p_{H_0}=0.05)$\n",
    "\n",
    "**$T:$ Total de defectuosas $\\sim Bin(n = 20\\ ,\\ p_{H_0}=0.05)$**\n",
    "\n",
    "> **$\\alpha= P(EI) \\\\= P(H_1\\ |\\ H_0) \\\\= P(T > 2\\ |\\ p=0.05) \\\\= 1 - P(T ≤ 1)$**"
   ]
  },
  {
   "cell_type": "markdown",
   "metadata": {},
   "source": [
    "[<– ENUNCIADO](#PROBLEMA-2)"
   ]
  },
  {
   "cell_type": "code",
   "execution_count": 13,
   "metadata": {
    "collapsed": false
   },
   "outputs": [
    {
     "data": {
      "text/markdown": [
       "### P(Error de tipo I) = 0.26416"
      ],
      "text/plain": [
       "<IPython.core.display.Markdown object>"
      ]
     },
     "execution_count": 13,
     "metadata": {},
     "output_type": "execute_result"
    }
   ],
   "source": [
    "pei = 1 - st.binom.cdf(n=n, p=h0, k=1)\n",
    "Markdown('''### P(Error de tipo I) = %s''' % round(pei, 5))"
   ]
  },
  {
   "cell_type": "markdown",
   "metadata": {},
   "source": [
    "## 2.C. "
   ]
  },
  {
   "cell_type": "markdown",
   "metadata": {},
   "source": [
    "$Pot(p) = P(H_1\\ |\\ H_1)$ \n",
    "\n",
    "$= 1 - P(H_0\\ |\\ H_1)$\n",
    "\n",
    "$= 1 - P( T < 2\\ |\\ H_1) $\n",
    "\n",
    "$= 1 - P(T ≤ 1 \\sim Bin(n, p_{H_1}))$"
   ]
  },
  {
   "cell_type": "markdown",
   "metadata": {},
   "source": [
    "[<– ENUNCIADO](#PROBLEMA-2)"
   ]
  },
  {
   "cell_type": "code",
   "execution_count": 14,
   "metadata": {
    "collapsed": true
   },
   "outputs": [],
   "source": [
    "ph1_i = [0.06, 0.08, 0.1, 0.15, 0.2, 0.25]  # p alternativos\n",
    "pot_i = []\n",
    "\n",
    "for p_i in ph1_i:\n",
    "    pot_i.append(1 - st.binom.cdf(n=n, p=p_i, k=1))"
   ]
  },
  {
   "cell_type": "code",
   "execution_count": 15,
   "metadata": {
    "collapsed": true
   },
   "outputs": [],
   "source": [
    "# Creamos un archivo buffering para guardar los datos en formato md y recuperarlos\n",
    "t = open('buff.txt', 'w')\n",
    "t.write('|$p = p_{H_1}$|$Pot(p_{H_1})$|\\n|:---:|:---:|\\n')\n",
    "\n",
    "for i in range(len(pot_i)):\n",
    "    t.write('|%s|%s|\\n' % (ph1_i[i], round(pot_i[i], 4)))\n",
    "\n",
    "t.close()"
   ]
  },
  {
   "cell_type": "code",
   "execution_count": 16,
   "metadata": {
    "collapsed": false
   },
   "outputs": [
    {
     "data": {
      "text/markdown": [
       "|$p = p_{H_1}$|$Pot(p_{H_1})$|\n",
       "|:---:|:---:|\n",
       "|0.06|0.3395|\n",
       "|0.08|0.4831|\n",
       "|0.1|0.6083|\n",
       "|0.15|0.8244|\n",
       "|0.2|0.9308|\n",
       "|0.25|0.9757|\n"
      ],
      "text/plain": [
       "<IPython.core.display.Markdown object>"
      ]
     },
     "execution_count": 16,
     "metadata": {},
     "output_type": "execute_result"
    }
   ],
   "source": [
    "t = open('buff.txt', 'r')\n",
    "text = t.read()\n",
    "Markdown(text)"
   ]
  },
  {
   "cell_type": "code",
   "execution_count": 17,
   "metadata": {
    "collapsed": true
   },
   "outputs": [],
   "source": [
    "t.close()"
   ]
  },
  {
   "cell_type": "markdown",
   "metadata": {},
   "source": [
    "[INDICE](#INDICE) - - - - - -  [APUNTES](#APUNTES) - - - - - - [ANEXO](#ANEXO)\n",
    "\n"
   ]
  },
  {
   "cell_type": "markdown",
   "metadata": {},
   "source": [
    " "
   ]
  },
  {
   "cell_type": "markdown",
   "metadata": {},
   "source": [
    " "
   ]
  },
  {
   "cell_type": "markdown",
   "metadata": {},
   "source": [
    " "
   ]
  },
  {
   "cell_type": "markdown",
   "metadata": {},
   "source": [
    " "
   ]
  },
  {
   "cell_type": "markdown",
   "metadata": {},
   "source": [
    "# PROBLEMA 3\n",
    "\n",
    "La Dirección General de Tráfico quiere conocer la velocidad a la que circulan los automóviles en un tramo determinado de una carretera. Para una muestra de 7 automóviles, el radar señaló las siguientes velocidades en kilómetros por hora.\n",
    "\n",
    "79, 73, 68, 77, 86, 71, 69\n",
    "\n",
    "Si la distribución poblacional de la velocidad es normal "
   ]
  },
  {
   "cell_type": "markdown",
   "metadata": {},
   "source": [
    "1. CALCULE:\n",
    "\t1. [Calcular un intervalo de confianza para del 99% para la velocidad media a la que circulan los automóviles](#3.A.)\n",
    "\t1. [¿Qué relación tiene el intervalo de confianza calculado en A. con un contraste de hipótesis acerca de dicha velocidad media?](#3.B.)"
   ]
  },
  {
   "cell_type": "markdown",
   "metadata": {},
   "source": [
    "[INDICE](#INDICE) - - - - - -  [APUNTES](#APUNTES) - - - - - - [ANEXO](#ANEXO)\n",
    "\n"
   ]
  },
  {
   "cell_type": "markdown",
   "metadata": {},
   "source": [
    "### 3. DATOS:"
   ]
  },
  {
   "cell_type": "markdown",
   "metadata": {},
   "source": [
    "[<– ENUNCIADO](#PROBLEMA-3)"
   ]
  },
  {
   "cell_type": "code",
   "execution_count": 18,
   "metadata": {
    "collapsed": true
   },
   "outputs": [],
   "source": [
    "x = [79, 73, 68, 77, 86, 71, 69]\n",
    "n = 7  # n pequeño\n",
    "nc = 0.99\n",
    "\n",
    "# calculamos los datos necesarios:\n",
    "\n",
    "media = round(mean(x), 3)\n",
    "var = var(x)  # varianza desconocida\n",
    "t = st.t.ppf(df=n-1, q=nc/2)  # no hace falta, usamos el método interval()\n",
    "s1 = round(sqrt(var * n / (n - 1)), 3)\n",
    "ee = s1 / sqrt(n)"
   ]
  },
  {
   "cell_type": "markdown",
   "metadata": {},
   "source": [
    "## 3.A."
   ]
  },
  {
   "cell_type": "markdown",
   "metadata": {},
   "source": [
    "### CALCULAR EL INTERVALO DE CONFIANZA:"
   ]
  },
  {
   "cell_type": "markdown",
   "metadata": {},
   "source": [
    "[<– ENUNCIADO](#PROBLEMA-3)"
   ]
  },
  {
   "cell_type": "code",
   "execution_count": 19,
   "metadata": {
    "collapsed": true
   },
   "outputs": [],
   "source": [
    "ic = np.round(st.t.interval(df=n-1, alpha=0.99, loc=media, scale=ee), 3)"
   ]
  },
  {
   "cell_type": "code",
   "execution_count": 20,
   "metadata": {
    "collapsed": false
   },
   "outputs": [
    {
     "data": {
      "text/plain": [
       "<matplotlib.collections.PolyCollection at 0x11724e9d0>"
      ]
     },
     "execution_count": 20,
     "metadata": {},
     "output_type": "execute_result"
    },
    {
     "data": {
      "image/png": "[encoded data removed]",
      "text/plain": [
       "<matplotlib.figure.Figure at 0x1172724d0>"
      ]
     },
     "metadata": {},
     "output_type": "display_data"
    }
   ],
   "source": [
    "x = linspace(60, 90, 200)\n",
    "y = [st.t.pdf(df=n-1, x=e, loc=media, scale=ee) for e in x]\n",
    "\n",
    "ppl.plot(x,y, linewidth=2)\n",
    "plt.fill_between(x=x, y1=y, y2=0, where=ic[0]>x, color='red', alpha=0.5)\n",
    "plt.fill_between(x=x, y1=y, y2=0, where=ic[1]<x, color='red', alpha=0.5)"
   ]
  },
  {
   "cell_type": "code",
   "execution_count": 21,
   "metadata": {
    "collapsed": false
   },
   "outputs": [
    {
     "data": {
      "text/markdown": [
       "\n",
       "### RESULTADOS:\n",
       "- Media Muestral $(\\bar{x}) = 74.714$\n",
       "- Cuasidesviación típica $(S_1) = 6.396$\n",
       "- IC$(µ) = (65.751\\ ,\\ 83.677)$"
      ],
      "text/plain": [
       "<IPython.core.display.Markdown object>"
      ]
     },
     "execution_count": 21,
     "metadata": {},
     "output_type": "execute_result"
    }
   ],
   "source": [
    "Markdown(u'''\n",
    "### RESULTADOS:\n",
    "- Media Muestral $(\\\\bar{x}) = %s$\n",
    "- Cuasidesviación típica $(S_1) = %s$\n",
    "- IC$(µ) = (%s\\ ,\\ %s)$''' % (media, s1, ic[0], ic[1]))"
   ]
  },
  {
   "cell_type": "markdown",
   "metadata": {},
   "source": [
    "[INDICE](#INDICE) - - - - - -  [APUNTES](#APUNTES) - - - - - - [ANEXO](#ANEXO)\n",
    "\n"
   ]
  },
  {
   "cell_type": "markdown",
   "metadata": {},
   "source": [
    "## 3.B."
   ]
  },
  {
   "cell_type": "markdown",
   "metadata": {},
   "source": [
    "[<– ENUNCIADO](#PROBLEMA-3)"
   ]
  },
  {
   "cell_type": "markdown",
   "metadata": {},
   "source": [
    "### RELACIÓN ENTRE EL IC Y EL CONTRASTE DE HIPÓTESIS:"
   ]
  },
  {
   "cell_type": "markdown",
   "metadata": {},
   "source": [
    "### INTERVALO DE CONFIANZA:\n",
    "\n",
    "### - $IC(µ) = \\bar{x} ± t_{(n-1\\ ,\\ \\frac{\\alpha}{2})} \\frac{S_1}{\\sqrt{n}}$\n",
    "\n",
    "\n"
   ]
  },
  {
   "cell_type": "markdown",
   "metadata": {},
   "source": [
    "### CONTRASTE DE HIPÓTESIS:\n",
    "\n",
    "> $H_0: \\mu = \\mu_0$\n",
    "\n",
    "> $H_1: \\mu \\not = \\mu_1$\n",
    "\n",
    "### Dado $\\alpha$\n",
    "\n",
    "- $CH(H_0): t_{(n-1\\ ,\\ \\frac{\\alpha}{2})} > t_{muestral} $\n",
    "\n",
    "- $t_{muestral} = \\frac{\\bar{x} - \\mu_0}{S_1}\\sqrt{n}$\n",
    "\n",
    "El intervalo de confianza por tanto contiene los valores de $\\bar{x}$ para los que aceptamos la $H_0: \\mu = \\mu_0$ con una confianza del 99%. Valores fuera del Intervalo de confianza, se corresponde con $H_0$ rechazadas.\n",
    "\n"
   ]
  },
  {
   "cell_type": "markdown",
   "metadata": {},
   "source": [
    "[INDICE](#INDICE) - - - - - -  [APUNTES](#APUNTES) - - - - - - [ANEXO](#ANEXO)\n",
    "\n"
   ]
  },
  {
   "cell_type": "markdown",
   "metadata": {},
   "source": [
    " "
   ]
  },
  {
   "cell_type": "markdown",
   "metadata": {},
   "source": [
    " "
   ]
  },
  {
   "cell_type": "markdown",
   "metadata": {},
   "source": [
    " "
   ]
  },
  {
   "cell_type": "markdown",
   "metadata": {},
   "source": [
    " "
   ]
  },
  {
   "cell_type": "markdown",
   "metadata": {},
   "source": [
    " "
   ]
  },
  {
   "cell_type": "markdown",
   "metadata": {},
   "source": [
    " "
   ]
  },
  {
   "cell_type": "markdown",
   "metadata": {},
   "source": [
    " "
   ]
  },
  {
   "cell_type": "markdown",
   "metadata": {},
   "source": [
    "# PROBLEMA 4\n",
    "\n",
    "El catálogo de un fabricante de latas de conserva afirma que el peso medio de sus latas es de 256.2  gramos, con una desviación típica de 8.24 gramos. Tomamos una muestra de 9 latas y nos da como resultado un peso medio de 249.7 gramos. Suponiendo normalidad."
   ]
  },
  {
   "cell_type": "markdown",
   "metadata": {},
   "source": [
    "1. CALCULE:\n",
    "\t1. [¿a partir de qué nivel de significación podríamos dudar de esta afirmación?](#4.A.)\n",
    "\t1. [Si, además, la muestra da cómo resultado una cuasidesviación típica de 9 gramos, calcular un intervalo de confianza del 99% para la desviación típica.](#4.B.)\n",
    "\t1. [¿cómo se interpretaría el intervalo en términos de un contraste de hipótesis?](#4.C.)"
   ]
  },
  {
   "cell_type": "markdown",
   "metadata": {},
   "source": [
    "[INDICE](#INDICE) - - - - - -  [APUNTES](#APUNTES) - - - - - - [ANEXO](#ANEXO)\n",
    "\n"
   ]
  },
  {
   "cell_type": "markdown",
   "metadata": {},
   "source": [
    "## 4. DATOS:"
   ]
  },
  {
   "cell_type": "markdown",
   "metadata": {},
   "source": [
    "[<– ENUNCIADO](#PROBLEMA-4)"
   ]
  },
  {
   "cell_type": "code",
   "execution_count": 22,
   "metadata": {
    "collapsed": true
   },
   "outputs": [],
   "source": [
    "# Población:\n",
    "mu = 256.2 \n",
    "sigma = 8.24\n",
    "\n",
    "# Muestra:\n",
    "n = 9\n",
    "media = 249.7"
   ]
  },
  {
   "cell_type": "markdown",
   "metadata": {},
   "source": [
    "## 4.A."
   ]
  },
  {
   "cell_type": "markdown",
   "metadata": {},
   "source": [
    "### A PARTIR DE QUÉ NIVEL DE SIGNIFICACIÓN PODRÍAMOS EN DUDA $H_0$:\n",
    "\n",
    "> $H_0: \\mu_0= 256.2$\n",
    "\n",
    "> $H_1: \\mu_1 < 256.2$\n",
    "\n",
    "$(z_{muestral} = \\frac{\\bar{x} - \\mu_0}{\\sigma}\\sqrt{n}) < -Z_{teórico} $\n",
    "\n",
    "Región Crítica (RC): $Z_{muestral} < -z_{teórico}$\n"
   ]
  },
  {
   "cell_type": "code",
   "execution_count": 23,
   "metadata": {
    "collapsed": false
   },
   "outputs": [],
   "source": [
    "# Punto crítico:\n",
    "ee = sigma / sqrt(n)\n",
    "z_m = (media - mu) * 1/ee\n",
    "p_z = 1-st.norm.cdf(z_m)\n",
    "z_m, p_z = np.round([z_m, p_z], 6)"
   ]
  },
  {
   "cell_type": "code",
   "execution_count": 40,
   "metadata": {
    "collapsed": false
   },
   "outputs": [
    {
     "data": {
      "image/png": "[encoded data removed]",
      "text/plain": [
       "<matplotlib.figure.Figure at 0x11724ebd0>"
      ]
     },
     "metadata": {},
     "output_type": "display_data"
    }
   ],
   "source": [
    "fig, axs= subplots(2)\n",
    "x = linspace(-4,4,100)\n",
    "y = [st.norm.pdf(e) for e in linspace(-4,4,100)]\n",
    "\n",
    "ppl.plot(axs[0], x, y, linewidth=2)\n",
    "axs[0].axvline(z_m, color='black', alpha=0.5, linewidth=2)\n",
    "axs[0].fill_between(x=x, y1=y, y2=0, where=x<=z_m, color='red', alpha=0.5)\n",
    "\n",
    "ppl.plot(axs[1], x, y, linewidth=2)\n",
    "axvline(z_m, color='black', alpha=0.5, linewidth=2)\n",
    "fill_between(x=x, y1=y, y2=0, where=x<=z_m, color='red', alpha=0.5)\n",
    "xlim(-4,-2)\n",
    "ylim(0, 0.05)\n",
    "\n",
    "tight_layout()"
   ]
  },
  {
   "cell_type": "code",
   "execution_count": 25,
   "metadata": {
    "collapsed": false
   },
   "outputs": [
    {
     "data": {
      "text/plain": [
       "-2.366504854368932"
      ]
     },
     "execution_count": 25,
     "metadata": {},
     "output_type": "execute_result"
    }
   ],
   "source": [
    "\n",
    "((249.7-256.2)/8.24)*3"
   ]
  },
  {
   "cell_type": "markdown",
   "metadata": {},
   "source": [
    "Para un nivel de significación de menor a 0.008978 aceptaríamos $H_0$, para niveles mayores rechazamos. Esto se debe a que el p-valor (nivel de significación) es la probabilidad de obtener una estimación peor."
   ]
  },
  {
   "cell_type": "markdown",
   "metadata": {},
   "source": [
    "[<– ENUNCIADO](#PROBLEMA-4)"
   ]
  },
  {
   "cell_type": "markdown",
   "metadata": {},
   "source": [
    "## 4.B."
   ]
  },
  {
   "cell_type": "markdown",
   "metadata": {},
   "source": [
    "[<– ENUNCIADO](#PROBLEMA-4)"
   ]
  },
  {
   "cell_type": "code",
   "execution_count": 26,
   "metadata": {
    "collapsed": false
   },
   "outputs": [
    {
     "name": "stdout",
     "output_type": "stream",
     "text": [
      "IC(σ) = [  5.4328  21.9544]\n"
     ]
    }
   ],
   "source": [
    "s1 = 9  # cuasidesviacion\n",
    "dt = 8.24  # sigma\n",
    "nc = 0.99\n",
    "ns = 1 - nc  # alpha\n",
    "gl = n - 1  # grados de libertad\n",
    "ee = gl * s1 ** 2\n",
    "ic = divide(ee, [st.chi2.ppf(df=gl, q=1 - ns/2), st.chi2.ppf(df=gl, q=ns/2)])\n",
    "ic = sqrt(ic)\n",
    "print u'IC(σ) =', np.round(ic, 4)"
   ]
  },
  {
   "cell_type": "code",
   "execution_count": 27,
   "metadata": {
    "collapsed": false
   },
   "outputs": [
    {
     "data": {
      "text/plain": [
       "<matplotlib.collections.PolyCollection at 0x10e256b50>"
      ]
     },
     "execution_count": 27,
     "metadata": {},
     "output_type": "execute_result"
    },
    {
     "data": {
      "image/png": "[encoded data removed]",
      "text/plain": [
       "<matplotlib.figure.Figure at 0x117330b90>"
      ]
     },
     "metadata": {},
     "output_type": "display_data"
    }
   ],
   "source": [
    "x = linspace(0, 30, 700)\n",
    "y = [st.chi2.pdf(e, df=gl) for e in x]\n",
    "\n",
    "ppl.plot(x, y, linewidth=2)\n",
    "\n",
    "fill_between(x=x, y1=y, y2=0, where=x<ic[0], color='red', alpha=0.5)\n",
    "fill_between(x=x, y1=y, y2=0, where=x>ic[1], color='red', alpha=0.5)"
   ]
  },
  {
   "cell_type": "markdown",
   "metadata": {},
   "source": [
    "## 4.C."
   ]
  },
  {
   "cell_type": "markdown",
   "metadata": {},
   "source": [
    "[<– ENUNCIADO](#PROBLEMA-4)"
   ]
  },
  {
   "cell_type": "markdown",
   "metadata": {},
   "source": [
    "En términos de un contraste de hipótesis, los valores dentro del intervalo nos llevarían a aceptar la hipótesis nula, $H_0 = 8.24$, mientras que los valores fuera de el nos llevarían a rechazarla, para una signifiación del 1%."
   ]
  },
  {
   "cell_type": "markdown",
   "metadata": {},
   "source": [
    "[INDICE](#INDICE) - - - - - -  [APUNTES](#APUNTES) - - - - - - [ANEXO](#ANEXO)\n",
    "\n"
   ]
  },
  {
   "cell_type": "markdown",
   "metadata": {},
   "source": [
    " "
   ]
  },
  {
   "cell_type": "markdown",
   "metadata": {},
   "source": [
    " "
   ]
  },
  {
   "cell_type": "markdown",
   "metadata": {},
   "source": [
    " "
   ]
  },
  {
   "cell_type": "markdown",
   "metadata": {},
   "source": [
    " "
   ]
  },
  {
   "cell_type": "markdown",
   "metadata": {},
   "source": [
    " "
   ]
  },
  {
   "cell_type": "markdown",
   "metadata": {},
   "source": [
    " "
   ]
  },
  {
   "cell_type": "markdown",
   "metadata": {},
   "source": [
    "# PROBLEMA 5\n",
    "\n",
    "En una muestra de 200 residentes de una ciudad, 120 informaron que creen que se paga un número elevado de impuestos."
   ]
  },
  {
   "cell_type": "markdown",
   "metadata": {},
   "source": [
    "1. CALCULE:\n",
    "\t1. [Construir un intervalo de confianza del 95% para la proporción de residentes que creen que están de acuerdo con dicha opinión.](#5.A.)\n",
    "\t1. [¿Qué relación tiene el intervalo de confianza con un contraste de hipótesis acerca de dicha proporción? ¿Se podría decir que una mayoría de residentes piensa que el número de impuestos que se pagan es muy elevado?](#5.B.)"
   ]
  },
  {
   "cell_type": "markdown",
   "metadata": {},
   "source": [
    "## 5. DATOS:"
   ]
  },
  {
   "cell_type": "code",
   "execution_count": 28,
   "metadata": {
    "collapsed": true
   },
   "outputs": [],
   "source": [
    "n = 200\n",
    "t = 120  # número de personas que creen que pagan elevados impuestos\n",
    "p = t/n  # proporción"
   ]
  },
  {
   "cell_type": "markdown",
   "metadata": {},
   "source": [
    "## 5.A."
   ]
  },
  {
   "cell_type": "markdown",
   "metadata": {},
   "source": [
    "[<– ENUNCIADO](#PROBLEMA-5)"
   ]
  },
  {
   "cell_type": "code",
   "execution_count": 29,
   "metadata": {
    "collapsed": false
   },
   "outputs": [
    {
     "name": "stdout",
     "output_type": "stream",
     "text": [
      "IC(p) = [ 0.5321  0.6679]\n"
     ]
    }
   ],
   "source": [
    "nc = 95/100\n",
    "ns = 1 - nc\n",
    "z = st.norm.ppf(ns/2)\n",
    "\n",
    "ic = [p + z * sqrt(p * (1 - p) / n), p - z * sqrt(p * (1 - p) / n)]\n",
    "\n",
    "print 'IC(p) =', np.round(ic, 4)"
   ]
  },
  {
   "cell_type": "markdown",
   "metadata": {},
   "source": [
    "[INDICE](#INDICE) - - - - - -  [APUNTES](#APUNTES) - - - - - - [ANEXO](#ANEXO)"
   ]
  },
  {
   "cell_type": "markdown",
   "metadata": {},
   "source": [
    "## 5.B."
   ]
  },
  {
   "cell_type": "markdown",
   "metadata": {},
   "source": [
    "[<– ENUNCIADO](#PROBLEMA-5)"
   ]
  },
  {
   "cell_type": "markdown",
   "metadata": {},
   "source": [
    "La relación entre el IC(p) y el contraste bilateral es directo, para valores dentro del intervalo nos llevaría a no rechazar $H_0: p = p_0$, mientras que valores fuera del IC(p) nos llevarían a aceptar $H_1: p ≠ p_0$, con una confianza del 95%.\n",
    "\n",
    "Dado que el intervalo resultate es mayor estricto que 0.5 estamos en condiciones de afirmar que la mayoría piensa que los impuestos son elevados."
   ]
  },
  {
   "cell_type": "markdown",
   "metadata": {},
   "source": [
    "[INDICE](#INDICE) - - - - - -  [APUNTES](#APUNTES) - - - - - - [ANEXO](#ANEXO)"
   ]
  },
  {
   "cell_type": "markdown",
   "metadata": {},
   "source": [
    " "
   ]
  },
  {
   "cell_type": "markdown",
   "metadata": {},
   "source": [
    " "
   ]
  },
  {
   "cell_type": "markdown",
   "metadata": {},
   "source": [
    " "
   ]
  },
  {
   "cell_type": "markdown",
   "metadata": {},
   "source": [
    " "
   ]
  },
  {
   "cell_type": "markdown",
   "metadata": {},
   "source": [
    " "
   ]
  },
  {
   "cell_type": "markdown",
   "metadata": {},
   "source": [
    " "
   ]
  },
  {
   "cell_type": "markdown",
   "metadata": {},
   "source": [
    " "
   ]
  },
  {
   "cell_type": "markdown",
   "metadata": {},
   "source": [
    "# LEMA DE NEYMAN PEARSON"
   ]
  },
  {
   "cell_type": "markdown",
   "metadata": {},
   "source": [
    "# PROBLEMA 6\n",
    "\n",
    "Dos personas juegan a cara y cruz con una moneda. Al cabo de 100 partidas, la persona que eligió cara ha ganado 62 veces. Tras este resultado, la otra persona afirma que la moneda está trucada, y que la probabilidad de obtener cara es 2/3. El que ganaba mantiene que la moneda es correcta. "
   ]
  },
  {
   "cell_type": "markdown",
   "metadata": {},
   "source": [
    "1. CALCULE:\n",
    "\t1. [¿Quién de los dos tiene razón? (Tomar como nivel de significación el 5% y utilizar el contraste más potente).](#6.A.)"
   ]
  },
  {
   "cell_type": "markdown",
   "metadata": {},
   "source": [
    "## 6. DATOS:"
   ]
  },
  {
   "cell_type": "code",
   "execution_count": 30,
   "metadata": {
    "collapsed": true
   },
   "outputs": [],
   "source": [
    "# muestra:\n",
    "n = 100\n",
    "t = 62\n",
    "phat = 62/100\n",
    "\n",
    "# hipótesis:\n",
    "p0 = 1 / 2\n",
    "p1 = 2 / 3"
   ]
  },
  {
   "cell_type": "markdown",
   "metadata": {},
   "source": [
    "## 6.A."
   ]
  },
  {
   "cell_type": "markdown",
   "metadata": {},
   "source": [
    "[<– ENUNCIADO](#PROBLEMA-6)"
   ]
  },
  {
   "cell_type": "code",
   "execution_count": 31,
   "metadata": {
    "collapsed": false
   },
   "outputs": [
    {
     "name": "stdout",
     "output_type": "stream",
     "text": [
      "P(p = phat | p0) = 0.993983512137\n",
      "P(p = phat | p1) = 0.187688701669\n"
     ]
    }
   ],
   "source": [
    "# H_0:\n",
    "\n",
    "p_p0 = st.binom.cdf(n=n, p=p0, k=62)\n",
    "p_p1 = st.binom.cdf(n=n, p=p1, k=62)\n",
    "\n",
    "print 'P(p = phat | p0) =', p_p0\n",
    "print 'P(p = phat | p1) =', p_p1"
   ]
  },
  {
   "cell_type": "markdown",
   "metadata": {},
   "source": [
    "[INDICE](#INDICE) - - - - - -  [APUNTES](#APUNTES) - - - - - - [ANEXO](#ANEXO)"
   ]
  },
  {
   "cell_type": "markdown",
   "metadata": {},
   "source": [
    " "
   ]
  },
  {
   "cell_type": "markdown",
   "metadata": {},
   "source": [
    " "
   ]
  },
  {
   "cell_type": "markdown",
   "metadata": {},
   "source": [
    " "
   ]
  },
  {
   "cell_type": "markdown",
   "metadata": {},
   "source": [
    " "
   ]
  },
  {
   "cell_type": "markdown",
   "metadata": {},
   "source": [
    " "
   ]
  },
  {
   "cell_type": "markdown",
   "metadata": {},
   "source": [
    " "
   ]
  },
  {
   "cell_type": "markdown",
   "metadata": {},
   "source": [
    "# PROBLEMA 7\n",
    "La altura (en cm) de los niños de una población se distribuye según una N(μ,10). Con el fin de analizar si la altura de los niños ha aumentado se extrae una muestra aleatoria simple de 10 niños obteniéndose los siguientes resultados: \n",
    "\n",
    "115.32 93.76 107.59 128.17 106.32 76.45 102.80 100.17 97.97 105.61"
   ]
  },
  {
   "cell_type": "markdown",
   "metadata": {},
   "source": [
    "1. CALCULE:\n",
    "\t1. [Calcular el test más potente para contrastar la hipótesis μ =100 respecto a la alternativa μ = 105 para un nivel de significación del 5%. ](#7.A.)\n",
    "\t1. [Calcular la potencia del contraste. ](#7.B.)\n",
    "\t1. [Calcular el pvalor del contraste.](#7.C.)"
   ]
  },
  {
   "cell_type": "markdown",
   "metadata": {},
   "source": [
    "## 7. DATOS:"
   ]
  },
  {
   "cell_type": "code",
   "execution_count": 32,
   "metadata": {
    "collapsed": true
   },
   "outputs": [],
   "source": [
    "x = [115.32, 93.76, 107.59, 128.17, 106.32, 76.45, 102.80, 100.17, 97.97, 105.61]"
   ]
  },
  {
   "cell_type": "markdown",
   "metadata": {},
   "source": [
    "## 7.A."
   ]
  },
  {
   "cell_type": "markdown",
   "metadata": {},
   "source": [
    "[<– ENUNCIADO](#PROBLEMA-7)"
   ]
  },
  {
   "cell_type": "markdown",
   "metadata": {},
   "source": [
    "[INDICE](#INDICE) - - - - - -  [APUNTES](#APUNTES) - - - - - - [ANEXO](#ANEXO)"
   ]
  },
  {
   "cell_type": "markdown",
   "metadata": {},
   "source": [
    "## 7.B."
   ]
  },
  {
   "cell_type": "markdown",
   "metadata": {},
   "source": [
    "[<– ENUNCIADO](#PROBLEMA-7)"
   ]
  },
  {
   "cell_type": "markdown",
   "metadata": {},
   "source": [
    "[INDICE](#INDICE) - - - - - -  [APUNTES](#APUNTES) - - - - - - [ANEXO](#ANEXO)"
   ]
  },
  {
   "cell_type": "markdown",
   "metadata": {},
   "source": [
    "## 7.C."
   ]
  },
  {
   "cell_type": "markdown",
   "metadata": {},
   "source": [
    "[<– ENUNCIADO](#PROBLEMA-7)"
   ]
  },
  {
   "cell_type": "markdown",
   "metadata": {},
   "source": [
    "[INDICE](#INDICE) - - - - - -  [APUNTES](#APUNTES) - - - - - - [ANEXO](#ANEXO)"
   ]
  },
  {
   "cell_type": "markdown",
   "metadata": {},
   "source": [
    " "
   ]
  },
  {
   "cell_type": "markdown",
   "metadata": {},
   "source": [
    " "
   ]
  },
  {
   "cell_type": "markdown",
   "metadata": {},
   "source": [
    " "
   ]
  },
  {
   "cell_type": "markdown",
   "metadata": {},
   "source": [
    " "
   ]
  },
  {
   "cell_type": "markdown",
   "metadata": {},
   "source": [
    " "
   ]
  },
  {
   "cell_type": "markdown",
   "metadata": {},
   "source": [
    " "
   ]
  },
  {
   "cell_type": "markdown",
   "metadata": {},
   "source": [
    "# PROBLEMA 8\n",
    "El número de accidentes en un cruce muy transitado sigue una distribución de Poisson con una media de 2,5 accidentes por semana. La Dirección General de Tráfico decide reducir la velocidad límite de las dos carreteras que se cortan en el cruce a 2 accidentes por semana. La decisión con respecto a si la reducción en el límite de velocidad disminuye, significativamente el número medio de accidentes por semana, se tomará según el número total de accidentes que se observen durante un periodo de cuatro semanas, a partir de la reducción en el límite de velocidad. Si dicho número es excesivamente bajo se concluirá que la reducción del límite de velocidad ha sido eficaz. "
   ]
  },
  {
   "cell_type": "markdown",
   "metadata": {},
   "source": [
    "1. CALCULE:\n",
    "\t1. [Enunciar las hipótesis nula y alternativa apropiadas para esta situación. ](#8.A.)\n",
    "\t1. [Para un nivel de significación del 0,1, obtener la región crítica del contraste más potente.](#8.B.)\n",
    "\t1. [Si el número medio de accidentes disminuyó a 2, obtener la potencia del test planteado.](#8.C.)"
   ]
  },
  {
   "cell_type": "markdown",
   "metadata": {},
   "source": [
    "## 8. DATOS:"
   ]
  },
  {
   "cell_type": "markdown",
   "metadata": {},
   "source": [
    "X: Número de accidentes ~ Poisson(2,5 accs/semana)\n",
    "\n",
    "$H_0: \\lambda ≥ 2.5 \\\\ H_1: \\lambda < 2.5$\n",
    "\n",
    "$\\hat{\\lambda} = 2$"
   ]
  },
  {
   "cell_type": "markdown",
   "metadata": {},
   "source": [
    "## 8.A."
   ]
  },
  {
   "cell_type": "markdown",
   "metadata": {},
   "source": [
    "[<– ENUNCIADO](#PROBLEMA-8)"
   ]
  },
  {
   "cell_type": "markdown",
   "metadata": {},
   "source": [
    "[INDICE](#INDICE) - - - - - -  [APUNTES](#APUNTES) - - - - - - [ANEXO](#ANEXO)"
   ]
  },
  {
   "cell_type": "markdown",
   "metadata": {},
   "source": [
    "## 8.B."
   ]
  },
  {
   "cell_type": "markdown",
   "metadata": {},
   "source": [
    "[<– ENUNCIADO](#PROBLEMA-8)"
   ]
  },
  {
   "cell_type": "markdown",
   "metadata": {},
   "source": [
    "[INDICE](#INDICE) - - - - - -  [APUNTES](#APUNTES) - - - - - - [ANEXO](#ANEXO)"
   ]
  },
  {
   "cell_type": "markdown",
   "metadata": {},
   "source": [
    "## 8.C."
   ]
  },
  {
   "cell_type": "markdown",
   "metadata": {},
   "source": [
    "[<– ENUNCIADO](#PROBLEMA-8)"
   ]
  },
  {
   "cell_type": "markdown",
   "metadata": {},
   "source": [
    "[INDICE](#INDICE) - - - - - -  [APUNTES](#APUNTES) - - - - - - [ANEXO](#ANEXO)"
   ]
  },
  {
   "cell_type": "markdown",
   "metadata": {},
   "source": [
    " "
   ]
  },
  {
   "cell_type": "markdown",
   "metadata": {},
   "source": [
    " "
   ]
  },
  {
   "cell_type": "markdown",
   "metadata": {},
   "source": [
    " "
   ]
  },
  {
   "cell_type": "markdown",
   "metadata": {},
   "source": [
    "# CONTRASTES NOTABLES "
   ]
  },
  {
   "cell_type": "markdown",
   "metadata": {},
   "source": [
    "# PROBLEMA 9\n",
    "La demanda de un determinado tipo de artículo ha venido comportándose durante los últimos años con arreglo a una distribución normal de media 200 y desviación típica 20. A la empresa que lo produce se le ofrece una campaña publicitaria del artículo, con objeto de aumentar sus ventas. Si bien el precio de la campaña es alto, la empresa considera que si su aplicación eleva la venta media en más de 250 unidades su contratación sería rentable. Para tomar una decisión, tal campaña se aplica durante un cierto periodo, obteniéndose como demanda media en dicho periodo, 260 unidades correspondientes a 35 de sus clientes habituales. \n",
    "1. ¿Qué decisión adoptará la empresa al nivel de significación del 1%? Calcular el pvalor del contraste."
   ]
  },
  {
   "cell_type": "markdown",
   "metadata": {},
   "source": [
    "[INDICE](#INDICE) - - - - - -  [APUNTES](#APUNTES) - - - - - - [ANEXO](#ANEXO)\n",
    "\n"
   ]
  },
  {
   "cell_type": "markdown",
   "metadata": {},
   "source": [
    " "
   ]
  },
  {
   "cell_type": "markdown",
   "metadata": {},
   "source": [
    " "
   ]
  },
  {
   "cell_type": "markdown",
   "metadata": {},
   "source": [
    " "
   ]
  },
  {
   "cell_type": "markdown",
   "metadata": {},
   "source": [
    " "
   ]
  },
  {
   "cell_type": "markdown",
   "metadata": {},
   "source": [
    "# PROBLEMA 10\n",
    "Hace 5 años el Departamento de Transportes de un Estado hizo un estudio de la contaminación provocada por los automóviles de una ciudad. En el mes de Enero del año pasado se encontró que la contaminación media fue de 132. En el mes de Enero de este año el Departamento tomó una m.a.s. de 8 días y halló que la polución media fue 120 con una cuasi-desviación típica igual a 10. Para un nivel del 2.5%, ¿disminuyó significativamente el nivel de polución durante este mes con respecto al del hace 5 años? (Suponer que el nivel de contaminación se distribuye normalmente). \n",
    "1. Calcular el pvalor del contraste."
   ]
  },
  {
   "cell_type": "markdown",
   "metadata": {},
   "source": [
    "[INDICE](#INDICE) - - - - - -  [APUNTES](#APUNTES) - - - - - - [ANEXO](#ANEXO)\n",
    "\n"
   ]
  },
  {
   "cell_type": "markdown",
   "metadata": {},
   "source": [
    " "
   ]
  },
  {
   "cell_type": "markdown",
   "metadata": {},
   "source": [
    " "
   ]
  },
  {
   "cell_type": "markdown",
   "metadata": {},
   "source": [
    " "
   ]
  },
  {
   "cell_type": "markdown",
   "metadata": {},
   "source": [
    " "
   ]
  },
  {
   "cell_type": "markdown",
   "metadata": {},
   "source": [
    "# PROBLEMA 11\n",
    "El responsable de la campaña política del candidato A piensa que su candidato se encuentra en igual posición que su oponente, el candidato B, pero han ocurrido algunos reveses recientemente. Lleva a cabo una encuesta entre 1500 ciudadanos; si 720 indican una preferencia por el candidato A, \n",
    "1. ¿existe alguna razón para creer que el candidato A se encuentre en desventaja con relación a su oponente? Utilizar un nivel de significación del 5%. \n",
    "2. Calcular el pvalor del contraste."
   ]
  },
  {
   "cell_type": "markdown",
   "metadata": {},
   "source": [
    "[INDICE](#INDICE) - - - - - -  [APUNTES](#APUNTES) - - - - - - [ANEXO](#ANEXO)\n",
    "\n"
   ]
  },
  {
   "cell_type": "markdown",
   "metadata": {},
   "source": [
    " "
   ]
  },
  {
   "cell_type": "markdown",
   "metadata": {},
   "source": [
    " "
   ]
  },
  {
   "cell_type": "markdown",
   "metadata": {},
   "source": [
    " "
   ]
  },
  {
   "cell_type": "markdown",
   "metadata": {},
   "source": [
    " "
   ]
  },
  {
   "cell_type": "markdown",
   "metadata": {},
   "source": [
    "# PROBLEMA 12\n",
    "En un proceso de llenado, la tolerancia para el peso de los recipientes es de ocho gramos. Para verificar este requisito, la desviación estándar en el peso debe ser de dos gramos. Los pesos de 25 recipientes seleccionados al azar dieron como resultado una cuasi-\n",
    "desviación típica de 2.8 gramos. \n",
    "1. Si los pesos se encuentran normalmente distribuidos, determinar si la varianza de éstos es diferente del valor necesario. (Utilice un nivel de significación del 2%). \n",
    "2. Calcular el pvalor del contraste."
   ]
  },
  {
   "cell_type": "markdown",
   "metadata": {},
   "source": [
    "[INDICE](#INDICE) - - - - - -  [APUNTES](#APUNTES) - - - - - - [ANEXO](#ANEXO)\n",
    "\n"
   ]
  },
  {
   "cell_type": "markdown",
   "metadata": {},
   "source": [
    " "
   ]
  },
  {
   "cell_type": "markdown",
   "metadata": {},
   "source": [
    " "
   ]
  },
  {
   "cell_type": "markdown",
   "metadata": {},
   "source": [
    " "
   ]
  },
  {
   "cell_type": "markdown",
   "metadata": {},
   "source": [
    " "
   ]
  },
  {
   "cell_type": "markdown",
   "metadata": {},
   "source": [
    "# PROBLEMA 13\n",
    "La cotización de una acción se ha distribuido normalmente en el último año con una media de 13,60 euros, pero se desconoce su desviación típica. En las últimas doce sesiones de bolsa los precios de cierre de dicha acción han sido los siguientes:\n",
    "\n",
    "|Días|1|2|3|4|5|6|7|8|9|10|11|12 \n",
    "|-|-|-|-|-|-|-|-|-|-|-|-|-\n",
    "|Cotiz|13.54|13.73|13.74|13.94|13.74|13.70|13.46|13.52|13.63|13.93|13.84|13.68\n",
    "\n",
    "Teniendo en cuenta los datos anteriores: \n",
    "\n",
    "1. Enunciar las hipótesis adecuadas para contrastar si puede considerarse que la cotización de la acción ha aumentado significativamente en las doce últimas sesiones. \n",
    "    2. Definir los errores de tipo I y II para este contraste. \n",
    "1. Con un nivel de significación del 1%,¿se puede aceptar que la cotización está sufriendo una variación al alza significativa?. Razonar la respuesta."
   ]
  },
  {
   "cell_type": "markdown",
   "metadata": {},
   "source": [
    "[INDICE](#INDICE) - - - - - -  [APUNTES](#APUNTES) - - - - - - [ANEXO](#ANEXO)\n",
    "\n"
   ]
  },
  {
   "cell_type": "code",
   "execution_count": 33,
   "metadata": {
    "collapsed": true
   },
   "outputs": [],
   "source": [
    "dias= [1, 2, 3, 4, 5, 6, 7, 8, 9, 10, 11, 12]\n",
    "cotiz= [13.54, 13.73, 13.74, 13.94, 13.74, 13.70, 13.46, 13.52, 13.63, 13.93, 13.84, 13.68]"
   ]
  },
  {
   "cell_type": "markdown",
   "metadata": {},
   "source": [
    " "
   ]
  },
  {
   "cell_type": "markdown",
   "metadata": {},
   "source": [
    " "
   ]
  },
  {
   "cell_type": "markdown",
   "metadata": {},
   "source": [
    " "
   ]
  },
  {
   "cell_type": "markdown",
   "metadata": {},
   "source": [
    " "
   ]
  },
  {
   "cell_type": "markdown",
   "metadata": {},
   "source": [
    "# PROBLEMA 14\n",
    "Una asociación de consumidores está investigando el volumen contenido en las latas de una determinada marca de refrescos. Puede suponerse que tal volumen sigue una distribución normal. Una muestra de 9 latas ha proporcionado un volumen medio de 30 cl. y una cuasi-desviación típica de 2 cl. El fabricante, en la etiqueta, afirma que el volumen que contiene es de 33 cl. \n",
    "1. ¿Posee la asociación evidencia suficiente para denunciar a la empresa por fraude si tolera una probabilidad máxima de equivocarse del 1%? \n",
    "2. Calcular el pvalor del contraste."
   ]
  },
  {
   "cell_type": "markdown",
   "metadata": {},
   "source": [
    "[INDICE](#INDICE) - - - - - -  [APUNTES](#APUNTES) - - - - - - [ANEXO](#ANEXO)\n",
    "\n"
   ]
  },
  {
   "cell_type": "markdown",
   "metadata": {},
   "source": [
    " "
   ]
  },
  {
   "cell_type": "markdown",
   "metadata": {},
   "source": [
    " "
   ]
  },
  {
   "cell_type": "markdown",
   "metadata": {},
   "source": [
    " "
   ]
  },
  {
   "cell_type": "markdown",
   "metadata": {},
   "source": [
    " "
   ]
  },
  {
   "cell_type": "markdown",
   "metadata": {},
   "source": [
    "# PROBLEMA 15\n",
    "El tiempo que cuesta elaborar una determinada pieza se distribuye según una normal de media 7 minutos. Sin embargo, alguna máquina está fallando últimamente y quizá dicho tiempo medio haya empeorado. Se decide plantear un test de hipótesis para comprobarlo. Si los resultados obtenidos al tomar una m.a.s. de 16 piezas son que la media muestral es de 7,6 minutos y la cuasidesviación típica de 1,2 minutos. \n",
    "1. ¿Se puede aceptar, con un nivel de significación del 1%, que la producción es más lenta? \n",
    "2. Calcular el pvalor del contraste."
   ]
  },
  {
   "cell_type": "markdown",
   "metadata": {},
   "source": [
    " "
   ]
  },
  {
   "cell_type": "markdown",
   "metadata": {},
   "source": [
    "[INDICE](#INDICE) - - - - - -  [APUNTES](#APUNTES) - - - - - - [ANEXO](#ANEXO)\n",
    "\n"
   ]
  },
  {
   "cell_type": "markdown",
   "metadata": {},
   "source": [
    " "
   ]
  },
  {
   "cell_type": "markdown",
   "metadata": {},
   "source": [
    " "
   ]
  },
  {
   "cell_type": "markdown",
   "metadata": {},
   "source": [
    " "
   ]
  },
  {
   "cell_type": "markdown",
   "metadata": {},
   "source": [
    "# PROBLEMA 16\n",
    "El fabricante de cierta marca de pilas para linterna afirma que su producto tiene una duración media de 750 minutos. Se ha tomado una muestra al azar de 15 pilas, obteniéndose una media de 745 minutos y una cuasi-desviación típica de 24 minutos. Con un nivel de significación del 1% \n",
    "1. ¿existe alguna evidencia para denunciar al fabricante por publicidad engañosa? (Se puede suponer normalidad en la distribución del tiempo de vida de las pilas). \n",
    "2. Calcular el pvalor del contraste."
   ]
  },
  {
   "cell_type": "markdown",
   "metadata": {},
   "source": [
    " "
   ]
  },
  {
   "cell_type": "markdown",
   "metadata": {},
   "source": [
    "[INDICE](#INDICE) - - - - - -  [APUNTES](#APUNTES) - - - - - - [ANEXO](#ANEXO)\n",
    "\n"
   ]
  },
  {
   "cell_type": "markdown",
   "metadata": {},
   "source": [
    " "
   ]
  },
  {
   "cell_type": "markdown",
   "metadata": {},
   "source": [
    " "
   ]
  },
  {
   "cell_type": "markdown",
   "metadata": {},
   "source": [
    " "
   ]
  },
  {
   "cell_type": "markdown",
   "metadata": {},
   "source": [
    "# PROBLEMAS VARIOS\n",
    "\n",
    "# PROBLEMA 17\n",
    "Una organización de consumidores sospecha que los paquetes de queso chedar de 10 onzas que vende un supermercado local pesan menos de 10 onzas. Para ello escoge 20 de tales paquetes al azar y analiza su peso medio. Si llega a la conclusión de que el peso medio es menor que 10 onzas, realizará un estudio más a fondo con el fin de analizar si emprender acciones legales contra el supermercado. Se supone que el peso de dichos paquetes se distribuye normalmente con una desviación típica de 0,15 onzas.\n",
    "\n",
    "1. Establecer las hipótesis a contrastar \n",
    "1. ¿En qué consisten los errores tipo I y II para este problema? \n",
    "1. Si se toma como regla de actuación denunciar al supermercado si el peso medio de la muestra es menor que 9,95 onzas ¿Cuál es el nivel de significación del contraste? \n",
    "1. Calcular la potencia del contraste si el peso medio de dichos paquetes es 9,90 onzas. \n",
    "1. Si peso medio de los paquetes de la muestra fue 9,955 onzas ¿qué conclusión se obtiene? \n",
    "1. Calcular el pvalor asociado al resultado obtenido en el anterior. A partir de él: qué conclusiones se obtendrían para niveles de significación del 1%, 5% y 10%? \n",
    "    2. ¿qué debería hacer la organización de consumidores?"
   ]
  },
  {
   "cell_type": "markdown",
   "metadata": {},
   "source": [
    " "
   ]
  },
  {
   "cell_type": "markdown",
   "metadata": {},
   "source": [
    "[INDICE](#INDICE) - - - - - -  [APUNTES](#APUNTES) - - - - - - [ANEXO](#ANEXO)\n",
    "\n"
   ]
  },
  {
   "cell_type": "markdown",
   "metadata": {},
   "source": [
    " "
   ]
  },
  {
   "cell_type": "markdown",
   "metadata": {},
   "source": [
    " "
   ]
  },
  {
   "cell_type": "markdown",
   "metadata": {},
   "source": [
    " "
   ]
  },
  {
   "cell_type": "markdown",
   "metadata": {},
   "source": [
    " "
   ]
  },
  {
   "cell_type": "markdown",
   "metadata": {},
   "source": [
    "# PROBLEMA 18\n",
    "En una ciudad el número de accidentes que ocurren en un día se distribuye según una distribución de Poisson con una media de 0,8 accidentes. El Ayuntamiento de dicha ciudad ha promulgado recientemente una nueva ley que incrementa en un 30% la cuantía de las multas de tráfico y desea analizar la eficacia de esta nueva ley. Para ello analiza el número de accidentes ocurrido a lo largo de una semana (T7) y toma como regla de actuación concluir que la medida ha sido eficaz si dicho número ha sido menor que 3. \n",
    "\n",
    "1. Establecer las hipótesis a contrastar. \n",
    "1. ¿En qué consisten los errores tipo I y II para este problema? \n",
    "1. ¿Cuál es el nivel de significación del contraste? \n",
    "1. Calcular la potencia del contraste si el número medio diario de accidentes se ha reducido a 0,6. \n",
    "1. Si el número de accidentes ocurrido a lo largo de la semana ha sido igual a 1 ¿qué conclusión se obtiene? \n",
    "1. Calcular el pvalor asociado al resultado obtenido en el anterior. A partir de él: qué conclusiones se obtendrían para niveles de significación del 1%, 5% y 10%?. \n",
    "    2. A la luz de los resultados obtenidos ¿qué aconsejarías al Ayuntamiento?"
   ]
  },
  {
   "cell_type": "markdown",
   "metadata": {},
   "source": [
    "[INDICE](#INDICE) - - - - - -  [APUNTES](#APUNTES) - - - - - - [ANEXO](#ANEXO)\n",
    "\n"
   ]
  },
  {
   "cell_type": "markdown",
   "metadata": {},
   "source": [
    " "
   ]
  },
  {
   "cell_type": "markdown",
   "metadata": {},
   "source": [
    " "
   ]
  },
  {
   "cell_type": "markdown",
   "metadata": {},
   "source": [
    " "
   ]
  },
  {
   "cell_type": "markdown",
   "metadata": {},
   "source": [
    " "
   ]
  },
  {
   "cell_type": "markdown",
   "metadata": {},
   "source": [
    "#PROBLEMA 19\n",
    "Una empresa de alimentación esta planeando introducir en el mercado un nuevo tipo deyogurt. Sin embargo, antes de lanzarlo al mercado, la empresa quiere averiguar a qué porcentaje de potenciales clientes le gustaría. El director de la empresa ha decidido que lanzará el nuevo producto únicamente si le gusta a más de un 30%. Para ello el departamento de investigación de mercados de la empresa selecciona a una muestra de 100 clientes al azar. a) Establecer las hipótesis a contrastar. b) ¿En qué consisten los errores tipo I y II para este problema? c) Si se toma como regla de actuación lanzar al mercado el nuevo producto si le gusta al menos a 40 clientes de la muestra. ¿Cuál es el nivel de significación del contraste? d) Calcular la potencia del contraste si el producto le gusta a un 45% de los clientes. e) Si el número de clientes a los que le gusta el nuevo producto es 45 ¿qué conclusión se obtiene? f) Calcular el pvalor asociado al resultado obtenido en e). A partir de él: qué conclusiones se obtendrían para niveles de significación del 1%, 5% y 10%?"
   ]
  },
  {
   "cell_type": "markdown",
   "metadata": {},
   "source": [
    "[INDICE](#INDICE) - - - - - -  [APUNTES](#APUNTES) - - - - - - [ANEXO](#ANEXO)\n",
    "\n"
   ]
  },
  {
   "cell_type": "markdown",
   "metadata": {},
   "source": [
    " "
   ]
  },
  {
   "cell_type": "markdown",
   "metadata": {},
   "source": [
    " "
   ]
  },
  {
   "cell_type": "markdown",
   "metadata": {},
   "source": [
    " "
   ]
  },
  {
   "cell_type": "markdown",
   "metadata": {},
   "source": [
    " "
   ]
  },
  {
   "cell_type": "markdown",
   "metadata": {},
   "source": [
    " "
   ]
  },
  {
   "cell_type": "markdown",
   "metadata": {},
   "source": [
    "# PROBLEMA 20\n",
    "Una empresa que recibe envíos de pilas desea que la duración media de las pilas querecibe sea de al menos 50 horas. Para conseguir este objetivo comprueba una muestra aleatoria de 9 de ellas antes de aceptar un envío. Si el tiempo medio de dicha muestra es menor que un umbral K rechaza el envío y, en caso contrario, lo acepta. Sabe por experiencia que la distribución poblacional de la duración es normal y tiene una desviación típica de 3 horas. \n",
    "\n",
    "1. Establecer las hipótesis a contrastar en este problema \n",
    "1. ¿En qué consisten los errores tipo I y II? \n",
    "1. Calcular K de forma que el nivel de significación del contraste sea de un 5% \n",
    "1. Calcular la potencia del contraste si la duración media de las pilas que le envía el proveedor es 45 horas \n",
    "1. Si la duración media de una muestra de 9 pilas es 48,2 horas ¿Qué conclusión se obtiene del contraste c)? \n",
    "1. Calcular el pvalor asociado al valor anterior y, basado en el valor obtenido, decir qué se concluiría a los niveles del 1% y 10%"
   ]
  },
  {
   "cell_type": "markdown",
   "metadata": {},
   "source": [
    "[INDICE](#INDICE) - - - - - -  [APUNTES](#APUNTES) - - - - - - [ANEXO](#ANEXO)\n",
    "\n"
   ]
  },
  {
   "cell_type": "markdown",
   "metadata": {},
   "source": [
    " "
   ]
  },
  {
   "cell_type": "markdown",
   "metadata": {},
   "source": [
    " "
   ]
  },
  {
   "cell_type": "markdown",
   "metadata": {},
   "source": [
    " "
   ]
  },
  {
   "cell_type": "markdown",
   "metadata": {},
   "source": [
    " "
   ]
  },
  {
   "cell_type": "markdown",
   "metadata": {},
   "source": [
    " "
   ]
  },
  {
   "cell_type": "markdown",
   "metadata": {},
   "source": [
    "# PROBLEMA 21\n",
    "\n",
    "Se quiere analizar si más de la mitad de los auditores de una ciudad está de acuerdo con la siguiente afirmación “El flujo de caja es un importante indicador de la rentabilidad”. Para ello se extrae una muestra de 50 auditores y se adopta la siguiente regla de decisión. Si más del x% está de acuerdo con dicha afirmación se concluirá que la hipótesis anteriormente citada es cierta. \n",
    "\n",
    "1. Establecer las hipótesis a contrastar \n",
    "1. Establecer los errores tipo I y II para este problema \n",
    "1. Calcular el umbral x de forma que el nivel de significación del contraste sea, aproximadamente, un 5% \n",
    "1. Calcular la potencia del contraste si la verdadera proporción de auditores que está de acuerdo con dicha afirmación es del 60% \n",
    "1. Si el porcentaje observado en la muestra es del 65% ¿Qué se concluirá? \n",
    "1. Calcular el pvalor asociado al resultado anterior y, a partir de su valor, deducir qué se concluiría al 1% y al 10%"
   ]
  },
  {
   "cell_type": "markdown",
   "metadata": {},
   "source": [
    "[INDICE](#INDICE) - - - - - -  [APUNTES](#APUNTES) - - - - - - [ANEXO](#ANEXO)\n",
    "\n"
   ]
  },
  {
   "cell_type": "markdown",
   "metadata": {},
   "source": [
    " "
   ]
  },
  {
   "cell_type": "markdown",
   "metadata": {},
   "source": [
    " "
   ]
  },
  {
   "cell_type": "markdown",
   "metadata": {},
   "source": [
    " "
   ]
  },
  {
   "cell_type": "markdown",
   "metadata": {},
   "source": [
    " "
   ]
  },
  {
   "cell_type": "markdown",
   "metadata": {},
   "source": [
    "# PROBLEMA 22\n",
    "Se quiere analizar el porcentaje de licenciados en Administración de Empresas que estánde acuerdo con la siguiente afirmación: “Para un directivo que quiera conseguir un ascenso es menos importante una reputación de conducta ética que una reputación de conseguir dinero para la compañía”. Para ello se planea extraer una muestra aleatoria de 100 licenciados y analizar el número de ellos (N) que esté de acuerdo con dicha información. Se quiere contrastar si la mitad de los licenciados están de acuerdo con dicha afirmación.  \n",
    "\n",
    "1. Establecer las hipótesis a contrastar  \n",
    "1. ¿En qué consisten los errores tipo I y II para este problema?  \n",
    "1. Si se toma como regla de decisión aceptar la hipótesis anterior si 41≤N≤60 calcular el nivel de significación del contraste  \n",
    "1. Calcular la potencia del contraste si la verdadera proporción de licenciados que están de acuerdo con dicha afirmación es un 60%  \n",
    "1. Si extraída la muestra, 45 de dichos licenciados están de acuerdo con dicha afirmación ¿Qué conclusión se sacaría?  \n",
    "1. Calcular el pvalor del contraste. A partir de él: ¿qué se concluiría para un nivel del 10%?"
   ]
  },
  {
   "cell_type": "markdown",
   "metadata": {},
   "source": [
    "[INDICE](#INDICE) - - - - - -  [APUNTES](#APUNTES) - - - - - - [ANEXO](#ANEXO)\n",
    "\n"
   ]
  },
  {
   "cell_type": "markdown",
   "metadata": {},
   "source": [
    " "
   ]
  },
  {
   "cell_type": "markdown",
   "metadata": {},
   "source": [
    " "
   ]
  },
  {
   "cell_type": "markdown",
   "metadata": {},
   "source": [
    " "
   ]
  },
  {
   "cell_type": "markdown",
   "metadata": {},
   "source": [
    " "
   ]
  },
  {
   "cell_type": "markdown",
   "metadata": {},
   "source": [
    "# PROBLEMA 23\n",
    "\n",
    "Una compañía que se dedica a la venta de franquicias afirma que, por término medio, losdelegados obtienen durante el primer año un rendimiento medio del 10%. Para comprobar dicha afirmación se extrae una muestra aleatoria de 10 de estas franquicias y se analiza su rendimiento obteniendo los siguientes resultados.\n",
    "\n",
    "6.1, 9.2, 11.5, 8.6, 12.1, 3.9, 8.4, 10.1, 9.4, 8.9\n",
    "\n",
    "Si se sospecha que está compañía sobrevalora los rendimientos obtenidos y suponiendo que los rendimientos poblacionales tienen una distribución normal con desviación típica 2%  \n",
    "1. Establecer las hipótesis a contrastar  \n",
    "1. ¿En qué consisten los errores tipo I y II para este problema?  \n",
    "1. ¿Qué conclusión se obtendría para un nivel de significación del 95%?  \n",
    "1. Calcular la potencia del contraste si el verdadero rendimiento medio es del 8%  \n",
    "1. Calcular el pvalor del contraste "
   ]
  },
  {
   "cell_type": "markdown",
   "metadata": {},
   "source": [
    "[INDICE](#INDICE) - - - - - -  [APUNTES](#APUNTES) - - - - - - [ANEXO](#ANEXO)\n",
    "\n"
   ]
  },
  {
   "cell_type": "markdown",
   "metadata": {},
   "source": [
    " "
   ]
  },
  {
   "cell_type": "markdown",
   "metadata": {},
   "source": [
    " "
   ]
  },
  {
   "cell_type": "markdown",
   "metadata": {},
   "source": [
    " "
   ]
  },
  {
   "cell_type": "markdown",
   "metadata": {},
   "source": [
    " "
   ]
  },
  {
   "cell_type": "markdown",
   "metadata": {},
   "source": [
    " "
   ]
  },
  {
   "cell_type": "markdown",
   "metadata": {},
   "source": [
    "# PROBLEMA 24\n",
    "\n",
    "Un profesor universitario pasa un test a sus alumnos con 10 preguntas con respuestasverdadero-falso. Con el fin de detectar a los estudiantes que no saben nada de la materia de examen el profesor plantea el siguiente contraste de hipótesis  H0: Los estudiantes no saben nada de la materia de examen y contestan las preguntas al azar  H1: Los estudiantes sí se saben la materia de examen \n"
   ]
  },
  {
   "cell_type": "markdown",
   "metadata": {},
   "source": [
    "1. CALCULE:\n",
    "\t1. [Establecer el parámetro a analizar y expresar H0 y H1 en términos del mismo](#24.A.)\n",
    "\t1. [¿En qué consisten los errores tipo I y II para este problema? ](#24.B.)\n",
    "\t1. [El profesor toma como regla de decisión la siguiente: ](#24.C.)\n",
    "        1. [Rechazo H0 si el número de respuestas correctas del test es ≥ K ](#24.C.a.)\n",
    "        1. [Elegir el valor de K de forma que el nivel de significación del contraste sea de un 5% ](#24.C.b.)\n",
    "\t1. [Calcular la potencia del contraste anterior si el estudiante conoce el 60% de la materia a estudiar](#24.D.)\n",
    "\t1. [Si un estudiante obtiene 8 respuestas correctas ¿qué se concluye? ](#24.E.)\n",
    "\t1. [Calcular el pvalor del resultado anterior y analizar, a partir delconclusiones que se obtendrían para los niveles del 1% y el 10% ](#24.F.)"
   ]
  },
  {
   "cell_type": "markdown",
   "metadata": {},
   "source": [
    "## 24.A."
   ]
  },
  {
   "cell_type": "markdown",
   "metadata": {},
   "source": [
    "[<– ENUNCIADO](#PROBLEMA-24)"
   ]
  },
  {
   "cell_type": "markdown",
   "metadata": {},
   "source": [
    "[INDICE](#INDICE) - - - - - -  [APUNTES](#APUNTES) - - - - - - [ANEXO](#ANEXO)"
   ]
  },
  {
   "cell_type": "markdown",
   "metadata": {},
   "source": [
    "## 24.B."
   ]
  },
  {
   "cell_type": "markdown",
   "metadata": {},
   "source": [
    "[<– ENUNCIADO](#PROBLEMA-24)"
   ]
  },
  {
   "cell_type": "markdown",
   "metadata": {},
   "source": [
    "[INDICE](#INDICE) - - - - - -  [APUNTES](#APUNTES) - - - - - - [ANEXO](#ANEXO)"
   ]
  },
  {
   "cell_type": "markdown",
   "metadata": {},
   "source": [
    "## 24.C."
   ]
  },
  {
   "cell_type": "markdown",
   "metadata": {},
   "source": [
    "[<– ENUNCIADO](#PROBLEMA-24)"
   ]
  },
  {
   "cell_type": "markdown",
   "metadata": {},
   "source": [
    "[INDICE](#INDICE) - - - - - -  [APUNTES](#APUNTES) - - - - - - [ANEXO](#ANEXO)"
   ]
  },
  {
   "cell_type": "markdown",
   "metadata": {},
   "source": [
    "## 24.C.a."
   ]
  },
  {
   "cell_type": "markdown",
   "metadata": {},
   "source": [
    "[<– ENUNCIADO](#PROBLEMA-24)"
   ]
  },
  {
   "cell_type": "markdown",
   "metadata": {},
   "source": [
    "[INDICE](#INDICE) - - - - - -  [APUNTES](#APUNTES) - - - - - - [ANEXO](#ANEXO)"
   ]
  },
  {
   "cell_type": "markdown",
   "metadata": {},
   "source": [
    "## 24.C.b."
   ]
  },
  {
   "cell_type": "markdown",
   "metadata": {},
   "source": [
    "[<– ENUNCIADO](#PROBLEMA-24)"
   ]
  },
  {
   "cell_type": "markdown",
   "metadata": {},
   "source": [
    "[INDICE](#INDICE) - - - - - -  [APUNTES](#APUNTES) - - - - - - [ANEXO](#ANEXO)"
   ]
  },
  {
   "cell_type": "markdown",
   "metadata": {},
   "source": [
    "## 24.D."
   ]
  },
  {
   "cell_type": "markdown",
   "metadata": {},
   "source": [
    "[<– ENUNCIADO](#PROBLEMA-24)"
   ]
  },
  {
   "cell_type": "markdown",
   "metadata": {},
   "source": [
    "[INDICE](#INDICE) - - - - - -  [APUNTES](#APUNTES) - - - - - - [ANEXO](#ANEXO)"
   ]
  },
  {
   "cell_type": "markdown",
   "metadata": {},
   "source": [
    "## 24.E."
   ]
  },
  {
   "cell_type": "markdown",
   "metadata": {},
   "source": [
    "[<– ENUNCIADO](#PROBLEMA-24)"
   ]
  },
  {
   "cell_type": "markdown",
   "metadata": {},
   "source": [
    "[INDICE](#INDICE) - - - - - -  [APUNTES](#APUNTES) - - - - - - [ANEXO](#ANEXO)"
   ]
  },
  {
   "cell_type": "markdown",
   "metadata": {},
   "source": [
    "## 24.F."
   ]
  },
  {
   "cell_type": "markdown",
   "metadata": {},
   "source": [
    "[<– ENUNCIADO](#PROBLEMA-24)"
   ]
  },
  {
   "cell_type": "markdown",
   "metadata": {},
   "source": [
    "[INDICE](#INDICE) - - - - - -  [APUNTES](#APUNTES) - - - - - - [ANEXO](#ANEXO)"
   ]
  },
  {
   "cell_type": "markdown",
   "metadata": {},
   "source": [
    " "
   ]
  },
  {
   "cell_type": "markdown",
   "metadata": {},
   "source": [
    " "
   ]
  },
  {
   "cell_type": "markdown",
   "metadata": {},
   "source": [
    " "
   ]
  },
  {
   "cell_type": "markdown",
   "metadata": {},
   "source": [
    " "
   ]
  },
  {
   "cell_type": "markdown",
   "metadata": {},
   "source": [
    "# PROBLEMA 25\n",
    "\n",
    "Un auditor está interesado en analizar si el valor medio de las cuentas por cobrar de unaempresa es mayor que 200€ para lo cual planea extraer una muestra aleatoria simple de 100 cuentas y observar sus valores. Si el valor medio de las cuentas extraídas supera un valor K concluirá que el valor medio de las cuentas por cobrar es mayor que 200€. Basándose en experiencias anteriores supone que el valor de una cuenta por cobrar se distribuye normalmente con una desviación típica igual a 25€.  "
   ]
  },
  {
   "cell_type": "markdown",
   "metadata": {},
   "source": [
    "1. CALCULE:\n",
    "\t1. [Establecer las hipótesis a contrastar  ](#25.A.)\n",
    "\t1. [¿En qué consisten los errores tipo I y II para este problema?  ](#25.B.)\n",
    "\t1. [Si trabaja con un nivel de significación del 1% ¿qué valor de K deberá elegir?  ](#25.C.)\n",
    "\t1. [Calcular la potencia del contraste obtenido en ](#25.D.)\n",
    "\t1. [si el valor medio de las cuentas por cobrar es 210\\$  ](#25.E.)\n",
    "\t1. [Si, tras extraer la muestra obtiene que el valor medio de la muestra es 211$ ¿qué conclusión obtendrá?](#25.F.)"
   ]
  },
  {
   "cell_type": "markdown",
   "metadata": {},
   "source": [
    "## 25.A."
   ]
  },
  {
   "cell_type": "markdown",
   "metadata": {},
   "source": [
    "[<– ENUNCIADO](#PROBLEMA-25)"
   ]
  },
  {
   "cell_type": "markdown",
   "metadata": {},
   "source": [
    "[INDICE](#INDICE) - - - - - -  [APUNTES](#APUNTES) - - - - - - [ANEXO](#ANEXO)"
   ]
  },
  {
   "cell_type": "markdown",
   "metadata": {},
   "source": [
    "## 25.B."
   ]
  },
  {
   "cell_type": "markdown",
   "metadata": {},
   "source": [
    "[<– ENUNCIADO](#PROBLEMA-25)"
   ]
  },
  {
   "cell_type": "markdown",
   "metadata": {},
   "source": [
    "[INDICE](#INDICE) - - - - - -  [APUNTES](#APUNTES) - - - - - - [ANEXO](#ANEXO)"
   ]
  },
  {
   "cell_type": "markdown",
   "metadata": {},
   "source": [
    "## 25.C."
   ]
  },
  {
   "cell_type": "markdown",
   "metadata": {},
   "source": [
    "[<– ENUNCIADO](#PROBLEMA-25)"
   ]
  },
  {
   "cell_type": "markdown",
   "metadata": {},
   "source": [
    "[INDICE](#INDICE) - - - - - -  [APUNTES](#APUNTES) - - - - - - [ANEXO](#ANEXO)"
   ]
  },
  {
   "cell_type": "markdown",
   "metadata": {},
   "source": [
    "## 25.D."
   ]
  },
  {
   "cell_type": "markdown",
   "metadata": {},
   "source": [
    "[<– ENUNCIADO](#PROBLEMA-25)"
   ]
  },
  {
   "cell_type": "markdown",
   "metadata": {},
   "source": [
    "[INDICE](#INDICE) - - - - - -  [APUNTES](#APUNTES) - - - - - - [ANEXO](#ANEXO)"
   ]
  },
  {
   "cell_type": "markdown",
   "metadata": {},
   "source": [
    "## 25.E."
   ]
  },
  {
   "cell_type": "markdown",
   "metadata": {},
   "source": [
    "[<– ENUNCIADO](#PROBLEMA-25)"
   ]
  },
  {
   "cell_type": "markdown",
   "metadata": {},
   "source": [
    "[INDICE](#INDICE) - - - - - -  [APUNTES](#APUNTES) - - - - - - [ANEXO](#ANEXO)"
   ]
  },
  {
   "cell_type": "markdown",
   "metadata": {},
   "source": [
    "## 25.F."
   ]
  },
  {
   "cell_type": "markdown",
   "metadata": {},
   "source": [
    "[<– ENUNCIADO](#PROBLEMA-25)"
   ]
  },
  {
   "cell_type": "markdown",
   "metadata": {},
   "source": [
    "[INDICE](#INDICE) - - - - - -  [APUNTES](#APUNTES) - - - - - - [ANEXO](#ANEXO)"
   ]
  },
  {
   "cell_type": "markdown",
   "metadata": {},
   "source": [
    " "
   ]
  },
  {
   "cell_type": "markdown",
   "metadata": {},
   "source": [
    " "
   ]
  },
  {
   "cell_type": "markdown",
   "metadata": {},
   "source": [
    " "
   ]
  },
  {
   "cell_type": "markdown",
   "metadata": {},
   "source": [
    " "
   ]
  },
  {
   "cell_type": "markdown",
   "metadata": {},
   "source": [
    " "
   ]
  },
  {
   "cell_type": "markdown",
   "metadata": {},
   "source": [
    "# PROBLEMA 26\n",
    "\n",
    "Una empresa afirma que el 10% de sus pedidos tarda más de 10 minutos en ser enviados.Una asociación de consumidores piensa que dicha proporción es mayor y planea extraer una muestra aleatoria de 20 de dichos pedidos y analizar cuántos de ellos tardan más de 10 minutos en ser enviados. Si el número de los pedidos de la muestra que tardan más de 10 minutos en ser enviados es mayor o igual que 5 pedirá realizar una inspección a fondo de los envíos de la empresa. \n",
    "Establecer las hipótesis a contrastar \n",
    "1. CALCULE:\n",
    "\t1. [Establecer las hipótesis a contrastar ](#26.A.)\n",
    "\t1. [¿En qué consisten los errores tipo I y II para este problema? ](#26.B.)\n",
    "\t1. [Calcular el nivel de significación del contraste ](#26.C.)\n",
    "\t1. [Calcular la potencia del contraste si el porcentaje de pedidos que tardan más de 10 minutos en ser enviados es del 20% ](#26.D.)\n",
    "\t1. [Si, tras realizar el estudio, el número de pedidos que tardan más de 10 minutos es 6 ¿qué se concluye? ](#26.E.)\n",
    "\t1. [Calcular el pvalor del contraste y, a partir de él, decir qué conclusión se adoptaría a los niveles de significación del 1%, 2.5%, 5% y 10% ](#26.F.)"
   ]
  },
  {
   "cell_type": "markdown",
   "metadata": {},
   "source": [
    "## 26.A."
   ]
  },
  {
   "cell_type": "markdown",
   "metadata": {},
   "source": [
    "[<– ENUNCIADO](#PROBLEMA-26)"
   ]
  },
  {
   "cell_type": "markdown",
   "metadata": {},
   "source": [
    "[INDICE](#INDICE) - - - - - -  [APUNTES](#APUNTES) - - - - - - [ANEXO](#ANEXO)\n",
    "\n"
   ]
  },
  {
   "cell_type": "markdown",
   "metadata": {},
   "source": [
    "## 26.B."
   ]
  },
  {
   "cell_type": "markdown",
   "metadata": {},
   "source": [
    "[<– ENUNCIADO](#PROBLEMA-26)"
   ]
  },
  {
   "cell_type": "markdown",
   "metadata": {},
   "source": [
    "[INDICE](#INDICE) - - - - - -  [APUNTES](#APUNTES) - - - - - - [ANEXO](#ANEXO)\n",
    "\n"
   ]
  },
  {
   "cell_type": "markdown",
   "metadata": {},
   "source": [
    "## 26.C."
   ]
  },
  {
   "cell_type": "markdown",
   "metadata": {},
   "source": [
    "[<– ENUNCIADO](#PROBLEMA-26)"
   ]
  },
  {
   "cell_type": "markdown",
   "metadata": {},
   "source": [
    "[INDICE](#INDICE) - - - - - -  [APUNTES](#APUNTES) - - - - - - [ANEXO](#ANEXO)\n",
    "\n"
   ]
  },
  {
   "cell_type": "markdown",
   "metadata": {},
   "source": [
    "## 26.D."
   ]
  },
  {
   "cell_type": "markdown",
   "metadata": {},
   "source": [
    "[<– ENUNCIADO](#PROBLEMA-26)"
   ]
  },
  {
   "cell_type": "markdown",
   "metadata": {},
   "source": [
    "[INDICE](#INDICE) - - - - - -  [APUNTES](#APUNTES) - - - - - - [ANEXO](#ANEXO)\n",
    "\n"
   ]
  },
  {
   "cell_type": "markdown",
   "metadata": {},
   "source": [
    "## 26.E."
   ]
  },
  {
   "cell_type": "markdown",
   "metadata": {},
   "source": [
    "[<– ENUNCIADO](#PROBLEMA-26)"
   ]
  },
  {
   "cell_type": "markdown",
   "metadata": {},
   "source": [
    "[INDICE](#INDICE) - - - - - -  [APUNTES](#APUNTES) - - - - - - [ANEXO](#ANEXO)\n",
    "\n"
   ]
  },
  {
   "cell_type": "markdown",
   "metadata": {},
   "source": [
    "## 26.F."
   ]
  },
  {
   "cell_type": "markdown",
   "metadata": {},
   "source": [
    "[<– ENUNCIADO](#PROBLEMA-26)"
   ]
  },
  {
   "cell_type": "markdown",
   "metadata": {},
   "source": [
    "[INDICE](#INDICE) - - - - - -  [APUNTES](#APUNTES) - - - - - - [ANEXO](#ANEXO)\n",
    "\n"
   ]
  },
  {
   "cell_type": "markdown",
   "metadata": {},
   "source": [
    "# ANEXO\n"
   ]
  },
  {
   "cell_type": "markdown",
   "metadata": {},
   "source": [
    "# ERRORES DE TI Y TII:\n",
    "\n",
    "- Error tipo I: Rechazar la hipótesis nula cuando es cierta.\n",
    "- Error tipo II: No rechazar la hipótesis nula cuando es falsa. \n",
    "\n",
    "Por tanto:\n",
    "\n",
    "P(Error TI) = P(Rechazar $H_0$ | $H_0$)\n",
    "\n",
    "P(Error TII) = P(No Rechazar $H_0$ | $H_1$)\n",
    "\n",
    "\n",
    "## EJEMPLO:\n",
    "Sea X ~ N(μ,σ) con σ conocida y planteamos el siguiente contraste:\n",
    "\n",
    "- $H_0:\\ μ = μ_0$\n",
    "- $H_1:\\ μ = μ_1$ con μ > μ1\n",
    "\n",
    "Se extrae una m.a.s. de tamaño n y la regla de decisión del contraste viene dada por:\n",
    "\n",
    "- Aceptar $H_0$: si $\\bar{x} ≤ C$\n",
    "- Aceptar $H_1$: si $\\bar{x} > C$\n",
    "\n",
    "## ERROR TIPO I:\n",
    "\n",
    "#### $ \\alpha = P(Error\\ de\\ Tipo\\ I) \\\\= P(\\bar{x} > C\\ |\\ \\bar{x}\\ \\sim N(\\mu, \\frac{\\sigma}{\\sqrt{n}})) \\\\= P(Z > \\frac{C- \\mu_0}{\\sigma} · \\sqrt{n})$\n",
    "\n",
    "## ERROR TIPO II:\n",
    "\n",
    "#### $ \\beta = P(Error\\ de\\ Tipo\\ II) \\\\= P(\\bar{x} ≤ C\\ |\\ \\bar{x}\\ \\sim N(\\mu, \\frac{\\sigma}{\\sqrt{n}})) \\\\= P(Z ≤ \\frac{C- \\mu_1}{\\sigma} · \\sqrt{n})$"
   ]
  },
  {
   "cell_type": "markdown",
   "metadata": {},
   "source": [
    "# Contraste unilateral izquierda\n",
    "\n",
    "$H_o: \\mu \\leq k$ (hipótesis nula: la media es menor o igual a k)\n",
    "\n",
    "$H_1: \\mu > k $(hipótesis alternativa: la media es mayor que k)"
   ]
  },
  {
   "cell_type": "markdown",
   "metadata": {},
   "source": [
    "## Región de aceptación (R)\n",
    "\n",
    "$R = \\left( -\\infty,  k+Z_{\\alpha} \\cdot \\frac{\\sigma}{\\sqrt{n}}\\right)$\n",
    "\n",
    "# Contraste unilateral derecha\n",
    "\n",
    "- $H_o: \\mu \\geq k $ (Hipótesis nula: la media es mayor o igual a k)\n",
    "- $H_1: \\mu < k $(Hipótesis alternativa: la media es menor que k)\n",
    "\n",
    "## Región de aceptación (R)\n",
    "\n",
    "- $R = \\left( k-Z_{\\alpha} \\cdot \\frac{\\sigma}{\\sqrt{n}} , +\\infty\\right)$\n",
    "\n",
    "## Toma de decisión\n",
    "\n",
    "- Si $\\overline{x} \\in R \\Longrightarrow$ aceptamos $H_o$\n",
    "\n",
    "- Si $\\overline{x} \\notin R \\Longrightarrow$ rechazamos $H_o$"
   ]
  },
  {
   "cell_type": "markdown",
   "metadata": {},
   "source": [
    "# Datos necesarios\n",
    "\n",
    "- n: tamaño de la muestra\n",
    "- $\\sigma$: desviación típica\n",
    "- $\\bar{x}$: media de la muestra\n",
    "- $z_{teórico:\\ \\alpha}$: valor crítico\n",
    "\n",
    "# Cálculo del valor crítico $z_{\\alpha}$\n",
    "\n",
    "- Confianza: 90%, 95%, 98%, etc.\n",
    "- Nivel de confianza: 0.90, 0.95, 0.98, etc.\n",
    "- Significación+Confianza = 100%\n",
    "\n",
    "$P(Z \\leq z_{\\alpha}) = nivel \\:confianza$\n",
    "\n",
    "> Ejemplo: Confianza del 96%\n",
    "\n",
    ">$P(Z \\leq z_{\\alpha}) = 0.96$\n",
    "\n",
    ">Miramos la tabla de la N(0,1) y vemos que el más próximo a 0.96 es 0.9599.\n",
    "\n",
    ">**Por tanto ${z_{\\alpha}=1.75}$**"
   ]
  },
  {
   "cell_type": "markdown",
   "metadata": {},
   "source": [
    "# LEMA DE NEYMAN PEARSON\n",
    "\n",
    "Rechazo $H_0$ si $ \\frac{L(\\theta_0)}{L(\\theta_1)} < k $\n",
    "\n",
    "$ P(X=k) = e^{-\\lambda} · \\frac{\\lambda^{k}}{k!} $ \n",
    "\n",
    "$$L(X,\\mu) = \\Pi^n_{i=1} P(X=k_i) = e^{-\\lambda}·\\frac{\\lambda^{k_1}}{k_1!}· (...) ·e^{-\\lambda}·\\frac{\\lambda^{k_n}}{k_n!}$$\n",
    "\n",
    "- $L(\\theta_0) = L(X,\\lambda = 2.5) $\n",
    "- $L(\\theta_1) = L(X,\\lambda = 2) $\n",
    "- $\\frac{L(\\theta_0)}{L(\\theta_1)} < k $"
   ]
  },
  {
   "cell_type": "markdown",
   "metadata": {},
   "source": [
    "[INDICE](#INDICE) - - - - - -  [APUNTES](#APUNTES) - - - - - - [ANEXO](#ANEXO)\n",
    "\n"
   ]
  },
  {
   "cell_type": "markdown",
   "metadata": {},
   "source": [
    "---"
   ]
  },
  {
   "cell_type": "markdown",
   "metadata": {},
   "source": [
    "[< TEMA 5]() ---  [INDICE]()"
   ]
  },
  {
   "cell_type": "markdown",
   "metadata": {},
   "source": [
    "### FUNCIONES PARA EL MAQUETADO"
   ]
  },
  {
   "cell_type": "code",
   "execution_count": 34,
   "metadata": {
    "collapsed": true
   },
   "outputs": [],
   "source": [
    "from string import ascii_uppercase\n",
    "\n",
    "\n",
    "def link_md_apartados(text, tema):\n",
    "    \n",
    "    '''text = Texto de los apartados separados por lineas\n",
    "    tema = numero del problema\n",
    "    \n",
    "    Devuelve:\n",
    "    - lista ordenada de los apartados con enlaces\n",
    "    - los apartados\n",
    "    - enlace al enunciado\n",
    "    copiar y pegar en celda con markdown para formatear rapidamente los enunciados.\n",
    "    \n",
    "    '''\n",
    "\n",
    "    letter = ascii_uppercase\n",
    "    t = text.split('\\n')\n",
    "\n",
    "    print '1. CALCULE:'\n",
    "\n",
    "    for i, line in enumerate(t):\n",
    "        print '\\t1. [%s](#%s.%s.)' % (line, tema, letter[i])\n",
    "    \n",
    "    print '\\n## %s. DATOS:' % tema\n",
    "    \n",
    "    for i, line in enumerate(t):\n",
    "        print '\\n## %s.%s.' % (tema, letter[i])\n",
    "        print ''\n",
    "        print u'[<– ENUNCIADO](#PROBLEMA-%s)' % tema\n",
    "        print ''\n",
    "        print u'[INDICE](#INDICE) - - - - - -  [APUNTES](#APUNTES) - - - - - - [ANEXO](#ANEXO)'"
   ]
  },
  {
   "cell_type": "code",
   "execution_count": 35,
   "metadata": {
    "collapsed": true
   },
   "outputs": [],
   "source": [
    "def link_md(text):\n",
    "    t = text.split('\\n')\n",
    "    for line in t:\n",
    "        print '[%s](#%s)' % (line, '-'.join(line.split()))"
   ]
  },
  {
   "cell_type": "code",
   "execution_count": 36,
   "metadata": {
    "collapsed": false
   },
   "outputs": [
    {
     "name": "stdout",
     "output_type": "stream",
     "text": [
      "1. CALCULE:\n",
      "\t1. [Enunciar las hipótesis nula y alternativa apropiadas para esta situación. ](#8.A.)\n",
      "\t1. [Para un nivel de significación del 0,1, obtener la región crítica del contraste más potente ](#8.B.)\n",
      "\t1. [Si el número medio de accidentes disminuyó a 2, obtener la potencia del test planteado.](#8.C.)\n",
      "\n",
      "## 8. DATOS:\n",
      "\n",
      "## 8.A.\n",
      "\n",
      "[<– ENUNCIADO](#PROBLEMA-8)\n",
      "\n",
      "[INDICE](#INDICE) - - - - - -  [APUNTES](#APUNTES) - - - - - - [ANEXO](#ANEXO)\n",
      "\n",
      "## 8.B.\n",
      "\n",
      "[<– ENUNCIADO](#PROBLEMA-8)\n",
      "\n",
      "[INDICE](#INDICE) - - - - - -  [APUNTES](#APUNTES) - - - - - - [ANEXO](#ANEXO)\n",
      "\n",
      "## 8.C.\n",
      "\n",
      "[<– ENUNCIADO](#PROBLEMA-8)\n",
      "\n",
      "[INDICE](#INDICE) - - - - - -  [APUNTES](#APUNTES) - - - - - - [ANEXO](#ANEXO)\n"
     ]
    }
   ],
   "source": [
    "link_md_apartados(u'''Enunciar las hipótesis nula y alternativa apropiadas para esta situación. \n",
    "Para un nivel de significación del 0,1, obtener la región crítica del contraste más potente \n",
    "Si el número medio de accidentes disminuyó a 2, obtener la potencia del test planteado.''', 8)"
   ]
  },
  {
   "cell_type": "code",
   "execution_count": 37,
   "metadata": {
    "collapsed": false
   },
   "outputs": [
    {
     "name": "stdout",
     "output_type": "stream",
     "text": [
      "[TITULO](#TITULO)\n",
      "[TITULO2](#TITULO2)\n",
      "[TITULO 3](#TITULO-3)\n",
      "[TITULO 4](#TITULO-4)\n"
     ]
    }
   ],
   "source": [
    "link_md(u'''TITULO\n",
    "TITULO2\n",
    "TITULO 3\n",
    "TITULO 4''')"
   ]
  },
  {
   "cell_type": "code",
   "execution_count": null,
   "metadata": {
    "collapsed": true
   },
   "outputs": [],
   "source": []
  }
 ],
 "metadata": {
  "kernelspec": {
   "display_name": "Python 2",
   "language": "python",
   "name": "python2"
  },
  "language_info": {
   "codemirror_mode": {
    "name": "ipython",
    "version": 2
   },
   "file_extension": ".py",
   "mimetype": "text/x-python",
   "name": "python",
   "nbconvert_exporter": "python",
   "pygments_lexer": "ipython2",
   "version": "2.7.9"
  }
 },
 "nbformat": 4,
 "nbformat_minor": 0
}
