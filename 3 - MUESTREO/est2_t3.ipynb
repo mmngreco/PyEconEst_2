{
 "metadata": {
  "name": "",
  "signature": "sha256:8d91d3bfa5ae330f172499ed418c5209e0dc6d77ad83b85edd81bb36b45591ae"
 },
 "nbformat": 3,
 "nbformat_minor": 0,
 "worksheets": [
  {
   "cells": [
    {
     "cell_type": "code",
     "collapsed": false,
     "input": [
      "#!/usr/bin/env python\n",
      "# -*- coding: utf-8 -*-\n",
      "\n",
      "from __future__ import division\n",
      "import numpy as np\n",
      "import scipy.stats as st\n",
      "import matplotlib as mpl\n",
      "import matplotlib.pyplot as plt\n",
      "import prettyplotlib as ppl\n",
      "import seaborn as sns\n",
      "from pylab import *\n",
      "sns.set(style=\"ticks\", palette=\"Set2\")\n",
      "sns.despine()\n",
      "%matplotlib inline\n"
     ],
     "language": "python",
     "metadata": {},
     "outputs": [],
     "prompt_number": 2
    },
    {
     "cell_type": "markdown",
     "metadata": {},
     "source": [
      "$${x_1, x_2, ..., x_n} \\rightarrow \\mu = Media\\ muestral = 1/n\\sum{x_i}$$  \n",
      "\n",
      "- P(x > 7) ? {x_1, ..., x_n} independientes\n",
      "- x_i misma distribuci\u00f3n que la poblaci\u00f3n\n",
      "- $E(x) = \\mu $\n",
      "- $V(x) = \\sigma^2 < \\infty$\n",
      "- n \u2265 30\n",
      "$$ \\bar{x} \\sim \\ N(\\mu,\\frac{\\sigma}{\\sqrt{n}}) \\sum{x_i} \\sim \\ N(n\\mu, \\frac{\\sigma}{\\sqrt{n}}) $$\n",
      "\n",
      "12.- Se disena un ascensor cuyo limite de carga es de 3150 kilogramos. Se indica que su capacidad maxima es de 40 personas. Si los pesos de todas las personas que utilizan el ascensor se suponen que estan distribuidos alrededor de 75 kilogramos con una desviacion tipica de 22 kilogramos. \n",
      "\n",
      "\u00bfCual es la probabilidad de que un grupo de 38 personas exceda el limite de carga del ascensor? (Suponer que se puede aplicar el TCL)"
     ]
    },
    {
     "cell_type": "code",
     "collapsed": false,
     "input": [
      "mu = 2850\n",
      "dt = 135,6171\n",
      "k = 2.21\n",
      "p_k = 1 - st.norm.cdf(k, 0, 1)\n",
      "print p_k"
     ],
     "language": "python",
     "metadata": {},
     "outputs": [
      {
       "output_type": "stream",
       "stream": "stdout",
       "text": [
        "0.0135525811464\n"
       ]
      }
     ],
     "prompt_number": 5
    },
    {
     "cell_type": "markdown",
     "metadata": {},
     "source": [
      "\n",
      "\n",
      "7.- Una empresa petrolera informa que **el precio medio** por galo\u0301n de gasolina normal es** 3,26\u20ac por litro** con una **desviacio\u0301n ti\u0301pica de 0,18\u20ac**. Seleccionamos al azar una muestra de **40 estaciones de gasolina **y calculamos el **coste medio de gasolina normal**. Si la distribucio\u0301n de dicho coste es normal, calcular\n",
      "a. Probabilidad de que la media de la muestra oscile entre 3,24\u20ac y 3,28\u20ac\n",
      "b. Probabilidad de que la diferencia entre la media de la muestra y la media poblacional\n",
      "sea inferior a 0,01\u20ac\n",
      "c. Probabilidad de que la media de la muestra sea superior a 3,34\u20ac"
     ]
    },
    {
     "cell_type": "markdown",
     "metadata": {},
     "source": [
      "X: Precio gasolina ~ N(3.36, 0.18)\n",
      "\n",
      "{$x_1, ..., x_n$}\n",
      "\n",
      "**Precio medio muestral gasolineras:** $$\\bar{x} = \\frac{1}{n}\\sum_{i=1}^{40}{x_i}$$\n",
      "\n",
      "### P(3.24 \u2264 $\\bar{x}$ \u2264 3.28) = P(Z \u2264 3.28) - P(Z \u2264 3.24)"
     ]
    },
    {
     "cell_type": "code",
     "collapsed": false,
     "input": [
      "k_inf = 3.24\n",
      "k_sup = 3.28\n",
      "n = 40\n",
      "mu = 3.26\n",
      "sigma = 0.18 / np.sqrt(n)\n",
      "\n",
      "p_inf = st.norm.cdf(k_inf, mu, sigma)\n",
      "p_sup = st.norm.cdf(k_sup, mu, sigma)\n",
      "\n",
      "print \"P(3.24 \u2264 $\\bar{x}$ \u2264 3.28)\", p_sup - p_inf"
     ],
     "language": "python",
     "metadata": {},
     "outputs": [
      {
       "output_type": "stream",
       "stream": "stdout",
       "text": [
        "P(3.24 \u2264 $\bar{x}$ \u2264 3.28) 0.517774955244\n"
       ]
      }
     ],
     "prompt_number": 10
    },
    {
     "cell_type": "markdown",
     "metadata": {},
     "source": [
      "17.- Una tienda se interesa en estimar su volumen de ventas diarias. Supo\u0301ngase que el valor de la desviacio\u0301n ti\u0301pica es de 50 euros. Si el volumen de ventas se puede modelizar por una distribucio\u0301n normal, \u00bfcua\u0301l debe ser el taman\u0303o de la muestra para que con una confianza del 95% la media muestral se encuentre a no ma\u0301s de 20 euros del verdadero volumen medio de ventas?\n",
      "\n",
      "### X: ventas diarias \n",
      "$$E(x) = \\mu$$\n",
      "\n",
      "ventas de cada d\u00eda: {$x_1, x_2, x_3, ..., x_n$} \n",
      "\n",
      "$$\\sum\\frac{x_i}{n} = \\bar{x} \\rightarrow aproximaci\u00f3n a\\ \\mu$$\n",
      "\n",
      "### \u00bfCuantos d\u00edas (n) cogemos?\n",
      "\n",
      "Planteamos:\n",
      "$\\bar{x} - \\mu \\rightarrow min \\left |{\\bar{x} - \\mu} \\right |$\n",
      "\n",
      "- $P \\{\\ \\left | \\bar{x} - \\mu \\right |\\ \\} < e  = P( \\left |\\bar{x} - \\mu \\right | < \\frac{e}{\\frac{\\sigma}{\\sqrt{n}}} ) $\n",
      "\n",
      "\n",
      "- $ P( \\left |z \\right | < \\frac{e}{\\frac{\\sigma}{\\sqrt{n}}} ) = \\frac{1 - \\alpha}{90\\%}$\n",
      "\n",
      "\n",
      "- $ n = \\frac{Z^2_{\\frac{\\alpha}{2}}\\sigma^2}{e^2}$\n",
      "\n",
      "$\\sigma = 50$\n",
      "\n",
      "$nivel\\ de\\ confianza\\ (1 - \\alpha) = 0.95$"
     ]
    },
    {
     "cell_type": "code",
     "collapsed": false,
     "input": [
      "sigma = 50\n",
      "alpha = 0.05\n",
      "error = 20\n",
      "k_e = st.norm.ppf(1-alpha)\n",
      "print k_e"
     ],
     "language": "python",
     "metadata": {},
     "outputs": [
      {
       "output_type": "stream",
       "stream": "stdout",
       "text": [
        "-0.0627067779432\n"
       ]
      }
     ],
     "prompt_number": 13
    },
    {
     "cell_type": "code",
     "collapsed": false,
     "input": [],
     "language": "python",
     "metadata": {},
     "outputs": [],
     "prompt_number": 13
    },
    {
     "cell_type": "markdown",
     "metadata": {},
     "source": [
      "1. Si $\\sigma$ es desconocida, ESTIMARLA ($S^2_1$)\n",
      "2. X $\\sim Be (p)\\ \\rightarrow V(x) = P(1-p)$ $$\\rightarrow n = \\frac{Z^2_{\\frac{\\alpha}{2}}\\sigma^2}{e^2} \\rightarrow $$ ESTIMAR P: $$n = \\frac{Z^2_{\\frac{\\alpha}{2}}\\hat{p}(1-\\hat{p})}{e^2}$$\n",
      "3. X $\\sim Be (p)$ NO HAY APROX. DE \"P\" $\\rightarrow$ TOMAR EL PEOR VALOR DE \"P\" (LA MAYOR VARIANZA)\n",
      "\n",
      "$n = \\frac{Z^2_{\\frac{\\alpha}{2}}1/4}{e^2}$\n",
      "\n",
      "sea g(p) = p(1-p) = $p - p^2$\n",
      "\n",
      "g'(p) = 1-2p = 0 $\\rightarrow$ p=1/2"
     ]
    },
    {
     "cell_type": "code",
     "collapsed": false,
     "input": [],
     "language": "python",
     "metadata": {},
     "outputs": [],
     "prompt_number": 13
    },
    {
     "cell_type": "code",
     "collapsed": false,
     "input": [],
     "language": "python",
     "metadata": {},
     "outputs": [],
     "prompt_number": 13
    },
    {
     "cell_type": "markdown",
     "metadata": {},
     "source": [
      "14.- Suponga que se desea precisar el taman\u0303o que ha de tener una muestra tomada **sin reemplazamiento** para **determinar el porcentaje de piezas defectuosas** de una poblacio\u0301n (en total **10.000 unidades**), supuesta esta proporcio\u0301n **no superior al 5%** y operando con una confianza del 95%. Calcular el **taman\u0303o muestral** necesario si queremos que la proporcio\u0301n no difiera en ma\u0301s del 2% del porcentaje real.\n",
      "\n",
      "\n",
      "### DATOS:\n",
      "---\n",
      "\n",
      "- n = 10000 (!)\n",
      "- X: numero de piezas defectuosas\n",
      "- Nivel de confianza: 95%\n",
      "\n",
      "### INC\u00d3GNICAS\n",
      "---\n",
      "D = {$x_1,...,x_n$}\n",
      "\n",
      "$x_i:$ Piezas defectuosas $\\sim Be(p)$\n",
      "\n",
      "p{ | $\\hat{p}$-$p$} | < 0.02} = 0.95\n",
      "\n",
      "p{ |z| < $\\frac{0.02}{\\sqrt{\\frac{p(1-p)}{n}}}$ } = 0.95\n",
      "\n",
      "**Suponemos la peor varianza**\n",
      "\n"
     ]
    },
    {
     "cell_type": "code",
     "collapsed": false,
     "input": [],
     "language": "python",
     "metadata": {},
     "outputs": []
    }
   ],
   "metadata": {}
  }
 ]
}