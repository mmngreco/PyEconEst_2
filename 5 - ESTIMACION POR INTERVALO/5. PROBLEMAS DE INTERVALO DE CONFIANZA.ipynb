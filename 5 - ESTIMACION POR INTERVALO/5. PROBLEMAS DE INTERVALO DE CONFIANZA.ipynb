{
 "cells": [
  {
   "cell_type": "markdown",
   "metadata": {},
   "source": [
    "# PROBLEMAS DE PROBABILIDAD PARA ECONOMISTAS:\n",
    "# INDICE\n",
    "\n",
    "- [DOCUMENTOS COMPLEMENTARIOS](#DOCUMENTOS-COMPLEMENTARIOS)\n",
    "    - [CARPETA CON TODOS LOS PDFS (enlace externo)](https://drive.google.com/folderview?id=0B_kK0s_MMsRrZV96NVFzdDR0WmM&usp=sharing)\n",
    "        - [APUNTES](#APUNTES)\n",
    "\n",
    "\n",
    "\n",
    "# [PROBLEMAS DE ESTIMACIÓN DE INTERVALOS DE CONFIANZA](#PROBLEMAS-ESTIMACIÓN-DE-INTERVALOS-DE-CONFIANZA)\n",
    "\n",
    "\n",
    "## [INTERVALOS PARA LA MEDIA:](#INTERVALOS-PARA-LA-MEDIA)\n",
    "- [PROBLEMA 1](#PROBLEMA-1)\n",
    "- [PROBLEMA 2](#PROBLEMA-2)\n",
    "- [PROBLEMA 3](#PROBLEMA-3)\n",
    "\n",
    "\n",
    "## [INTERVALO PARA LA PROPORCIÓN:](#INTERVALO-PARA-LA-PROPORCIÓN)\n",
    "- [PROBLEMA 4](#PROBLEMA-4)\n",
    "- [PROBLEMA 5](#PROBLEMA-5)\n",
    "\n",
    "\n",
    "## [INTERVALO PARA LA VARIANZA:](#INTERVALO-PARA-LA-VARIANZA)\n",
    "- [PROBLEMA 6](#PROBLEMA-6)\n",
    "- [PROBLEMA 7](#PROBLEMA-7)\n",
    "- [PROBLEMA 8](#PROBLEMA-8)\n",
    "\n",
    "\n",
    "## [PROBLEMAS VARIOS:](#PROBLEMAS-VARIOS)\n",
    "- [PROBLEMA 9](#PROBLEMA-9)\n",
    "- [PROBLEMA 10](#PROBLEMA-10)\n",
    "- [PROBLEMA 11](#PROBLEMA-11)\n",
    "- [PROBLEMA 12](#PROBLEMA-12)\n",
    "- [PROBLEMA 13](#PROBLEMA-13)\n",
    "- [PROBLEMA 14](#PROBLEMA-14)\n",
    "- [PROBLEMA 15](#PROBLEMA-15)\n",
    "- [PROBLEMA 16](#PROBLEMA-16)"
   ]
  },
  {
   "cell_type": "markdown",
   "metadata": {},
   "source": [
    " "
   ]
  },
  {
   "cell_type": "markdown",
   "metadata": {},
   "source": [
    " "
   ]
  },
  {
   "cell_type": "code",
   "execution_count": 1,
   "metadata": {
    "collapsed": false
   },
   "outputs": [
    {
     "name": "stderr",
     "output_type": "stream",
     "text": [
      ":0: FutureWarning: IPython widgets are experimental and may change in the future.\n"
     ]
    }
   ],
   "source": [
    "from __future__ import division\n",
    "\n",
    "import numpy as np\n",
    "import matplotlib.pyplot as plt\n",
    "import scipy.stats as st\n",
    "import prettyplotlib as ppl\n",
    "import seaborn as sns\n",
    "\n",
    "sns.set(style=\"ticks\", palette=\"Set2\")\n",
    "sns.despine()\n",
    "\n",
    "from IPython.display import Latex, HTML, IFrame, display\n",
    "from IPython.html.widgets import interact, interactive, ToggleButtons\n",
    "\n",
    "%matplotlib inline"
   ]
  },
  {
   "cell_type": "markdown",
   "metadata": {},
   "source": [
    " "
   ]
  },
  {
   "cell_type": "markdown",
   "metadata": {},
   "source": [
    " "
   ]
  },
  {
   "cell_type": "markdown",
   "metadata": {},
   "source": [
    "# DOCUMENTOS COMPLEMENTARIOS\n",
    "\n",
    "ENLACE A LA CARPETA [AQUI](https://drive.google.com/folderview?id=0B_kK0s_MMsRrV0Rqb3dueXhZN3c&usp=drive_web)\n"
   ]
  },
  {
   "cell_type": "markdown",
   "metadata": {},
   "source": [
    " "
   ]
  },
  {
   "cell_type": "markdown",
   "metadata": {},
   "source": [
    " "
   ]
  },
  {
   "cell_type": "markdown",
   "metadata": {},
   "source": [
    "## APUNTES\n",
    "\n",
    "- [INDICE ^](#INDICE)\n"
   ]
  },
  {
   "cell_type": "code",
   "execution_count": 2,
   "metadata": {
    "collapsed": false,
    "scrolled": false
   },
   "outputs": [
    {
     "data": {
      "text/html": [
       "<iframe src='https://docs.google.com/file/d/0B_kK0s_MMsRrTTk0WGNwLWg5Y1U/preview' width=\"600\" height=\"600\"></iframe>"
      ],
      "text/plain": [
       "<IPython.core.display.HTML object>"
      ]
     },
     "metadata": {},
     "output_type": "display_data"
    }
   ],
   "source": [
    "contrastes = \"https://docs.google.com/file/d/0B_kK0s_MMsRrT3pqT3gyR2kyTDA/preview\"\n",
    "tablas = \"https://docs.google.com/file/d/0B_kK0s_MMsRrUzhOQldjVHk5MDA/preview\"\n",
    "\n",
    "teoria_diap = \"https://docs.google.com/file/d/0B_kK0s_MMsRrajl3bWJoQ0FLckU/preview\"\n",
    "teoria = \"https://docs.google.com/file/d/0B_kK0s_MMsRrQnBNaFEybjlKMFE/preview\"\n",
    "problemas = \"https://docs.google.com/file/d/0B_kK0s_MMsRrTTk0WGNwLWg5Y1U/preview\"\n",
    "\n",
    "def pdf_show(url):\n",
    "    pdf = HTML('<iframe src=%r width=\"600\" height=\"600\"></iframe>' % url)\n",
    "    display(pdf)\n",
    "\n",
    "pdf = interactive(pdf_show, url={'contrastes': contrastes, \n",
    "                                 'tablas': tablas,\n",
    "                                 'teoria_diap': teoria_diap,\n",
    "                                 'teoria': teoria, \n",
    "                                 'problemas':problemas})\n",
    "display(pdf)"
   ]
  },
  {
   "cell_type": "markdown",
   "metadata": {},
   "source": [
    " "
   ]
  },
  {
   "cell_type": "markdown",
   "metadata": {},
   "source": [
    " "
   ]
  },
  {
   "cell_type": "markdown",
   "metadata": {},
   "source": [
    " "
   ]
  },
  {
   "cell_type": "markdown",
   "metadata": {},
   "source": [
    " "
   ]
  },
  {
   "cell_type": "markdown",
   "metadata": {},
   "source": [
    " "
   ]
  },
  {
   "cell_type": "markdown",
   "metadata": {},
   "source": [
    "# TEMA 5\n",
    "# PROBLEMAS ESTIMACIÓN DE INTERVALOS DE CONFIANZA\n",
    "## INTERVALOS PARA LA MEDIA"
   ]
  },
  {
   "cell_type": "markdown",
   "metadata": {},
   "source": [
    " "
   ]
  },
  {
   "cell_type": "markdown",
   "metadata": {},
   "source": [
    " "
   ]
  },
  {
   "cell_type": "markdown",
   "metadata": {},
   "source": [
    " "
   ]
  },
  {
   "cell_type": "markdown",
   "metadata": {},
   "source": [
    "# PROBLEMA 1\n",
    "\n",
    "Con objeto de establecer una garantía sobre un determinado tipo de neumáticos, se ha observado la vida, en kilómetros realizados, **de 100 neumáticos** sobre una pista de pruebas, en idénticas condiciones. **El número de kilómetros que cada uno de estos neumáticos** puede realizar es una **variable aleatoria no necesariamente normal**, con **media desconocida** y **desviación típica 1500 Km**. \n",
    "\n",
    "Obtener un intervalo de **confianza al 99%** para la vida media de los neumáticos (suponer que se puede aplicar el TCL). \n",
    "\n",
    "Si, para una **muestra de 100 neumáticos**, se obtuvo un **recorrido medio de 32000 Km**, calcular dicho intervalo."
   ]
  },
  {
   "cell_type": "markdown",
   "metadata": {},
   "source": [
    "\n",
    "[INDICE ^](#INDICE)  - - - - - - - - - [APUNTES](#APUNTES)"
   ]
  },
  {
   "cell_type": "code",
   "execution_count": 3,
   "metadata": {
    "collapsed": true
   },
   "outputs": [],
   "source": [
    "# datos:\n",
    "\n",
    "n = 100  # tamaño de la muestra\n",
    "media = 32000  # media muestral\n",
    "dt = 1500  # desviacion tipica de la muestra\n",
    "nc = 0.99  # nivel de confianza\n",
    "ns = 0.01  # nivel de significación\n"
   ]
  },
  {
   "cell_type": "markdown",
   "metadata": {},
   "source": [
    "Sabemos:\n",
    "\n",
    "1. Se trata de un problema de $\\mu$ desconocida y varianza conocida. \n",
    "1. Nos dicen que podemos aplicar el TCL, por lo que VA ~ N(µ,σ).\n",
    "    1. Se cumple que: **n grande**, **v.a. independientes**\n",
    "\n",
    "Con esta información podemos acotar la resolución del problema a: \n",
    "\n",
    "$$ IC(\\mu) = \\bar{x} ± Z_{\\frac{\\alpha}{2}} · \\frac{\\sigma}{\\sqrt{n}}$$\n",
    "\n"
   ]
  },
  {
   "cell_type": "code",
   "execution_count": 4,
   "metadata": {
    "collapsed": false
   },
   "outputs": [
    {
     "name": "stdout",
     "output_type": "stream",
     "text": [
      "INTERVALO DE CONFIANZA:\n"
     ]
    },
    {
     "data": {
      "text/latex": [
       "$ 31613.626 < \\bar{x} < 32386.374 $"
      ],
      "text/plain": [
       "<IPython.core.display.Latex object>"
      ]
     },
     "execution_count": 4,
     "metadata": {},
     "output_type": "execute_result"
    }
   ],
   "source": [
    "z = abs(st.norm(0,1).ppf(ns / 2))  # valor de la normal tipificada para alfa ½\n",
    "ic_inf = media - z * dt / np.sqrt(n)  # intervalo de confianza inferior\n",
    "ic_sup = media + z * dt / np.sqrt(n)  # intervalo de confianza superior\n",
    "\n",
    "print 'INTERVALO DE CONFIANZA:'\n",
    "Latex(r'$ %s < \\bar{x} < %s $'\n",
    "      % (round(ic_inf,3), round(ic_sup,3)))"
   ]
  },
  {
   "cell_type": "markdown",
   "metadata": {},
   "source": [
    "\n",
    "[INDICE ^](#INDICE)  - - - - - - - - - [APUNTES](#APUNTES)"
   ]
  },
  {
   "cell_type": "markdown",
   "metadata": {},
   "source": [
    " "
   ]
  },
  {
   "cell_type": "markdown",
   "metadata": {},
   "source": [
    " "
   ]
  },
  {
   "cell_type": "markdown",
   "metadata": {},
   "source": [
    " "
   ]
  },
  {
   "cell_type": "markdown",
   "metadata": {},
   "source": [
    " "
   ]
  },
  {
   "cell_type": "markdown",
   "metadata": {},
   "source": [
    "\n",
    "# PROBLEMA 2\n",
    "\n",
    "El fabricante de ciertos tubos fluorescentes afirma que tienen **una duración media de 5000 horas**, y así lo expresa en su propaganda. La Asociación de Consumidores ha recibido varias quejas sobre estos tubos, y decide encargar un estudio sobre el tema.\n",
    "\n",
    "Al tomar una **muestra de 145 tubos** de ese tipo, se encontró que la **duración media es de 4850** con una **desviación típica de 650 horas**. \n",
    "\n",
    "Obtener el intervalo de confianza a un **nivel del 95%** para la duración media real de los tubos. \n",
    "\n",
    "Con este resultado ¿qué postura tomará en el tema la Asociación de Consumidores?\n",
    "\n",
    "---\n",
    "- [INDICE ^](#INDICE)\n",
    "- [APUNTES](#APUNTES)"
   ]
  },
  {
   "cell_type": "code",
   "execution_count": 5,
   "metadata": {
    "collapsed": true
   },
   "outputs": [],
   "source": [
    "# datos:\n",
    "\n",
    "mu = 5000  # media poblacional\n",
    "n = 145  # tamaño de la muestra\n",
    "media = 4850  # media muestral\n",
    "dt = 650  # desviacion tipica\n",
    "nc = 0.95  # nivel de confianza\n",
    "ns = 1 - nc  # nivel de significacion"
   ]
  },
  {
   "cell_type": "markdown",
   "metadata": {},
   "source": [
    "SABEMOS:\n",
    "\n",
    "1. µ conocida\n",
    "1. σ desconocida\n",
    "1. n grande\n",
    "\n",
    "Con esta información, aplicando el TCL para normalidad, podemos calcular el IC:\n",
    "\n",
    "$$ \\bar{x} ± Z_{\\frac{\\alpha}{2}} · \\frac{S_1}{\\sqrt{n}} $$"
   ]
  },
  {
   "cell_type": "code",
   "execution_count": 6,
   "metadata": {
    "collapsed": false
   },
   "outputs": [
    {
     "data": {
      "text/latex": [
       "\n",
       "INTERVALO DE CONFIANZA: \n",
       "[$ 4743.84 < \\bar{x} < 4956.16$]"
      ],
      "text/plain": [
       "<IPython.core.display.Latex object>"
      ]
     },
     "execution_count": 6,
     "metadata": {},
     "output_type": "execute_result"
    }
   ],
   "source": [
    "z = st.norm(0,1).ppf(ns / 2)  # valor de z para el que deja una prob. de alfa ½\n",
    "s1 = np.sqrt(dt ** 2 * n / (n - 1))  # cuasi-desviación típica\n",
    "ee = s1 / np.sqrt(n)\n",
    "k = abs(z * ee)  # k (constante) = z * error estandar \n",
    "ic_inf = media - k\n",
    "ic_sup = media + k\n",
    "\n",
    "Latex(r'''\n",
    "INTERVALO DE CONFIANZA: \n",
    "[$ %s < \\bar{x} < %s$]''' \n",
    "      % (round(ic_inf, 2), round(ic_sup, 2)))"
   ]
  },
  {
   "cell_type": "markdown",
   "metadata": {},
   "source": [
    "### CONCLUSIÓN:\n",
    "\n",
    "La asosciación deberá denunciar ya que existe suficiente evidencia para aceptar la hipóstesis de que la media no es 5000 horas."
   ]
  },
  {
   "cell_type": "markdown",
   "metadata": {},
   "source": [
    " "
   ]
  },
  {
   "cell_type": "markdown",
   "metadata": {},
   "source": [
    "\n",
    "[INDICE ^](#INDICE)  - - - - - - - - - [APUNTES](#APUNTES)"
   ]
  },
  {
   "cell_type": "markdown",
   "metadata": {},
   "source": [
    " "
   ]
  },
  {
   "cell_type": "markdown",
   "metadata": {},
   "source": [
    " "
   ]
  },
  {
   "cell_type": "markdown",
   "metadata": {},
   "source": [
    " "
   ]
  },
  {
   "cell_type": "markdown",
   "metadata": {
    "collapsed": true
   },
   "source": [
    "\n",
    "# PROBLEMA 3\n",
    "\n",
    "Una muestra aleatoria de los **salarios por hora** para nueve mecánicos de automóviles proporcionó los siguientes datos (en dólares): 10,5, 11, 9,5, 12, 10, 11,5, 13, 9, 8,5. \n",
    "\n",
    "Bajo la suposición de que el muestreo se llevó a cabo sobre una **población normal**, construir intervalos de confianza a un **nivel del 95%** para los salarios medios por hora.\n",
    "\n",
    "---\n",
    "- [INDICE ^](#INDICE)\n",
    "- [APUNTES](#APUNTES)"
   ]
  },
  {
   "cell_type": "code",
   "execution_count": 7,
   "metadata": {
    "collapsed": true
   },
   "outputs": [],
   "source": [
    "# datos:\n",
    "x = [10.5, 11, 9.5, 12, 10, 11.5, 13, 9, 8.5]\n",
    "\n",
    "n = len(x)\n",
    "media = np.mean(x)\n",
    "var = np.var(x)\n",
    "s1 = np.sqrt(var * n / (n-1))\n",
    "nc = 95 / 100\n",
    "ns = 1 - nc"
   ]
  },
  {
   "cell_type": "markdown",
   "metadata": {},
   "source": [
    "SABEMOS:\n",
    "\n",
    "1. Población Normal\n",
    "1. Varianza desconocida\n",
    "1. n pequeño\n",
    "\n",
    "Por tanto, no podemos aplicar TCL, en cambio tenemos que usar la distribución t-student para poder aproximar:\n",
    "\n",
    "$$ IC(\\mu) = \\bar{x} ± t_{n-1,\\frac{\\alpha}{2}} · \\frac{S_1}{\\sqrt{n}} $$"
   ]
  },
  {
   "cell_type": "code",
   "execution_count": 8,
   "metadata": {
    "collapsed": false
   },
   "outputs": [
    {
     "data": {
      "text/latex": [
       "[ $9.43 < \\bar{x} < 11.68$ ]"
      ],
      "text/plain": [
       "<IPython.core.display.Latex object>"
      ]
     },
     "execution_count": 8,
     "metadata": {},
     "output_type": "execute_result"
    }
   ],
   "source": [
    "t = st.t.ppf(ns / 2, n - 1)  # valor de la t-student para alfa ½ y n-1\n",
    "ee = s1 / np.sqrt(n)  # error estandar\n",
    "\n",
    "ic_sup = media - t * ee  # intervalo de confianza superior\n",
    "ic_inf = media + t * ee  # intervalo de confianza inferior\n",
    "\n",
    "Latex(r'[ $%s < \\bar{x} < %s$ ]' % (round(ic_inf, 2), round(ic_sup, 2)))"
   ]
  },
  {
   "cell_type": "markdown",
   "metadata": {},
   "source": [
    "### ALTERNATIVAMENTE\n",
    "\n",
    "Podemos calcular el intervalo de confianza usando el método `interval()`"
   ]
  },
  {
   "cell_type": "code",
   "execution_count": 9,
   "metadata": {
    "collapsed": false
   },
   "outputs": [
    {
     "name": "stdout",
     "output_type": "stream",
     "text": [
      "IC(µ) = [  9.428  11.683]\n"
     ]
    }
   ],
   "source": [
    "print 'IC(µ) =', np.round(st.t.interval(0.95, n-1, loc=media, scale=ee), 3)"
   ]
  },
  {
   "cell_type": "markdown",
   "metadata": {},
   "source": [
    " \n"
   ]
  },
  {
   "cell_type": "markdown",
   "metadata": {},
   "source": [
    "\n",
    "[INDICE ^](#INDICE)  - - - - - - - - - [APUNTES](#APUNTES)"
   ]
  },
  {
   "cell_type": "markdown",
   "metadata": {},
   "source": [
    " "
   ]
  },
  {
   "cell_type": "markdown",
   "metadata": {},
   "source": [
    " "
   ]
  },
  {
   "cell_type": "markdown",
   "metadata": {},
   "source": [
    " "
   ]
  },
  {
   "cell_type": "markdown",
   "metadata": {},
   "source": [
    "# INTERVALO PARA LA PROPORCIÓN\n",
    "# PROBLEMA 4\n",
    "\n",
    "En una encuesta previa a las elecciones en las que hay dos candidatos, A y B, se ha tomado una **muestra aleatoria simple de 250 electores** que se suponen representativos de la población votante y se ha obtenido que **el 60% votarán al candidato A y el 40% al B.**\n",
    "\n",
    "Encontrar entre qué **límites estará la proporción** de votantes que se inclinan por el **candidato A**, a un nivel de **confianza del 95%**. \n",
    "\n",
    "¿Qué se concluye del intervalo?\n",
    "\n",
    "\n",
    "---\n",
    "- [INDICE ^](#INDICE)\n",
    "- [APUNTES](#APUNTES)"
   ]
  },
  {
   "cell_type": "code",
   "execution_count": 10,
   "metadata": {
    "collapsed": true
   },
   "outputs": [],
   "source": [
    "# DATOS:\n",
    "\n",
    "n = 250  # tamaño de la muestra\n",
    "pa = 0.6  # proporción de votantes de A\n",
    "pb = 0.4  # proporción de votantes de B\n",
    "nc = 0.95  # nivel de confianza\n",
    "ns = 1 - nc  # nivel de significación"
   ]
  },
  {
   "cell_type": "markdown",
   "metadata": {
    "collapsed": true
   },
   "source": [
    "SABEMOS:\n",
    "\n",
    "1. Tenemos todos los datos necesarios para aplicar la ecuación.\n",
    "\n",
    "$$ Z_{\\frac{\\alpha}{2}} = \\frac{ \\hat{p} - p}{ \\sqrt{ \\hat{p} · (1-\\hat{p}) }} · \\sqrt{n} $$\n",
    "\n",
    "Despejando **$p$**:\n",
    "\n",
    "$$IC(p) = \\hat{p} ± Z_{ \\frac{\\alpha}{2} } · \\frac{ \\sqrt{ \\hat{p} · (1 - \\hat{p} ) }}{ \\sqrt{n} }\n",
    "$$"
   ]
  },
  {
   "cell_type": "code",
   "execution_count": 11,
   "metadata": {
    "collapsed": false
   },
   "outputs": [
    {
     "name": "stdout",
     "output_type": "stream",
     "text": [
      "INTERVALO DE CONFIANZA PARA LA PROPORCIÓN DE A = (0.53927273702968026, 0.6607272629703197)\n"
     ]
    }
   ],
   "source": [
    "z = abs(st.norm.ppf(ns/2))\n",
    "ee = np.sqrt(pa * pb / n)\n",
    "\n",
    "ic = (pa - z * ee, pa + z * ee)\n",
    "print 'INTERVALO DE CONFIANZA PARA LA PROPORCIÓN DE A =', ic"
   ]
  },
  {
   "cell_type": "markdown",
   "metadata": {},
   "source": [
    "### CONCLUSIÓN\n",
    "Por tanto podemos afirmar que el __candidato A__ está __por delante del candidato B__, ya que con un 95% de probabilidad la proporción de votantes de A está entre 0.54 y 0.66.\n"
   ]
  },
  {
   "cell_type": "markdown",
   "metadata": {},
   "source": [
    "\n",
    "[INDICE ^](#INDICE)  - - - - - - - - - [APUNTES](#APUNTES)"
   ]
  },
  {
   "cell_type": "markdown",
   "metadata": {},
   "source": [
    " "
   ]
  },
  {
   "cell_type": "markdown",
   "metadata": {},
   "source": [
    " "
   ]
  },
  {
   "cell_type": "markdown",
   "metadata": {},
   "source": [
    " "
   ]
  },
  {
   "cell_type": "markdown",
   "metadata": {},
   "source": [
    "# PROBLEMA 5\n",
    "\n",
    "Se recibe un gran lote de artículos proveniente de un fabricante que asegura que el __porcentaje de artículos defectuosos__ en la producción __es del 1%.__ \n",
    "\n",
    "Al seleccionar una __muestra aleatoria de 200__ artículos y después de inspeccionarlos, se __descubren 8 defectuosos__. \n",
    "\n",
    "Obtener el intervalo de confianza con un __nivel del 90%__ para la verdadera proporción de artículos defectuosos en el proceso. \n",
    "\n",
    "¿Qué se puede concluir con respecto a la afirmación del fabricante?\n",
    "\n",
    "---\n",
    "- [INDICE ^](#INDICE)\n",
    "- [APUNTES](#APUNTES)"
   ]
  },
  {
   "cell_type": "code",
   "execution_count": 12,
   "metadata": {
    "collapsed": true
   },
   "outputs": [],
   "source": [
    "# DATOS:\n",
    "\n",
    "ppd = 0.01  # proporcion POBLACIONAL de defectuosos\n",
    "pmd = 8 / 200  # proporcion MUESRTAL de defectuosos\n",
    "nc = 0.9  # nivel de confianza\n"
   ]
  },
  {
   "cell_type": "markdown",
   "metadata": {},
   "source": [
    "SABEMOS:\n",
    "\n",
    "1. Desconocemos la distribución\n",
    "1. n grande\n",
    "    1. Aplicamos el TCL para __suponer normalidad__\n",
    "\n",
    "$$ IC(p) = \\hat{p} ± Z_{\\frac{\\alpha}{2}} · \\sqrt{\\frac{\\hat{p}·(1-\\hat{p})}{n}}  $$"
   ]
  },
  {
   "cell_type": "code",
   "execution_count": 13,
   "metadata": {
    "collapsed": false
   },
   "outputs": [
    {
     "data": {
      "text/plain": [
       "(0.019614429746777854, 0.060385570253222137)"
      ]
     },
     "execution_count": 13,
     "metadata": {},
     "output_type": "execute_result"
    }
   ],
   "source": [
    "ee = np.sqrt(pmd * (1 - pmd) / n)\n",
    "\n",
    "st.norm.interval(nc, loc=pmd, scale=ee)"
   ]
  },
  {
   "cell_type": "markdown",
   "metadata": {},
   "source": [
    "### CONCLUSIÓN\n",
    "Vemos que la proporción está fuera del IC para la proporción, esto es evidencia para afirmar que el proveedor está equivocado o miente."
   ]
  },
  {
   "cell_type": "markdown",
   "metadata": {},
   "source": [
    "\n",
    "[INDICE ^](#INDICE)  - - - - - - - - - [APUNTES](#APUNTES)"
   ]
  },
  {
   "cell_type": "markdown",
   "metadata": {},
   "source": [
    " "
   ]
  },
  {
   "cell_type": "markdown",
   "metadata": {},
   "source": [
    " "
   ]
  },
  {
   "cell_type": "markdown",
   "metadata": {},
   "source": [
    " "
   ]
  },
  {
   "cell_type": "markdown",
   "metadata": {},
   "source": [
    " "
   ]
  },
  {
   "cell_type": "markdown",
   "metadata": {},
   "source": [
    "# INTERVALO PARA LA VARIANZA\n",
    "# PROBLEMA 6\n",
    "\n",
    "Un fabricante de relojes desea calcular un intervalo de confianza de la **desviación típica de los tiempos marcados en 100 horas** por todos los relojes del mismo modelo con respecto a un reloj que toma como referencia. Para ello, puso en **marcha 11** de tales relojes escogidos **al azar** durante **100 horas** y encontró que la **desviación típica muestral** de los once tiempos marcados por ellos **fue de 50 segundos**.\n",
    "\n",
    "Hallar un intervalo de confianza de la desviación típica a un **nivel del 99%**, suponiendo que la población de los tiempos marcados por todos los relojes del mismo modelo en **100 horas obedece a la distribución normal.**\n",
    "\n",
    "----\n",
    "- [INDICE ^](#INDICE)\n",
    "- [APUNTES](#APUNTES)"
   ]
  },
  {
   "cell_type": "code",
   "execution_count": 14,
   "metadata": {
    "collapsed": true
   },
   "outputs": [],
   "source": [
    "# Datos:\n",
    "\n",
    "# x = La hora que marcan los relojes ~ N(µ,σ) \n",
    "# muestra = 11 >> x_i ~ N(100 * 60 ,50)\n",
    "\n",
    "n = 11  # tamaño de la muestra\n",
    "media = 100  # media muestral\n",
    "dt = 50 / 60  # desviación típica muestral\n",
    "nc = 0.99  # nivel de confianza\n",
    "ns = 1 - nc  # nivel de significación\n"
   ]
  },
  {
   "cell_type": "markdown",
   "metadata": {},
   "source": [
    "SABEMOS:\n",
    "\n",
    "1. Distribución Normal\n",
    "1. Muestra pequeña = 11\n",
    "1. desviación típica muestral = 50 seg (50/60 horas)\n",
    "1. media muestral = 100 horas\n",
    "1. Nivel de confianza = 99%\n",
    "1. Unidades HORAS **(! cuidado con las unidades)**\n",
    "1. NOS PIDEN EL IC DE LA __DESVIACIÓN TÍPICA POBLACIONAL__"
   ]
  },
  {
   "cell_type": "markdown",
   "metadata": {},
   "source": [
    "### Para calcular los intervalos necesitamos:\n",
    "\n",
    "$$ \\chi^2_{n-1 ; \\frac{\\alpha}{2}} = \\frac{(n-1) · S_1^2}{\\sigma^2} $$\n",
    "\n",
    "### Despejando:\n",
    "\n",
    "$$ IC(σ^2) =  \\frac{(n-1)·S_1^2}{\\chi^2_{(n-1), 1-\\frac{\\alpha}{2}}}, \\frac{(n-1)·S_1^2}{\\chi^2_{(n-1), \\frac{\\alpha}{2}}}  $$\n",
    "\n"
   ]
  },
  {
   "cell_type": "code",
   "execution_count": 15,
   "metadata": {
    "collapsed": false
   },
   "outputs": [
    {
     "name": "stdout",
     "output_type": "stream",
     "text": [
      "IC(σ) = (33.04, 112.94)\n"
     ]
    }
   ],
   "source": [
    "s1 = np.sqrt(dt ** 2 * n / (n - 1))\n",
    "\n",
    "numerador = (n - 1) * s1 ** 2\n",
    "\n",
    "ic_sup = numerador / st.chi2.ppf(ns / 2, n-1)\n",
    "ic_inf = numerador / st.chi2.ppf(q=1 - ns / 2, df=n-1)\n",
    "\n",
    "# OJO CON LAS UNIDADES\n",
    "# los intervalos son para la varianza poblacional por tanto:\n",
    "\n",
    "ic_sup = np.sqrt(ic_sup)\n",
    "ic_inf = np.sqrt(ic_inf)\n",
    "\n",
    "# las unidades las pasamos a horas por tanto las llevamos a segundos:\n",
    "\n",
    "ic_sup *= 60\n",
    "ic_inf *= 60\n",
    "\n",
    "print 'IC(σ) =', (round(ic_inf,2), round(ic_sup,2))"
   ]
  },
  {
   "cell_type": "markdown",
   "metadata": {},
   "source": [
    " ## ALTERNATIVAMENTE"
   ]
  },
  {
   "cell_type": "code",
   "execution_count": 16,
   "metadata": {
    "collapsed": false
   },
   "outputs": [
    {
     "name": "stdout",
     "output_type": "stream",
     "text": [
      "IC(σ) = [  33.042  112.942]\n"
     ]
    }
   ],
   "source": [
    "print 'IC(σ) =', np.round(sorted(np.sqrt(np.divide(numerador,st.chi2.interval(alpha=nc, df=n-1)))*60), 3)"
   ]
  },
  {
   "cell_type": "markdown",
   "metadata": {},
   "source": [
    "\n",
    "[INDICE ^](#INDICE)  - - - - - - - - - [APUNTES](#APUNTES)"
   ]
  },
  {
   "cell_type": "markdown",
   "metadata": {},
   "source": [
    " "
   ]
  },
  {
   "cell_type": "markdown",
   "metadata": {},
   "source": [
    " "
   ]
  },
  {
   "cell_type": "markdown",
   "metadata": {},
   "source": [
    " "
   ]
  },
  {
   "cell_type": "markdown",
   "metadata": {},
   "source": [
    "# PROBLEMA 7\n",
    "\n",
    "Una clínica ofrece un programa de adelgazamiento. Según sus historiales, una __muestra aleatoria de 10 pacientes__ había experimentado las siguientes pérdidas de peso (en Kg) al término del programa:\n",
    "\n",
    "x = [18.2, 25.9, 6.3, 11.8, 15.4, 20.3, 16.8, 19.5, 12.3, 17.2]\n",
    "\n",
    "__Hallar un intervalo de confianza al 90%__ de la __desviación típica poblacional__ de las __pérdidas de peso__ de los clientes de este programa de adelgazamiento. \n",
    "\n",
    "- ¿Cuáles son __los supuestos__, si los hay, para estimar este intervalo? \n",
    "- ¿Podría decirse que dicha __desviación es superior a 2 Kg__? \n",
    "\n",
    "---\n",
    "- [INDICE ^](#INDICE)\n",
    "- [APUNTES](#APUNTES)"
   ]
  },
  {
   "cell_type": "code",
   "execution_count": 17,
   "metadata": {
    "collapsed": false
   },
   "outputs": [],
   "source": [
    "# DATOS:\n",
    "# x = Perdida de peso en kg \n",
    "\n",
    "n = 10  # tamaño muestral\n",
    "x = [18.2, 25.9, 6.3, 11.8, 15.4, 20.3, 16.8, 19.5, 12.3, 17.2]\n",
    "nc = 0.9"
   ]
  },
  {
   "cell_type": "markdown",
   "metadata": {},
   "source": [
    "SABEMOS: \n",
    "\n",
    "1. Tamaño muestral pequeño.\n",
    "1. No sabemos la distribución que sigue la población.\n",
    "\n",
    "### Nos Piden:\n",
    "\n",
    "Para poder estimar el intervalo se debe cumplir:\n",
    "\n",
    "- m.a.s\n",
    "    - independencia\n",
    "- VA: X ~ N(µ,σ)\n",
    "    - Muestra de poblacion normal\n",
    "    - n grande: TCL\n",
    "\n",
    "Con esto garantizamos el cumplimiento del intervalo.\n",
    "\n",
    "Para calcular el IC(σ^2):\n",
    "\n",
    "$$  \\frac{(n-1)·S_1^2}{\\chi^2_{(n-1), 1-\\frac{\\alpha}{2}}}, \\frac{(n-1)·S_1^2}{\\chi^2_{(n-1), \\frac{\\alpha}{2}}}  $$"
   ]
  },
  {
   "cell_type": "code",
   "execution_count": 18,
   "metadata": {
    "collapsed": false
   },
   "outputs": [
    {
     "name": "stdout",
     "output_type": "stream",
     "text": [
      "[3.920732885572868, 8.8440485699319975]\n"
     ]
    }
   ],
   "source": [
    "# IC para la desviacion tipica\n",
    "# confirmar si la dt > 2 kg\n",
    "s1 = np.sqrt(np.var(x) * n / (n - 1))  # cuasidesviacion tipica\n",
    "numerador = (n - 1) * s1 ** 2  # numerador del cociente del intervalo de confianza\n",
    "\n",
    "print sorted(np.sqrt(np.divide(numerador,st.chi2.interval(df=(n-1), alpha=nc))))"
   ]
  },
  {
   "cell_type": "markdown",
   "metadata": {},
   "source": [
    "### CONCLUSIÓN\n",
    "\n",
    "Dado que el intervalo de confianza es estrictamente mayor que 2, podemos afirmar con un nivel de confianza del 90% que la desviación típica es mayor que 2."
   ]
  },
  {
   "cell_type": "markdown",
   "metadata": {},
   "source": [
    "- [INDICE ^](#INDICE)\n",
    "- [APUNTES](#APUNTES)"
   ]
  },
  {
   "cell_type": "markdown",
   "metadata": {},
   "source": [
    " "
   ]
  },
  {
   "cell_type": "markdown",
   "metadata": {},
   "source": [
    " "
   ]
  },
  {
   "cell_type": "markdown",
   "metadata": {},
   "source": [
    " "
   ]
  },
  {
   "cell_type": "markdown",
   "metadata": {},
   "source": [
    " "
   ]
  },
  {
   "cell_type": "markdown",
   "metadata": {},
   "source": [
    "# PROBLEMA 8\n",
    "\n",
    "Un psicólogo quiere __estimar la desviación típica__ de las puntuaciones obtenidas por los empleados en un test. Una __muestra aleatoria de 18 empleados__ dio como resultado una __cuasidesviación típica de 10,4__. \n",
    "\n",
    "Hallar un intervalo de confianza del 95% para la desviación típica poblacional. \n",
    "\n",
    "- ¿Cuáles son los supuestos, si los hay, para estimar este intervalo? \n",
    "- El año pasado se concluyó que dicha __desviación típica era igual a 15__. A partir del intervalo calculado, ¿puede decirse que se ha incrementado __el grado de homogeneidad__ de los empleados? \n",
    "\n",
    "\n",
    "---\n",
    "- [INDICE ^](#INDICE)\n",
    "- [APUNTES](#APUNTES)"
   ]
  },
  {
   "cell_type": "markdown",
   "metadata": {},
   "source": [
    "Sabemos que para calcular el IC(σ^2):\n",
    "\n",
    "$$  \\frac{(n-1)·S_1^2}{\\chi^2_{(n-1), 1-\\frac{\\alpha}{2}}}, \\frac{(n-1)·S_1^2}{\\chi^2_{(n-1), \\frac{\\alpha}{2}}}  $$"
   ]
  },
  {
   "cell_type": "code",
   "execution_count": 19,
   "metadata": {
    "collapsed": false
   },
   "outputs": [
    {
     "name": "stdout",
     "output_type": "stream",
     "text": [
      "[7.8040309896560753, 15.591097497603753]\n",
      "[7.8, 15.59]\n",
      "σ = 11.695\n"
     ]
    }
   ],
   "source": [
    "# datos:\n",
    "\n",
    "n = 18\n",
    "s1 = 10.4\n",
    "s1_anterior = 15 ** 2 * n / (n - 1)\n",
    "nc = 95/100\n",
    "alpha = 1 - nc\n",
    "numerador = (n - 1) * s1 ** 2\n",
    "numerador_ant = (n - 1) * s1_anterior ** 2\n",
    "\n",
    "print sorted(np.sqrt((numerador / st.chi2.ppf(df=n-1, q=alpha/2), numerador / st.chi2.ppf(df=n-1, q=1-alpha/2))))\n",
    "print map(lambda x: round(x,2),sorted(np.sqrt(np.divide(numerador, st.chi2.interval(alpha=nc, df=n-1)))))\n",
    "print u'σ =', np.mean(map(lambda x: round(x,2),sorted(np.sqrt(np.divide(numerador, st.chi2.interval(alpha=nc, df=n-1))))))"
   ]
  },
  {
   "cell_type": "markdown",
   "metadata": {},
   "source": [
    "Los supuestos para estimar este intervalo son:\n",
    "\n",
    "1. m.a.s.\n",
    "    - independencia\n",
    "1. Normalidad de la población\n",
    "\n",
    "Para poder decir si se ha incrementado el grado de homogeneidad de los empleados, debemos comparar ambas estimaciones puntuales.\n",
    "\n",
    "Hay que tener en cuenta que nos dicen que la desviación típica del año anterior fue de 15, dado que 15 se encuentra dentro del intervalo de confianza para un nivel de confianza del 95%, __no podemos afirmar que se haya incrementado el grado de homogeneidad.__\n"
   ]
  },
  {
   "cell_type": "markdown",
   "metadata": {},
   "source": [
    "- [INDICE ^](#INDICE)\n",
    "- [APUNTES](#APUNTES)"
   ]
  },
  {
   "cell_type": "markdown",
   "metadata": {},
   "source": [
    " "
   ]
  },
  {
   "cell_type": "markdown",
   "metadata": {},
   "source": [
    " "
   ]
  },
  {
   "cell_type": "markdown",
   "metadata": {},
   "source": [
    " "
   ]
  },
  {
   "cell_type": "markdown",
   "metadata": {},
   "source": [
    "# PROBLEMAS VARIOS\n",
    "\n",
    "# PROBLEMA 9\n",
    "\n",
    "Se realiza un test a un grupo de alumnos __escogidos al azar__ y se mide el __número de respuestas correctas__, siendo los resultados: \n",
    "\n",
    "resultados = [74, 65, 59, 82, 60, 68, 72, 69, 71, 86, 44, 59]\n",
    "\n",
    "__Construir sendos intervalos de confianza__, para un __nivel del 95%__, para la __media__ y __la varianza__ de la población de alumnos. \n",
    "\n",
    "__Suponer normalidad__ en la distribución del número de respuestas. \n",
    "\n",
    "\n",
    "---\n",
    "- [INDICE ^](#INDICE)\n",
    "- [APUNTES](#APUNTES)\n",
    "\n",
    "\n",
    "### RECORDAR:\n",
    "\n",
    "$$ IC(\\mu) = \\bar{x} ± t_{n-1,\\frac{\\alpha}{2}} · \\frac{S_1}{\\sqrt{n}} $$\n",
    "\n",
    "$$ IC(σ^2) =  \\frac{(n-1)·S_1^2}{\\chi^2_{(n-1), 1-\\frac{\\alpha}{2}}}, \\frac{(n-1)·S_1^2}{\\chi^2_{(n-1), \\frac{\\alpha}{2}}}  $$"
   ]
  },
  {
   "cell_type": "code",
   "execution_count": 20,
   "metadata": {
    "collapsed": false
   },
   "outputs": [
    {
     "name": "stdout",
     "output_type": "stream",
     "text": [
      "IC(µ) = [60.28, 74.56]\n",
      "IC(σ) = [63.36, 364.0]\n"
     ]
    }
   ],
   "source": [
    "# datos: \n",
    "\n",
    "resultados = [74, 65, 59, 82, 60, 68, 72, 69, 71, 86, 44, 59]\n",
    "nc = 95/100\n",
    "\n",
    "n = len(resultados)\n",
    "media = np.mean(resultados)\n",
    "var = np.var(resultados)\n",
    "\n",
    "s1 = np.sqrt(var * n / (n - 1))\n",
    "ee = s1 / np.sqrt(n)\n",
    "\n",
    "numerador = (n - 1) * s1 ** 2\n",
    "\n",
    "print u'IC(µ) =', map(lambda x: round(x,2), \n",
    "                      st.t.interval(alpha=nc, df=n-1, loc=media, scale=ee))\n",
    "print u'IC(σ) =', map(lambda x: round(x,2), \n",
    "                      sorted(np.divide(numerador, st.chi2.interval(df=n-1,alpha=nc))))"
   ]
  },
  {
   "cell_type": "markdown",
   "metadata": {},
   "source": [
    " "
   ]
  },
  {
   "cell_type": "markdown",
   "metadata": {},
   "source": [
    "- [INDICE ^](#INDICE)\n",
    "- [APUNTES](#APUNTES)"
   ]
  },
  {
   "cell_type": "markdown",
   "metadata": {},
   "source": [
    " "
   ]
  },
  {
   "cell_type": "markdown",
   "metadata": {},
   "source": [
    " "
   ]
  },
  {
   "cell_type": "markdown",
   "metadata": {},
   "source": [
    " "
   ]
  },
  {
   "cell_type": "markdown",
   "metadata": {},
   "source": [
    " "
   ]
  },
  {
   "cell_type": "markdown",
   "metadata": {},
   "source": [
    "# PROBLEMA 10\n",
    "\n",
    "La Cámara de Comercio de una ciudad está interesada en __estimar la cantidad media de dinero que gasta una persona__ que asiste a convenciones por día. \n",
    "\n",
    "De las distintas convenciones que se llevan a cabo en la ciudad, se __seleccionaron al azar a 16 personas__ y se les preguntó la cantidad que gastaban por día. Se obtuvo la siguiente información (en euros) \n",
    "\n",
    "gasto = [150, 175, 163, 148, 142, 189, 135, 174, 168, 152, 158, 184, 134, 146, 155, 163]\n",
    "\n",
    "Si se supone que la cantidad de dinero gastado en un día es una__v.a. normal__, __obtener el intervalo de confianza a un nivel del 99%__ para la cantidad media real. \n",
    "\n",
    "¿Se puede suponer que dicha cantidad es __superior a 150 euros__? \n",
    "\n",
    "\n",
    "---\n",
    "- [INDICE ^](#INDICE)\n",
    "- [APUNTES](#APUNTES)"
   ]
  },
  {
   "cell_type": "code",
   "execution_count": 21,
   "metadata": {
    "collapsed": false
   },
   "outputs": [
    {
     "name": "stdout",
     "output_type": "stream",
     "text": [
      "IC(µ) = [146.41, 170.59]\n"
     ]
    }
   ],
   "source": [
    "# datos:\n",
    "\n",
    "gasto = [150, 175, 163, 148, 142, 189, 135, 174, 168, 152, 158, 184, 134, 146, 155, 163]\n",
    "\n",
    "n = len(gasto)\n",
    "media = np.mean(gasto)\n",
    "var = np.var(gasto)\n",
    "s1 = np.sqrt(var * n / (n - 1))\n",
    "ee = s1 / np.sqrt(n)\n",
    "nc = 99/100\n",
    "\n",
    "print 'IC(µ) =', map(lambda x: round(x,2),st.t.interval(df=n-1, alpha=nc, loc=media, scale=ee))\n"
   ]
  },
  {
   "cell_type": "markdown",
   "metadata": {},
   "source": [
    "### CONCLUSIÓN:\n",
    "\n",
    "Dado que en el IC hay valores menores que 150 no podemos suponer que dicha cantidad es superior para un nivel de confianza del 99%. "
   ]
  },
  {
   "cell_type": "markdown",
   "metadata": {},
   "source": [
    "- [INDICE ^](#INDICE)\n",
    "- [APUNTES](#APUNTES)"
   ]
  },
  {
   "cell_type": "markdown",
   "metadata": {},
   "source": [
    " "
   ]
  },
  {
   "cell_type": "markdown",
   "metadata": {},
   "source": [
    " "
   ]
  },
  {
   "cell_type": "markdown",
   "metadata": {},
   "source": [
    "# PROBLEMA 11\n",
    "\n",
    "En una __muestra aleatoria simple de 147 directores__ de recursos humanos que examinaban a los candidatos para las ofertas de trabajo de la empresa, __85 afirmaron que el expediente académico jugaba un papel fundamental__ para la contratación. \n",
    "\n",
    "__Calcula el intervalo de confianza al 95% para la proporción poblacional__ de directores de recursos humanos que comparten esa opinión. \n",
    "\n",
    "\n",
    "---\n",
    "- [INDICE ^](#INDICE)\n",
    "- [APUNTES](#APUNTES)"
   ]
  },
  {
   "cell_type": "code",
   "execution_count": 22,
   "metadata": {
    "collapsed": false
   },
   "outputs": [
    {
     "name": "stdout",
     "output_type": "stream",
     "text": [
      "IC(p) = [ 0.498  0.658]\n"
     ]
    }
   ],
   "source": [
    "# datos:\n",
    "\n",
    "n = 147\n",
    "pa = 85/147\n",
    "nc = 95/100\n",
    "\n",
    "ee = np.sqrt(pa * (1 - pa) / n)\n",
    "\n",
    "print 'IC(p) =', np.round(st.norm.interval(alpha=nc, loc=pa, scale=ee), 3)"
   ]
  },
  {
   "cell_type": "markdown",
   "metadata": {},
   "source": [
    " "
   ]
  },
  {
   "cell_type": "markdown",
   "metadata": {},
   "source": [
    "- [INDICE ^](#INDICE)\n",
    "- [APUNTES](#APUNTES)"
   ]
  },
  {
   "cell_type": "markdown",
   "metadata": {},
   "source": [
    " "
   ]
  },
  {
   "cell_type": "markdown",
   "metadata": {},
   "source": [
    " "
   ]
  },
  {
   "cell_type": "markdown",
   "metadata": {},
   "source": [
    " "
   ]
  },
  {
   "cell_type": "markdown",
   "metadata": {},
   "source": [
    " "
   ]
  },
  {
   "cell_type": "markdown",
   "metadata": {},
   "source": [
    "# PROBLEMA 12\n",
    "\n",
    "En un estudio sobre creación de empresas se ha obtenido que en el último año __se crearon 150 empresas__ y __32 de ellas tuvieron que cerrar antes del primer año__. \n",
    "\n",
    "__Calcula un intervalo de confianza a un nivel del 99% para la proporción real__ de empresas nuevas que tienen que cerrar antes del primer año. \n",
    "\n",
    "\n",
    "---\n",
    "- [INDICE ^](#INDICE)\n",
    "- [APUNTES](#APUNTES)"
   ]
  },
  {
   "cell_type": "code",
   "execution_count": 23,
   "metadata": {
    "collapsed": false
   },
   "outputs": [
    {
     "name": "stdout",
     "output_type": "stream",
     "text": [
      "IC(p) = [ 0.127  0.299]\n"
     ]
    }
   ],
   "source": [
    "# datos:\n",
    "\n",
    "n = 150\n",
    "pa = 32 / n\n",
    "nc = 99/100\n",
    "\n",
    "ee = np.sqrt(pa * (1 - pa) / n)\n",
    "\n",
    "print 'IC(p) =', np.round(st.norm.interval(alpha=nc, loc=pa, scale=ee), 3)"
   ]
  },
  {
   "cell_type": "markdown",
   "metadata": {},
   "source": [
    " "
   ]
  },
  {
   "cell_type": "markdown",
   "metadata": {},
   "source": [
    "- [INDICE ^](#INDICE)\n",
    "- [APUNTES](#APUNTES)"
   ]
  },
  {
   "cell_type": "markdown",
   "metadata": {},
   "source": [
    " "
   ]
  },
  {
   "cell_type": "markdown",
   "metadata": {},
   "source": [
    " "
   ]
  },
  {
   "cell_type": "markdown",
   "metadata": {},
   "source": [
    " "
   ]
  },
  {
   "cell_type": "markdown",
   "metadata": {},
   "source": [
    " "
   ]
  },
  {
   "cell_type": "markdown",
   "metadata": {},
   "source": [
    "# PROBLEMA 13\n",
    "\n",
    "__La rentabilidad diaria__ de un activo financiero que cotiza en la Bolsa de Madrid se puede explicar mediante una__ variable normal__. Se ha estudiado su rentabilidad durante__ 101 días __y se ha obtenido un __rendimiento medio del 0,75%__ con una __cuasidesviación típica de 1,23%__. \n",
    "\n",
    "__Calcula los intervalos de confianza a un nivel del 95%__ para la rentabilidad __media real__ del activo y para su __riesgo de inversión__ (varianza real de la rentabilidad).\n",
    "\n",
    "---\n",
    "- [INDICE ^](#INDICE)\n",
    "- [APUNTES](#APUNTES)"
   ]
  },
  {
   "cell_type": "code",
   "execution_count": 24,
   "metadata": {
    "collapsed": false
   },
   "outputs": [
    {
     "name": "stdout",
     "output_type": "stream",
     "text": [
      "IC(µ) = [ 0.51  0.99]\n",
      "IC(σ) = [ 1.168  2.038]\n"
     ]
    }
   ],
   "source": [
    "# datos:\n",
    "\n",
    "n = 101\n",
    "media = 0.75/100\n",
    "s1 = 1.23 / 100\n",
    "nc = 95/100\n",
    "\n",
    "ee = s1 / np.sqrt(n)\n",
    "numerador = (n - 1) * s1 ** 2\n",
    "\n",
    "print 'IC(µ) =', np.round(np.multiply(st.norm.interval(alpha=nc, \n",
    "                                                       loc=media, \n",
    "                                                       scale=ee), 100), 3)\n",
    "print 'IC(σ) =', np.round(sorted(np.divide(numerador, \n",
    "                                           st.chi2.interval(df=n-1, \n",
    "                                                            alpha=nc)) * 100 ** 2), 3)\n"
   ]
  },
  {
   "cell_type": "markdown",
   "metadata": {},
   "source": [
    " "
   ]
  },
  {
   "cell_type": "markdown",
   "metadata": {},
   "source": [
    "- [INDICE ^](#INDICE)\n",
    "- [APUNTES](#APUNTES)"
   ]
  },
  {
   "cell_type": "markdown",
   "metadata": {},
   "source": [
    " "
   ]
  },
  {
   "cell_type": "markdown",
   "metadata": {},
   "source": [
    "# PROBLEMA 14\n",
    "\n",
    "Sabemos que la__ desviación típica__ del consumo diario de energía de una empresa __es de 200 kW/h__. Se ha observado el __consumo de energía durante 45 días__ y se ha calculado que el __consumo medio diario ha sido 2156 kW/h.__\n",
    "\n",
    "__Calcula el intervalo de confianza a un nivel del 90%__ para el consumo diario __medio__ real de la empresa.\n",
    "\n",
    "\n",
    "---\n",
    "- [INDICE ^](#INDICE)\n",
    "- [APUNTES](#APUNTES)"
   ]
  },
  {
   "cell_type": "code",
   "execution_count": 25,
   "metadata": {
    "collapsed": false
   },
   "outputs": [
    {
     "name": "stdout",
     "output_type": "stream",
     "text": [
      "IC(µ) = [ 2106.406  2205.594]\n"
     ]
    }
   ],
   "source": [
    "# datos:\n",
    "\n",
    "dt = 200\n",
    "n = 45\n",
    "media = 2156\n",
    "nc = 90/100\n",
    "s1 = np.sqrt(200 ** 2 * n / (n - 1))\n",
    "ee = s1 / np.sqrt(n)\n",
    "\n",
    "print 'IC(µ) =', np.round(st.norm.interval(alpha=nc, loc=media, scale=ee), 3)"
   ]
  },
  {
   "cell_type": "markdown",
   "metadata": {},
   "source": [
    " "
   ]
  },
  {
   "cell_type": "markdown",
   "metadata": {},
   "source": [
    "- [INDICE ^](#INDICE)\n",
    "- [APUNTES](#APUNTES)"
   ]
  },
  {
   "cell_type": "markdown",
   "metadata": {},
   "source": [
    " "
   ]
  },
  {
   "cell_type": "markdown",
   "metadata": {},
   "source": [
    " "
   ]
  },
  {
   "cell_type": "markdown",
   "metadata": {},
   "source": [
    " "
   ]
  },
  {
   "cell_type": "markdown",
   "metadata": {},
   "source": [
    "# PROBLEMA 15\n",
    "\n",
    "El __índice de productividad de los trabajadores__ de una empresa se puede explicar mediante una __variable aleatoria normal__ con __desviación típica 12__. Se han __elegido al azar a 10 trabajadores__ y __el índice medio ha sido 78__. \n",
    "\n",
    "__Con un nivel de confianza del 95% estima con un intervalo el índice medio real__ de productividad de los trabajadores de la empresa. \n",
    "\n",
    "\n",
    "---\n",
    "- [INDICE ^](#INDICE)\n",
    "- [APUNTES](#APUNTES)"
   ]
  },
  {
   "cell_type": "code",
   "execution_count": 26,
   "metadata": {
    "collapsed": false
   },
   "outputs": [
    {
     "name": "stdout",
     "output_type": "stream",
     "text": [
      "IC(µ) = [ 70.16  85.84]\n"
     ]
    }
   ],
   "source": [
    "# datos:\n",
    "\n",
    "dt = 12\n",
    "n = 10\n",
    "media = 78\n",
    "nc = 95/100\n",
    "s1 = np.sqrt(dt ** 2 * n / (n - 1))\n",
    "ee = s1 / np.sqrt(n)\n",
    "\n",
    "print 'IC(µ) =', np.round(st.norm.interval(alpha=nc, loc=media, scale=ee), 3)"
   ]
  },
  {
   "cell_type": "markdown",
   "metadata": {},
   "source": [
    " "
   ]
  },
  {
   "cell_type": "markdown",
   "metadata": {},
   "source": [
    "- [INDICE ^](#INDICE)\n",
    "- [APUNTES](#APUNTES)"
   ]
  },
  {
   "cell_type": "markdown",
   "metadata": {},
   "source": [
    " "
   ]
  },
  {
   "cell_type": "markdown",
   "metadata": {},
   "source": [
    " "
   ]
  },
  {
   "cell_type": "markdown",
   "metadata": {},
   "source": [
    "# PROBLEMA 16\n",
    "\n",
    "Una empresa de alquiler de vehículos quiere conocer el __número medio de días que permanece un automóvil en el taller de reparaciones durante un año__. Se han __observado 9 coches__ y el número de días en el taller ha sido: \n",
    "\n",
    "media = [5, 12, 10, 19, 15, 8, 25, 17 y 14]\n",
    "\n",
    "__Especifica qué condiciones son necesarias__ para estimar mediante un intervalo de confianza el número medio real de días en un año que pasa un vehículo en el taller. __Calcula dicha estimación__ para un nivel de __confianza del 95%.__\n",
    "\n",
    "---\n",
    "- [INDICE ^](#INDICE)\n",
    "- [APUNTES](#APUNTES)"
   ]
  },
  {
   "cell_type": "code",
   "execution_count": 27,
   "metadata": {
    "collapsed": false
   },
   "outputs": [
    {
     "name": "stdout",
     "output_type": "stream",
     "text": [
      "IC(µ) = [  9.238  18.54 ]\n"
     ]
    }
   ],
   "source": [
    "n = 9\n",
    "x = [5, 12, 10, 19, 15, 8, 25, 17, 14]\n",
    "media = np.mean(x)\n",
    "var = np.var(x)\n",
    "s1 = np.sqrt(var * n / (n - 1))\n",
    "ee = s1 / np.sqrt(n)\n",
    "\n",
    "print 'IC(µ) =', np.round(st.t.interval(df=n-1, alpha=nc, loc=media, scale=ee),3)"
   ]
  },
  {
   "cell_type": "markdown",
   "metadata": {},
   "source": [
    "Para poder calcular el intervalo es necesario que la distribución siga una normal, dado que el tamaño de la muestra es pequeño (No se puede aplicar TCL)."
   ]
  },
  {
   "cell_type": "markdown",
   "metadata": {},
   "source": [
    "- [INDICE ^](#INDICE)\n",
    "- [APUNTES](#APUNTES)"
   ]
  },
  {
   "cell_type": "markdown",
   "metadata": {},
   "source": [
    " "
   ]
  }
 ],
 "metadata": {
  "kernelspec": {
   "display_name": "Python 2",
   "language": "python",
   "name": "python2"
  },
  "language_info": {
   "codemirror_mode": {
    "name": "ipython",
    "version": 2
   },
   "file_extension": ".py",
   "mimetype": "text/x-python",
   "name": "python",
   "nbconvert_exporter": "python",
   "pygments_lexer": "ipython2",
   "version": "2.7.9"
  }
 },
 "nbformat": 4,
 "nbformat_minor": 0
}
